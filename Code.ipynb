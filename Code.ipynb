{
  "nbformat": 4,
  "nbformat_minor": 0,
  "metadata": {
    "colab": {
      "name": "Final_Code.ipynb",
      "provenance": [],
      "collapsed_sections": [
        "fKVq0zU6VEMV",
        "UPSfUOM78i3C",
        "B-C8LqOZEspB",
        "Tfyax5tmgTet",
        "KOVcGEa21vLP",
        "0BlVBMkp0WS_",
        "-fMJC3HT2P7c",
        "imZNiE5agoec"
      ],
      "include_colab_link": true
    },
    "kernelspec": {
      "name": "python3",
      "display_name": "Python 3"
    }
  },
  "cells": [
    {
      "cell_type": "markdown",
      "metadata": {
        "id": "view-in-github",
        "colab_type": "text"
      },
      "source": [
        "<a href=\"https://colab.research.google.com/github/Utkarshp1/Spoiler-Detection-in-Movie-Review/blob/master/Code.ipynb\" target=\"_parent\"><img src=\"https://colab.research.google.com/assets/colab-badge.svg\" alt=\"Open In Colab\"/></a>"
      ]
    },
    {
      "cell_type": "code",
      "metadata": {
        "id": "ybqSOKT3OEc-",
        "colab": {
          "base_uri": "https://localhost:8080/"
        },
        "outputId": "7756770d-e51c-4a36-fbc6-993b91769362"
      },
      "source": [
        "from google.colab import drive\n",
        "drive.mount('/content/gdrive')"
      ],
      "execution_count": null,
      "outputs": [
        {
          "output_type": "stream",
          "text": [
            "Mounted at /content/gdrive\n"
          ],
          "name": "stdout"
        }
      ]
    },
    {
      "cell_type": "code",
      "metadata": {
        "id": "x1nNnldhObHz"
      },
      "source": [
        "import os\n",
        "os.environ['KAGGLE_CONFIG_DIR'] = \"/content/gdrive/My Drive/Kaggle\"\n",
        "# /content/gdrive/My Drive/Kaggle is the path where kaggle.json is present in the Google Drive"
      ],
      "execution_count": null,
      "outputs": []
    },
    {
      "cell_type": "code",
      "metadata": {
        "colab": {
          "base_uri": "https://localhost:8080/"
        },
        "id": "e49uza1ZOoZv",
        "outputId": "4f175627-baa0-4edd-e66e-ce084160ee45"
      },
      "source": [
        "#changing the working directory\n",
        "%cd /content/gdrive/My Drive/Kaggle\n",
        "#Check the present working directory using pwd command"
      ],
      "execution_count": null,
      "outputs": [
        {
          "output_type": "stream",
          "text": [
            "/content/gdrive/My Drive/Kaggle\n"
          ],
          "name": "stdout"
        }
      ]
    },
    {
      "cell_type": "code",
      "metadata": {
        "colab": {
          "base_uri": "https://localhost:8080/",
          "height": 35
        },
        "id": "aK-oa8OMOqm7",
        "outputId": "dc4ae7b7-7788-4606-9469-4b775b445a00"
      },
      "source": [
        "os.getcwd()"
      ],
      "execution_count": null,
      "outputs": [
        {
          "output_type": "execute_result",
          "data": {
            "application/vnd.google.colaboratory.intrinsic+json": {
              "type": "string"
            },
            "text/plain": [
              "'/content/gdrive/My Drive/Kaggle'"
            ]
          },
          "metadata": {
            "tags": []
          },
          "execution_count": 4
        }
      ]
    },
    {
      "cell_type": "code",
      "metadata": {
        "id": "o83tLlTIOtAt"
      },
      "source": [
        "from sklearn.feature_extraction.text import CountVectorizer\n",
        "from sklearn.model_selection import train_test_split\n",
        "from sklearn.preprocessing import normalize\n",
        "from sklearn.linear_model import LogisticRegression\n",
        "from sklearn.svm import LinearSVC\n",
        "from sklearn.svm import SVC\n",
        "from sklearn.neighbors import KNeighborsClassifier\n",
        "from sklearn.metrics import precision_score, recall_score, f1_score\n",
        "from nltk.stem import WordNetLemmatizer\n",
        "import pickle\n",
        "import pandas as pd\n",
        "import time\n",
        "import numpy as np\n",
        "import re\n",
        "import spacy\n",
        "import nltk"
      ],
      "execution_count": null,
      "outputs": []
    },
    {
      "cell_type": "code",
      "metadata": {
        "id": "uMjHPjIQMozG"
      },
      "source": [
        "from sklearn.model_selection import GridSearchCV"
      ],
      "execution_count": null,
      "outputs": []
    },
    {
      "cell_type": "code",
      "metadata": {
        "id": "6S2rfu_aigwi"
      },
      "source": [
        "from sklearn.model_selection import ShuffleSplit"
      ],
      "execution_count": null,
      "outputs": []
    },
    {
      "cell_type": "code",
      "metadata": {
        "id": "GldwTvBRldc5"
      },
      "source": [
        "import matplotlib.pyplot as plt\n",
        "from sklearn.feature_extraction.text import TfidfVectorizer"
      ],
      "execution_count": null,
      "outputs": []
    },
    {
      "cell_type": "code",
      "metadata": {
        "id": "Spte8fwiWOrc",
        "colab": {
          "base_uri": "https://localhost:8080/"
        },
        "outputId": "5eaeb65c-6a3a-4561-e40d-9ff387617e45"
      },
      "source": [
        "nltk.download('wordnet')"
      ],
      "execution_count": null,
      "outputs": [
        {
          "output_type": "stream",
          "text": [
            "[nltk_data] Downloading package wordnet to /root/nltk_data...\n",
            "[nltk_data]   Unzipping corpora/wordnet.zip.\n"
          ],
          "name": "stdout"
        },
        {
          "output_type": "execute_result",
          "data": {
            "text/plain": [
              "True"
            ]
          },
          "metadata": {
            "tags": []
          },
          "execution_count": 8
        }
      ]
    },
    {
      "cell_type": "code",
      "metadata": {
        "id": "T5dDQaklhjJA"
      },
      "source": [
        "from nltk.stem import PorterStemmer"
      ],
      "execution_count": null,
      "outputs": []
    },
    {
      "cell_type": "code",
      "metadata": {
        "colab": {
          "base_uri": "https://localhost:8080/",
          "height": 195
        },
        "id": "eCMAoxPtO1pj",
        "outputId": "086d717e-bfe0-4b30-eb2a-416fe10acbe1"
      },
      "source": [
        "df = pd.read_json(\"IMDB_reviews.json\", lines=True)\n",
        "df.head()"
      ],
      "execution_count": null,
      "outputs": [
        {
          "output_type": "execute_result",
          "data": {
            "text/html": [
              "<div>\n",
              "<style scoped>\n",
              "    .dataframe tbody tr th:only-of-type {\n",
              "        vertical-align: middle;\n",
              "    }\n",
              "\n",
              "    .dataframe tbody tr th {\n",
              "        vertical-align: top;\n",
              "    }\n",
              "\n",
              "    .dataframe thead th {\n",
              "        text-align: right;\n",
              "    }\n",
              "</style>\n",
              "<table border=\"1\" class=\"dataframe\">\n",
              "  <thead>\n",
              "    <tr style=\"text-align: right;\">\n",
              "      <th></th>\n",
              "      <th>review_date</th>\n",
              "      <th>movie_id</th>\n",
              "      <th>user_id</th>\n",
              "      <th>is_spoiler</th>\n",
              "      <th>review_text</th>\n",
              "      <th>rating</th>\n",
              "      <th>review_summary</th>\n",
              "    </tr>\n",
              "  </thead>\n",
              "  <tbody>\n",
              "    <tr>\n",
              "      <th>0</th>\n",
              "      <td>10 February 2006</td>\n",
              "      <td>tt0111161</td>\n",
              "      <td>ur1898687</td>\n",
              "      <td>True</td>\n",
              "      <td>In its Oscar year, Shawshank Redemption (writt...</td>\n",
              "      <td>10</td>\n",
              "      <td>A classic piece of unforgettable film-making.</td>\n",
              "    </tr>\n",
              "    <tr>\n",
              "      <th>1</th>\n",
              "      <td>6 September 2000</td>\n",
              "      <td>tt0111161</td>\n",
              "      <td>ur0842118</td>\n",
              "      <td>True</td>\n",
              "      <td>The Shawshank Redemption is without a doubt on...</td>\n",
              "      <td>10</td>\n",
              "      <td>Simply amazing. The best film of the 90's.</td>\n",
              "    </tr>\n",
              "    <tr>\n",
              "      <th>2</th>\n",
              "      <td>3 August 2001</td>\n",
              "      <td>tt0111161</td>\n",
              "      <td>ur1285640</td>\n",
              "      <td>True</td>\n",
              "      <td>I believe that this film is the best story eve...</td>\n",
              "      <td>8</td>\n",
              "      <td>The best story ever told on film</td>\n",
              "    </tr>\n",
              "    <tr>\n",
              "      <th>3</th>\n",
              "      <td>1 September 2002</td>\n",
              "      <td>tt0111161</td>\n",
              "      <td>ur1003471</td>\n",
              "      <td>True</td>\n",
              "      <td>**Yes, there are SPOILERS here**This film has ...</td>\n",
              "      <td>10</td>\n",
              "      <td>Busy dying or busy living?</td>\n",
              "    </tr>\n",
              "    <tr>\n",
              "      <th>4</th>\n",
              "      <td>20 May 2004</td>\n",
              "      <td>tt0111161</td>\n",
              "      <td>ur0226855</td>\n",
              "      <td>True</td>\n",
              "      <td>At the heart of this extraordinary movie is a ...</td>\n",
              "      <td>8</td>\n",
              "      <td>Great story, wondrously told and acted</td>\n",
              "    </tr>\n",
              "  </tbody>\n",
              "</table>\n",
              "</div>"
            ],
            "text/plain": [
              "        review_date  ...                                 review_summary\n",
              "0  10 February 2006  ...  A classic piece of unforgettable film-making.\n",
              "1  6 September 2000  ...     Simply amazing. The best film of the 90's.\n",
              "2     3 August 2001  ...               The best story ever told on film\n",
              "3  1 September 2002  ...                     Busy dying or busy living?\n",
              "4       20 May 2004  ...         Great story, wondrously told and acted\n",
              "\n",
              "[5 rows x 7 columns]"
            ]
          },
          "metadata": {
            "tags": []
          },
          "execution_count": 10
        }
      ]
    },
    {
      "cell_type": "markdown",
      "metadata": {
        "id": "dW8iq694PQ1_"
      },
      "source": [
        "   log-Reg\n",
        "-----------------\n",
        "* with stopwords\n",
        "* without stopwords\n",
        "* with bigram without stopwords\n",
        "* with bigram with frequency\n",
        "* Bigram + Stemming + words <=10 reviews (remove)\n",
        "\n",
        "SVM\n",
        "----\n",
        "* Normal Model Without any restrictions (Linear Kernel)\n",
        "* Bigram + Linear Kernel\n",
        "* Bigram + words <=10 reviews (remove) + Linear Kernel\n",
        "* Bigram + words <=10 reviews (remove) + Polynomial Kernel (degree 2)\n",
        "* Bigram + Stemming + words <=10 reviews (remove) + Linear Kernel\n",
        "* linear kernel without stopwords\n",
        "* linear kernel with bigram with frequency\n",
        "\n",
        "\n",
        " \n",
        "----"
      ]
    },
    {
      "cell_type": "markdown",
      "metadata": {
        "id": "LX1JwkRLO5e6"
      },
      "source": [
        "# Data Preparation"
      ]
    },
    {
      "cell_type": "markdown",
      "metadata": {
        "id": "Xwkyo45ZO94V"
      },
      "source": [
        "## Subsampling"
      ]
    },
    {
      "cell_type": "code",
      "metadata": {
        "id": "5WtvpJlOO3r-"
      },
      "source": [
        "def get_part_data(df, num_reviews):\n",
        "  num_pos_reviews = df['is_spoiler'].sum()   # Number of spoilers in the dataset\n",
        "  fraction_pos = num_reviews/num_pos_reviews  # fraction of spoiler reviews to be returned\n",
        "  fraction_neg = num_reviews/(df.shape[0] - num_pos_reviews)  # fraction of non-spoiler reviews to be returned \n",
        "\n",
        "  df_pos = df[df['is_spoiler']]['review_text'].sample(frac = fraction_pos, random_state = 2)\n",
        "  df_neg = df[df['is_spoiler'] == False]['review_text'].sample(frac = fraction_neg, random_state = 2)\n",
        "\n",
        "  df_reviews = pd.concat([df_pos, df_neg])\n",
        "  df_reviews = df_reviews.reset_index(drop=True)\n",
        "  labels = [1]*(num_reviews*2)\n",
        "  print(len(labels))\n",
        "  labels[num_reviews:] = [0]*num_reviews\n",
        "\n",
        "  return df_reviews, labels"
      ],
      "execution_count": null,
      "outputs": []
    },
    {
      "cell_type": "code",
      "metadata": {
        "id": "Hjd-bWPLPCPR",
        "colab": {
          "base_uri": "https://localhost:8080/"
        },
        "outputId": "13f6c35d-cc71-46ca-f603-0c37fe7eb780"
      },
      "source": [
        "df_reviews, labels = get_part_data(df, 5000)"
      ],
      "execution_count": null,
      "outputs": [
        {
          "output_type": "stream",
          "text": [
            "10000\n"
          ],
          "name": "stdout"
        }
      ]
    },
    {
      "cell_type": "markdown",
      "metadata": {
        "id": "E5C-c9LXUewD"
      },
      "source": [
        "## Test Train Split (90% train, 10% test)"
      ]
    },
    {
      "cell_type": "code",
      "metadata": {
        "id": "XbqqpbnbT7-g"
      },
      "source": [
        "X_train, X_test, y_train, y_test = train_test_split(df_reviews, labels, test_size=0.1, random_state=21, stratify=labels)"
      ],
      "execution_count": null,
      "outputs": []
    },
    {
      "cell_type": "code",
      "metadata": {
        "colab": {
          "base_uri": "https://localhost:8080/"
        },
        "id": "jEIKkqIGUk6I",
        "outputId": "13c98efb-4bc1-4baf-aac6-e1d967d6c5a3"
      },
      "source": [
        "X_train.shape, X_test.shape, len(y_train), len(y_test)"
      ],
      "execution_count": null,
      "outputs": [
        {
          "output_type": "execute_result",
          "data": {
            "text/plain": [
              "((9000,), (1000,), 9000, 1000)"
            ]
          },
          "metadata": {
            "tags": []
          },
          "execution_count": 58
        }
      ]
    },
    {
      "cell_type": "markdown",
      "metadata": {
        "id": "XVu_trDuUr-t"
      },
      "source": [
        "## Bag of Words"
      ]
    },
    {
      "cell_type": "code",
      "metadata": {
        "id": "S7KJDWDXUrGu"
      },
      "source": [
        "def get_feature_vector(X, min_df=0, stop_words=False, ngram_range=(1,1), verbose = True, tokenizer=None, binary=False):\n",
        "  vect = CountVectorizer(min_df=min_df, stop_words = \"english\" if stop_words else None, ngram_range=ngram_range, tokenizer=tokenizer, binary=binary)\n",
        "  vect.fit(X)                                             # Create the vocabulary of words for the given reviews dataset\n",
        "\n",
        "  print(\"Vocabulary size: {}\".format(len(vect.vocabulary_)))\n",
        "\n",
        "  if verbose:\n",
        "    feature_names = vect.get_feature_names()\n",
        "    print(\"Number of features: {}\".format(len(feature_names)))\n",
        "    print(\"First 20 features:\\n{}\".format(feature_names[:20]))\n",
        "    print(\"Features 20010 to 20030:\\n{}\".format(feature_names[20010:20030]))\n",
        "    print(\"Every 2000th feature:\\n{}\".format(feature_names[::2000]))\n",
        "\n",
        "  bag_of_words = vect.transform(X)               # Transform the reviews into feature vector\n",
        "  bag_of_words_norm = normalize(bag_of_words, norm='l2')  # Normalize the feature vectors obtained\n",
        "\n",
        "  return bag_of_words_norm, vect"
      ],
      "execution_count": null,
      "outputs": []
    },
    {
      "cell_type": "markdown",
      "metadata": {
        "id": "cAuVXk9dVBbs"
      },
      "source": [
        "# Model"
      ]
    },
    {
      "cell_type": "code",
      "metadata": {
        "id": "7tASZecw_WmM"
      },
      "source": [
        "def evaluate_model(model, X_train, X_test, y_train, y_test):\n",
        "    print(\"Training accuracy: \" + str(model.score(X_train, y_train)))\n",
        "    print(\"Testing accuracy: \" + str(model.score(X_test, y_test)))\n",
        "    y_pred = model.predict(X_test)\n",
        "    print(\"Precision on test data: \" + str(precision_score(y_test, y_pred)))\n",
        "    print(\"Recall on test data: \" + str(recall_score(y_test, y_pred)))\n",
        "    print(\"f1 score on test data: \" + str(f1_score(y_test, y_pred)))"
      ],
      "execution_count": null,
      "outputs": []
    },
    {
      "cell_type": "code",
      "metadata": {
        "id": "UXcEChGMngo3"
      },
      "source": [
        "def tune_parameters(model, X_train, y_train, param_grid, verbose=False, cv=5):\n",
        "    clf = GridSearchCV(model, param_grid=param_grid, cv=cv, n_jobs=-1, return_train_score=True)\n",
        "    clf.fit(X_train, y_train)\n",
        "    results = clf.cv_results_\n",
        "\n",
        "    if verbose:\n",
        "        plt.figure()\n",
        "        plt.plot(results['param_C'], results['mean_train_score'])\n",
        "        plt.plot(results['param_C'], results['mean_test_score'])\n",
        "        plt.xlabel(list(param_grid.keys())[0])\n",
        "        plt.ylabel(\"Accuracy\")\n",
        "        plt.show()\n",
        "\n",
        "    return clf"
      ],
      "execution_count": null,
      "outputs": []
    },
    {
      "cell_type": "code",
      "metadata": {
        "id": "TBvSpwqyicW5"
      },
      "source": [
        "ss = ShuffleSplit(n_splits=1, test_size=0.20, random_state=0)"
      ],
      "execution_count": null,
      "outputs": []
    },
    {
      "cell_type": "markdown",
      "metadata": {
        "id": "fKVq0zU6VEMV"
      },
      "source": [
        "## 1. With Stopwords"
      ]
    },
    {
      "cell_type": "code",
      "metadata": {
        "colab": {
          "base_uri": "https://localhost:8080/"
        },
        "id": "JMBAIItQUn7v",
        "outputId": "c198038f-6db5-4b78-ccd5-cf207e7f6a7f"
      },
      "source": [
        "bag_of_words_norm, vect = get_feature_vector(X_train)"
      ],
      "execution_count": null,
      "outputs": [
        {
          "output_type": "stream",
          "text": [
            "Vocabulary size: 48672\n",
            "Number of features: 48672\n",
            "First 20 features:\n",
            "['00', '000', '0000000', '0001', '000usd', '007', '00s', '00t', '01', '01100011', '01101100', '01110101', '01111001', '02', '03', '04', '045', '05', '06', '07']\n",
            "Features 20010 to 20030:\n",
            "['heiglit', 'heil', 'heinlei', 'heinlein', 'heinous', 'heinously', 'heinreich', 'heinrich', 'heinrichs', 'heir', 'heiress', 'heirloom', 'heirs', 'heisserer', 'heist', 'heists', 'hejira', 'hela', 'helander', 'held']\n",
            "Every 2000th feature:\n",
            "['00', 'als', 'barbarity', 'brin', 'chuck', 'cowardice', 'didlaugh', 'elena', 'fedora', 'gerd', 'heidelberg', 'infinity', 'kimball', 'm203', 'mlk', 'obstructions', 'persona', 'psychopaths', 'resputin', 'scupper', 'socialists', 'superimposed', 'torso', 'using', 'woolsey']\n"
          ],
          "name": "stdout"
        }
      ]
    },
    {
      "cell_type": "code",
      "metadata": {
        "colab": {
          "base_uri": "https://localhost:8080/"
        },
        "id": "us53ReJBVMwY",
        "outputId": "0c59ce21-542c-449f-963e-8cdf02f6659e"
      },
      "source": [
        "bag_of_words_test = vect.transform(X_test)\n",
        "bag_of_words_test_norm = normalize(bag_of_words_test, norm='l2')\n",
        "bag_of_words_test_norm"
      ],
      "execution_count": null,
      "outputs": [
        {
          "output_type": "execute_result",
          "data": {
            "text/plain": [
              "<1000x48672 sparse matrix of type '<class 'numpy.float64'>'\n",
              "\twith 153846 stored elements in Compressed Sparse Row format>"
            ]
          },
          "metadata": {
            "tags": []
          },
          "execution_count": 19
        }
      ]
    },
    {
      "cell_type": "markdown",
      "metadata": {
        "id": "v-VyNGCrW9pE"
      },
      "source": [
        "### 1.1 Logistic Regression"
      ]
    },
    {
      "cell_type": "code",
      "metadata": {
        "colab": {
          "base_uri": "https://localhost:8080/",
          "height": 279
        },
        "id": "-_MFCrrtpv3N",
        "outputId": "07ef7ab6-89b8-403e-fc01-0b6439ac902d"
      },
      "source": [
        "parameters = {'C': [0.01, 0.03, 0.1, 0.3, 1.0, 3.0, 9.0]}\n",
        "log_reg = LogisticRegression(max_iter=1000)\n",
        "grid_search = tune_parameters(log_reg, bag_of_words_norm, y_train, parameters, verbose=True)  "
      ],
      "execution_count": null,
      "outputs": [
        {
          "output_type": "display_data",
          "data": {
            "image/png": "[encoded data removed]",
            "text/plain": [
              "<Figure size 432x288 with 1 Axes>"
            ]
          },
          "metadata": {
            "tags": [],
            "needs_background": "light"
          }
        }
      ]
    },
    {
      "cell_type": "code",
      "metadata": {
        "colab": {
          "base_uri": "https://localhost:8080/"
        },
        "id": "RZctK5bNqMW3",
        "outputId": "a819e2ce-00d4-426a-f818-9bd8959718db"
      },
      "source": [
        "log_reg_best = grid_search.best_estimator_\n",
        "evaluate_model(log_reg_best, bag_of_words_norm, bag_of_words_test_norm, y_train, y_test)"
      ],
      "execution_count": null,
      "outputs": [
        {
          "output_type": "stream",
          "text": [
            "Training accuracy: 0.7575555555555555\n",
            "Testing accuracy: 0.664\n",
            "Precision on test data: 0.6633466135458167\n",
            "Recall on test data: 0.666\n",
            "f1 score on test data: 0.6646706586826348\n"
          ],
          "name": "stdout"
        }
      ]
    },
    {
      "cell_type": "markdown",
      "metadata": {
        "id": "2aRf0bkLZRLr"
      },
      "source": [
        "### 1.2 SVM with Linear Kernel"
      ]
    },
    {
      "cell_type": "code",
      "metadata": {
        "colab": {
          "base_uri": "https://localhost:8080/",
          "height": 279
        },
        "id": "6GDxEjOErF4A",
        "outputId": "eaf03fc8-26db-4b58-92b2-86d17a4e374d"
      },
      "source": [
        "parameters = {'C': [0.01, 0.03, 0.1, 0.3, 1.0, 3.0, 9.0]}\n",
        "svm = LinearSVC(C=10, loss='hinge', max_iter=10000)\n",
        "grid_search = tune_parameters(svm, bag_of_words_norm, y_train, parameters, verbose=True)"
      ],
      "execution_count": null,
      "outputs": [
        {
          "output_type": "display_data",
          "data": {
            "image/png": "[encoded data removed]",
            "text/plain": [
              "<Figure size 432x288 with 1 Axes>"
            ]
          },
          "metadata": {
            "tags": [],
            "needs_background": "light"
          }
        }
      ]
    },
    {
      "cell_type": "code",
      "metadata": {
        "colab": {
          "base_uri": "https://localhost:8080/"
        },
        "id": "xjgG4f5Sr5qr",
        "outputId": "823ee1b3-7fc8-4963-fde5-dd0ebaf3c403"
      },
      "source": [
        "svm_best = grid_search.best_estimator_\n",
        "evaluate_model(svm_best, bag_of_words_norm, bag_of_words_test_norm, y_train, y_test)"
      ],
      "execution_count": null,
      "outputs": [
        {
          "output_type": "stream",
          "text": [
            "Training accuracy: 0.8011111111111111\n",
            "Testing accuracy: 0.668\n",
            "Precision on test data: 0.668\n",
            "Recall on test data: 0.668\n",
            "f1 score on test data: 0.668\n"
          ],
          "name": "stdout"
        }
      ]
    },
    {
      "cell_type": "markdown",
      "metadata": {
        "id": "M6AILW9wcBIR"
      },
      "source": [
        "### 1.3 SVM with Polynomial Kernel (Degree 2) "
      ]
    },
    {
      "cell_type": "code",
      "metadata": {
        "id": "WFRON9l2KJge"
      },
      "source": [
        "parameters = {'C': [0.01, 0.1, 1.0], 'coef0' : [1, 5, 10]}\n",
        "svm = SVC(kernel='poly', degree=2)\n",
        "grid_search = tune_parameters(svm, bag_of_words_norm, y_train, parameters, cv=ss)"
      ],
      "execution_count": null,
      "outputs": []
    },
    {
      "cell_type": "code",
      "metadata": {
        "colab": {
          "base_uri": "https://localhost:8080/"
        },
        "id": "jMuunWkcVm4J",
        "outputId": "0bfc7bc3-f246-43b3-d5bb-601c0eb20feb"
      },
      "source": [
        "svm_best = grid_search.best_estimator_\n",
        "evaluate_model(svm_best, bag_of_words_norm, bag_of_words_test_norm, y_train, y_test)"
      ],
      "execution_count": null,
      "outputs": [
        {
          "output_type": "stream",
          "text": [
            "Training accuracy: 0.698\n",
            "Testing accuracy: 0.669\n",
            "Precision on test data: 0.6666666666666666\n",
            "Recall on test data: 0.676\n",
            "f1 score on test data: 0.6713008937437934\n"
          ],
          "name": "stdout"
        }
      ]
    },
    {
      "cell_type": "code",
      "metadata": {
        "id": "o6tne46fWs_o"
      },
      "source": [
        "results = pd.DataFrame(grid_search.cv_results_)\n",
        "results.head()"
      ],
      "execution_count": null,
      "outputs": []
    },
    {
      "cell_type": "code",
      "metadata": {
        "colab": {
          "base_uri": "https://localhost:8080/"
        },
        "id": "Fq1v0R6pVhov",
        "outputId": "bb789d29-9144-4a14-ea5e-35080ea1ad48"
      },
      "source": [
        "grid_search.best_params_"
      ],
      "execution_count": null,
      "outputs": [
        {
          "output_type": "execute_result",
          "data": {
            "text/plain": [
              "{'C': 0.1, 'coef0': 1}"
            ]
          },
          "metadata": {
            "tags": []
          },
          "execution_count": 27
        }
      ]
    },
    {
      "cell_type": "code",
      "metadata": {
        "id": "oSLI0PcCaI_W"
      },
      "source": [
        "filename = '1.3_GridSearchCV.sav'\n",
        "pickle.dump(grid_search, open(filename, 'wb'))"
      ],
      "execution_count": null,
      "outputs": []
    },
    {
      "cell_type": "code",
      "metadata": {
        "colab": {
          "base_uri": "https://localhost:8080/",
          "height": 467
        },
        "id": "kqkUyTj_a2cC",
        "outputId": "0c82cc06-d277-49eb-8d6e-22d8d728dbf9"
      },
      "source": [
        "loaded_model = pickle.load(open(filename, 'rb'))\n",
        "results = pd.DataFrame(loaded_model.cv_results_)\n",
        "results.head()"
      ],
      "execution_count": null,
      "outputs": [
        {
          "output_type": "execute_result",
          "data": {
            "text/html": [
              "<div>\n",
              "<style scoped>\n",
              "    .dataframe tbody tr th:only-of-type {\n",
              "        vertical-align: middle;\n",
              "    }\n",
              "\n",
              "    .dataframe tbody tr th {\n",
              "        vertical-align: top;\n",
              "    }\n",
              "\n",
              "    .dataframe thead th {\n",
              "        text-align: right;\n",
              "    }\n",
              "</style>\n",
              "<table border=\"1\" class=\"dataframe\">\n",
              "  <thead>\n",
              "    <tr style=\"text-align: right;\">\n",
              "      <th></th>\n",
              "      <th>mean_fit_time</th>\n",
              "      <th>std_fit_time</th>\n",
              "      <th>mean_score_time</th>\n",
              "      <th>std_score_time</th>\n",
              "      <th>param_C</th>\n",
              "      <th>param_coef0</th>\n",
              "      <th>params</th>\n",
              "      <th>split0_test_score</th>\n",
              "      <th>mean_test_score</th>\n",
              "      <th>std_test_score</th>\n",
              "      <th>rank_test_score</th>\n",
              "      <th>split0_train_score</th>\n",
              "      <th>mean_train_score</th>\n",
              "      <th>std_train_score</th>\n",
              "    </tr>\n",
              "  </thead>\n",
              "  <tbody>\n",
              "    <tr>\n",
              "      <th>0</th>\n",
              "      <td>119.054476</td>\n",
              "      <td>0.0</td>\n",
              "      <td>28.311503</td>\n",
              "      <td>0.0</td>\n",
              "      <td>0.01</td>\n",
              "      <td>1</td>\n",
              "      <td>{'C': 0.01, 'coef0': 1}</td>\n",
              "      <td>0.618889</td>\n",
              "      <td>0.618889</td>\n",
              "      <td>0.0</td>\n",
              "      <td>9</td>\n",
              "      <td>0.625139</td>\n",
              "      <td>0.625139</td>\n",
              "      <td>0.0</td>\n",
              "    </tr>\n",
              "    <tr>\n",
              "      <th>1</th>\n",
              "      <td>113.002061</td>\n",
              "      <td>0.0</td>\n",
              "      <td>26.749519</td>\n",
              "      <td>0.0</td>\n",
              "      <td>0.01</td>\n",
              "      <td>5</td>\n",
              "      <td>{'C': 0.01, 'coef0': 5}</td>\n",
              "      <td>0.648333</td>\n",
              "      <td>0.648333</td>\n",
              "      <td>0.0</td>\n",
              "      <td>6</td>\n",
              "      <td>0.657917</td>\n",
              "      <td>0.657917</td>\n",
              "      <td>0.0</td>\n",
              "    </tr>\n",
              "    <tr>\n",
              "      <th>2</th>\n",
              "      <td>113.054517</td>\n",
              "      <td>0.0</td>\n",
              "      <td>25.889260</td>\n",
              "      <td>0.0</td>\n",
              "      <td>0.01</td>\n",
              "      <td>10</td>\n",
              "      <td>{'C': 0.01, 'coef0': 10}</td>\n",
              "      <td>0.655556</td>\n",
              "      <td>0.655556</td>\n",
              "      <td>0.0</td>\n",
              "      <td>3</td>\n",
              "      <td>0.678889</td>\n",
              "      <td>0.678889</td>\n",
              "      <td>0.0</td>\n",
              "    </tr>\n",
              "    <tr>\n",
              "      <th>3</th>\n",
              "      <td>109.058439</td>\n",
              "      <td>0.0</td>\n",
              "      <td>25.420046</td>\n",
              "      <td>0.0</td>\n",
              "      <td>0.1</td>\n",
              "      <td>1</td>\n",
              "      <td>{'C': 0.1, 'coef0': 1}</td>\n",
              "      <td>0.657778</td>\n",
              "      <td>0.657778</td>\n",
              "      <td>0.0</td>\n",
              "      <td>1</td>\n",
              "      <td>0.699722</td>\n",
              "      <td>0.699722</td>\n",
              "      <td>0.0</td>\n",
              "    </tr>\n",
              "    <tr>\n",
              "      <th>4</th>\n",
              "      <td>106.097372</td>\n",
              "      <td>0.0</td>\n",
              "      <td>24.908029</td>\n",
              "      <td>0.0</td>\n",
              "      <td>0.1</td>\n",
              "      <td>5</td>\n",
              "      <td>{'C': 0.1, 'coef0': 5}</td>\n",
              "      <td>0.655000</td>\n",
              "      <td>0.655000</td>\n",
              "      <td>0.0</td>\n",
              "      <td>4</td>\n",
              "      <td>0.750972</td>\n",
              "      <td>0.750972</td>\n",
              "      <td>0.0</td>\n",
              "    </tr>\n",
              "  </tbody>\n",
              "</table>\n",
              "</div>"
            ],
            "text/plain": [
              "   mean_fit_time  std_fit_time  ...  mean_train_score  std_train_score\n",
              "0     119.054476           0.0  ...          0.625139              0.0\n",
              "1     113.002061           0.0  ...          0.657917              0.0\n",
              "2     113.054517           0.0  ...          0.678889              0.0\n",
              "3     109.058439           0.0  ...          0.699722              0.0\n",
              "4     106.097372           0.0  ...          0.750972              0.0\n",
              "\n",
              "[5 rows x 14 columns]"
            ]
          },
          "metadata": {
            "tags": []
          },
          "execution_count": 32
        }
      ]
    },
    {
      "cell_type": "markdown",
      "metadata": {
        "id": "2eaPLB-IdikD"
      },
      "source": [
        "### 1.4 SVM with Gaussian Kernel"
      ]
    },
    {
      "cell_type": "code",
      "metadata": {
        "id": "hqYtDVe-bS39"
      },
      "source": [
        "parameters = {'C': [0.01, 0.1, 1.0, 10], 'gamma' : [1, 5, 10]}\n",
        "svm = SVC(kernel=\"rbf\")\n",
        "grid_search = tune_parameters(svm, bag_of_words_norm, y_train, parameters, cv=ss)"
      ],
      "execution_count": null,
      "outputs": []
    },
    {
      "cell_type": "code",
      "metadata": {
        "colab": {
          "base_uri": "https://localhost:8080/"
        },
        "id": "7xx_KGUFikam",
        "outputId": "a84713e4-d026-41d4-bd07-b4a3f84f583f"
      },
      "source": [
        "svm_best = grid_search.best_estimator_\n",
        "evaluate_model(svm_best, bag_of_words_norm, bag_of_words_test_norm, y_train, y_test)"
      ],
      "execution_count": null,
      "outputs": [
        {
          "output_type": "stream",
          "text": [
            "Training accuracy: 0.8108888888888889\n",
            "Testing accuracy: 0.674\n",
            "Precision on test data: 0.6827731092436975\n",
            "Recall on test data: 0.65\n",
            "f1 score on test data: 0.665983606557377\n"
          ],
          "name": "stdout"
        }
      ]
    },
    {
      "cell_type": "code",
      "metadata": {
        "colab": {
          "base_uri": "https://localhost:8080/",
          "height": 434
        },
        "id": "lMFpcRSZjmeE",
        "outputId": "76e5a87f-175b-49f1-c5ff-8b51fa4d65a5"
      },
      "source": [
        "results = pd.DataFrame(grid_search.cv_results_)\n",
        "results.head()"
      ],
      "execution_count": null,
      "outputs": [
        {
          "output_type": "execute_result",
          "data": {
            "text/html": [
              "<div>\n",
              "<style scoped>\n",
              "    .dataframe tbody tr th:only-of-type {\n",
              "        vertical-align: middle;\n",
              "    }\n",
              "\n",
              "    .dataframe tbody tr th {\n",
              "        vertical-align: top;\n",
              "    }\n",
              "\n",
              "    .dataframe thead th {\n",
              "        text-align: right;\n",
              "    }\n",
              "</style>\n",
              "<table border=\"1\" class=\"dataframe\">\n",
              "  <thead>\n",
              "    <tr style=\"text-align: right;\">\n",
              "      <th></th>\n",
              "      <th>mean_fit_time</th>\n",
              "      <th>std_fit_time</th>\n",
              "      <th>mean_score_time</th>\n",
              "      <th>std_score_time</th>\n",
              "      <th>param_C</th>\n",
              "      <th>param_gamma</th>\n",
              "      <th>params</th>\n",
              "      <th>split0_test_score</th>\n",
              "      <th>mean_test_score</th>\n",
              "      <th>std_test_score</th>\n",
              "      <th>rank_test_score</th>\n",
              "      <th>split0_train_score</th>\n",
              "      <th>mean_train_score</th>\n",
              "      <th>std_train_score</th>\n",
              "    </tr>\n",
              "  </thead>\n",
              "  <tbody>\n",
              "    <tr>\n",
              "      <th>0</th>\n",
              "      <td>126.617624</td>\n",
              "      <td>0.0</td>\n",
              "      <td>31.890661</td>\n",
              "      <td>0.0</td>\n",
              "      <td>0.01</td>\n",
              "      <td>1</td>\n",
              "      <td>{'C': 0.01, 'gamma': 1}</td>\n",
              "      <td>0.602778</td>\n",
              "      <td>0.602778</td>\n",
              "      <td>0.0</td>\n",
              "      <td>9</td>\n",
              "      <td>0.599861</td>\n",
              "      <td>0.599861</td>\n",
              "      <td>0.0</td>\n",
              "    </tr>\n",
              "    <tr>\n",
              "      <th>1</th>\n",
              "      <td>126.245202</td>\n",
              "      <td>0.0</td>\n",
              "      <td>31.850865</td>\n",
              "      <td>0.0</td>\n",
              "      <td>0.01</td>\n",
              "      <td>5</td>\n",
              "      <td>{'C': 0.01, 'gamma': 5}</td>\n",
              "      <td>0.491667</td>\n",
              "      <td>0.491667</td>\n",
              "      <td>0.0</td>\n",
              "      <td>11</td>\n",
              "      <td>0.502083</td>\n",
              "      <td>0.502083</td>\n",
              "      <td>0.0</td>\n",
              "    </tr>\n",
              "    <tr>\n",
              "      <th>2</th>\n",
              "      <td>126.541163</td>\n",
              "      <td>0.0</td>\n",
              "      <td>31.970873</td>\n",
              "      <td>0.0</td>\n",
              "      <td>0.01</td>\n",
              "      <td>10</td>\n",
              "      <td>{'C': 0.01, 'gamma': 10}</td>\n",
              "      <td>0.491667</td>\n",
              "      <td>0.491667</td>\n",
              "      <td>0.0</td>\n",
              "      <td>11</td>\n",
              "      <td>0.502083</td>\n",
              "      <td>0.502083</td>\n",
              "      <td>0.0</td>\n",
              "    </tr>\n",
              "    <tr>\n",
              "      <th>3</th>\n",
              "      <td>117.045768</td>\n",
              "      <td>0.0</td>\n",
              "      <td>27.894872</td>\n",
              "      <td>0.0</td>\n",
              "      <td>0.1</td>\n",
              "      <td>1</td>\n",
              "      <td>{'C': 0.1, 'gamma': 1}</td>\n",
              "      <td>0.642778</td>\n",
              "      <td>0.642778</td>\n",
              "      <td>0.0</td>\n",
              "      <td>3</td>\n",
              "      <td>0.661389</td>\n",
              "      <td>0.661389</td>\n",
              "      <td>0.0</td>\n",
              "    </tr>\n",
              "    <tr>\n",
              "      <th>4</th>\n",
              "      <td>124.802529</td>\n",
              "      <td>0.0</td>\n",
              "      <td>29.772929</td>\n",
              "      <td>0.0</td>\n",
              "      <td>0.1</td>\n",
              "      <td>5</td>\n",
              "      <td>{'C': 0.1, 'gamma': 5}</td>\n",
              "      <td>0.614444</td>\n",
              "      <td>0.614444</td>\n",
              "      <td>0.0</td>\n",
              "      <td>8</td>\n",
              "      <td>0.638194</td>\n",
              "      <td>0.638194</td>\n",
              "      <td>0.0</td>\n",
              "    </tr>\n",
              "  </tbody>\n",
              "</table>\n",
              "</div>"
            ],
            "text/plain": [
              "   mean_fit_time  std_fit_time  ...  mean_train_score  std_train_score\n",
              "0     126.617624           0.0  ...          0.599861              0.0\n",
              "1     126.245202           0.0  ...          0.502083              0.0\n",
              "2     126.541163           0.0  ...          0.502083              0.0\n",
              "3     117.045768           0.0  ...          0.661389              0.0\n",
              "4     124.802529           0.0  ...          0.638194              0.0\n",
              "\n",
              "[5 rows x 14 columns]"
            ]
          },
          "metadata": {
            "tags": []
          },
          "execution_count": 37
        }
      ]
    },
    {
      "cell_type": "code",
      "metadata": {
        "colab": {
          "base_uri": "https://localhost:8080/"
        },
        "id": "iuTuWseRjru_",
        "outputId": "9fd96c0b-d004-495f-a144-3f6da89d4acc"
      },
      "source": [
        "grid_search.best_params_"
      ],
      "execution_count": null,
      "outputs": [
        {
          "output_type": "execute_result",
          "data": {
            "text/plain": [
              "{'C': 1.0, 'gamma': 1}"
            ]
          },
          "metadata": {
            "tags": []
          },
          "execution_count": 38
        }
      ]
    },
    {
      "cell_type": "code",
      "metadata": {
        "id": "3OQKRT_vjVSj"
      },
      "source": [
        "filename = '1.4_GridSearchCV.sav'\n",
        "pickle.dump(grid_search, open(filename, 'wb'))"
      ],
      "execution_count": null,
      "outputs": []
    },
    {
      "cell_type": "code",
      "metadata": {
        "id": "5BU-ICFOjekO"
      },
      "source": [
        "loaded_model = pickle.load(open(filename, 'rb'))\n",
        "results = pd.DataFrame(loaded_model.cv_results_)\n",
        "results.head()"
      ],
      "execution_count": null,
      "outputs": []
    },
    {
      "cell_type": "markdown",
      "metadata": {
        "id": "vqWFmFNJmnXY"
      },
      "source": [
        "### kNN (k-Nearest Neighbours n=5)"
      ]
    },
    {
      "cell_type": "code",
      "metadata": {
        "colab": {
          "base_uri": "https://localhost:8080/"
        },
        "id": "LGGN-_v0ivXK",
        "outputId": "726480fc-e05b-43ac-d1f1-885878960521"
      },
      "source": [
        "knn_1 = KNeighborsClassifier(n_neighbors=5)\n",
        "knn_1.fit(bag_of_words_norm, y_train)"
      ],
      "execution_count": null,
      "outputs": [
        {
          "output_type": "execute_result",
          "data": {
            "text/plain": [
              "KNeighborsClassifier(algorithm='auto', leaf_size=30, metric='minkowski',\n",
              "                     metric_params=None, n_jobs=None, n_neighbors=5, p=2,\n",
              "                     weights='uniform')"
            ]
          },
          "metadata": {
            "tags": []
          },
          "execution_count": 17
        }
      ]
    },
    {
      "cell_type": "code",
      "metadata": {
        "colab": {
          "base_uri": "https://localhost:8080/"
        },
        "id": "oaFQsfFtlGPX",
        "outputId": "25789d85-2b5b-4ee0-82ca-f1bba7e270b9"
      },
      "source": [
        "knn_1.score(bag_of_words_norm, y_train)"
      ],
      "execution_count": null,
      "outputs": [
        {
          "output_type": "execute_result",
          "data": {
            "text/plain": [
              "0.6793333333333333"
            ]
          },
          "metadata": {
            "tags": []
          },
          "execution_count": 18
        }
      ]
    },
    {
      "cell_type": "code",
      "metadata": {
        "colab": {
          "base_uri": "https://localhost:8080/"
        },
        "id": "OcbLSnvZmPiq",
        "outputId": "b99c2808-283c-4421-c635-1aec2836e8f7"
      },
      "source": [
        "knn_1.score(bag_of_words_test_norm, y_test)"
      ],
      "execution_count": null,
      "outputs": [
        {
          "output_type": "execute_result",
          "data": {
            "text/plain": [
              "0.533"
            ]
          },
          "metadata": {
            "tags": []
          },
          "execution_count": 19
        }
      ]
    },
    {
      "cell_type": "markdown",
      "metadata": {
        "id": "gP_21056m0AK"
      },
      "source": [
        "### Observations\n",
        "* Accuracy of the model increased as we increased the complexity of model from SVM linear kernel to SVM Gaussian Kernel.\n",
        "* Irrelevant features created due to repetition of words such as 'heir', 'heiress', 'heirs'."
      ]
    },
    {
      "cell_type": "markdown",
      "metadata": {
        "id": "UPSfUOM78i3C"
      },
      "source": [
        "## 2. Without Stopwords"
      ]
    },
    {
      "cell_type": "code",
      "metadata": {
        "id": "vzMZsS2DmVUa",
        "colab": {
          "base_uri": "https://localhost:8080/"
        },
        "outputId": "a525361b-195f-4746-9255-7bd8e9695b72"
      },
      "source": [
        "bag_of_words_norm, vect = get_feature_vector(X_train, stop_words=True)"
      ],
      "execution_count": null,
      "outputs": [
        {
          "output_type": "stream",
          "text": [
            "Vocabulary size: 48362\n",
            "Number of features: 48362\n",
            "First 20 features:\n",
            "['00', '000', '0000000', '0001', '000usd', '007', '00s', '00t', '01', '01100011', '01101100', '01110101', '01111001', '02', '03', '04', '045', '05', '06', '07']\n",
            "Features 20010 to 20030:\n",
            "['henry', 'hens', 'hensleigh', 'hensley', 'henson', 'hensons', 'henstridge', 'hepbern', 'hepburn', 'heptopods', 'heracles', 'herald', 'heralded', 'heralding', 'heralds', 'herb', 'herbert', 'herbie', 'herbivores', 'herc']\n",
            "Every 2000th feature:\n",
            "['00', 'altercations', 'bargains', 'brock', 'cinders', 'crammed', 'digiamio', 'eloise', 'fergus', 'gigantic', 'henke', 'ink', 'knew', 'mage', 'mona', 'ojai', 'philosophical', 'pursing', 'revise', 'sellable', 'sorta', 'svelte', 'translation', 'venomous', 'yanks']\n"
          ],
          "name": "stdout"
        }
      ]
    },
    {
      "cell_type": "code",
      "metadata": {
        "colab": {
          "base_uri": "https://localhost:8080/"
        },
        "id": "_veolEAr82VM",
        "outputId": "273a9d26-5803-40db-b24a-631b0e0db249"
      },
      "source": [
        "bag_of_words_test = vect.transform(X_test)\n",
        "bag_of_words_test_norm = normalize(bag_of_words_test, norm='l2')\n",
        "bag_of_words_test_norm"
      ],
      "execution_count": null,
      "outputs": [
        {
          "output_type": "execute_result",
          "data": {
            "text/plain": [
              "<1000x48362 sparse matrix of type '<class 'numpy.float64'>'\n",
              "\twith 100187 stored elements in Compressed Sparse Row format>"
            ]
          },
          "metadata": {
            "tags": []
          },
          "execution_count": 40
        }
      ]
    },
    {
      "cell_type": "markdown",
      "metadata": {
        "id": "7FebNCeP9Owg"
      },
      "source": [
        "### 2.1 Logistic Regression"
      ]
    },
    {
      "cell_type": "code",
      "metadata": {
        "colab": {
          "base_uri": "https://localhost:8080/",
          "height": 281
        },
        "id": "FS91i4Hysb2v",
        "outputId": "e1b644e8-737c-4f65-e2c3-5e9c0cff5d5f"
      },
      "source": [
        "parameters = {'C': [0.01, 0.03, 0.1, 0.3, 1.0, 3.0, 9.0]}\n",
        "log_reg = LogisticRegression(max_iter=1000)         # Creating an instance of Scikit Learn LogisticRegression class\n",
        "grid_search = tune_parameters(log_reg, bag_of_words_norm, y_train, parameters, verbose=True)  "
      ],
      "execution_count": null,
      "outputs": [
        {
          "output_type": "display_data",
          "data": {
            "image/png": "[encoded data removed]",
            "text/plain": [
              "<Figure size 432x288 with 1 Axes>"
            ]
          },
          "metadata": {
            "tags": [],
            "needs_background": "light"
          }
        }
      ]
    },
    {
      "cell_type": "code",
      "metadata": {
        "colab": {
          "base_uri": "https://localhost:8080/"
        },
        "id": "r27rVUNRsiFR",
        "outputId": "9b79618c-3ce3-4de3-c91d-18af287d9421"
      },
      "source": [
        "log_reg_best = grid_search.best_estimator_\n",
        "evaluate_model(log_reg_best, bag_of_words_norm, bag_of_words_test_norm, y_train, y_test)"
      ],
      "execution_count": null,
      "outputs": [
        {
          "output_type": "stream",
          "text": [
            "Training accuracy: 0.7816666666666666\n",
            "Testing accuracy: 0.656\n",
            "Precision on test data: 0.6631799163179917\n",
            "Recall on test data: 0.634\n",
            "f1 score on test data: 0.6482617586912066\n"
          ],
          "name": "stdout"
        }
      ]
    },
    {
      "cell_type": "markdown",
      "metadata": {
        "id": "zvcftJLtA9om"
      },
      "source": [
        "### 2.2 SVM with Linear Kernel"
      ]
    },
    {
      "cell_type": "code",
      "metadata": {
        "colab": {
          "base_uri": "https://localhost:8080/",
          "height": 283
        },
        "id": "7lmqLR7CtLOD",
        "outputId": "896c44bd-0fe1-4669-d8df-8e28d13d5cfc"
      },
      "source": [
        "parameters = {'C': [0.01, 0.03, 0.1, 0.3, 1.0, 3.0, 9.0]}\n",
        "svm = LinearSVC(C=10, loss='hinge', max_iter=10000)\n",
        "grid_search = tune_parameters(svm, bag_of_words_norm, y_train, parameters, verbose=True)"
      ],
      "execution_count": null,
      "outputs": [
        {
          "output_type": "display_data",
          "data": {
            "image/png": "[encoded data removed]",
            "text/plain": [
              "<Figure size 432x288 with 1 Axes>"
            ]
          },
          "metadata": {
            "tags": [],
            "needs_background": "light"
          }
        }
      ]
    },
    {
      "cell_type": "code",
      "metadata": {
        "colab": {
          "base_uri": "https://localhost:8080/"
        },
        "id": "hRGZ0QQTtVKT",
        "outputId": "d920b7d2-351d-4603-cac1-99e8845c6273"
      },
      "source": [
        "svm_best = grid_search.best_estimator_\n",
        "evaluate_model(svm_best, bag_of_words_norm, bag_of_words_test_norm, y_train, y_test)"
      ],
      "execution_count": null,
      "outputs": [
        {
          "output_type": "stream",
          "text": [
            "Training accuracy: 0.8266666666666667\n",
            "Testing accuracy: 0.654\n",
            "Precision on test data: 0.668859649122807\n",
            "Recall on test data: 0.61\n",
            "f1 score on test data: 0.6380753138075314\n"
          ],
          "name": "stdout"
        }
      ]
    },
    {
      "cell_type": "markdown",
      "metadata": {
        "id": "7BMTs4Z3B8TJ"
      },
      "source": [
        "### 2.3 SVM with Polynomial Kernel (degree 2)"
      ]
    },
    {
      "cell_type": "code",
      "metadata": {
        "id": "iS448LgJj8HG"
      },
      "source": [
        "parameters = {'C': [0.01, 0.1, 1.0], 'coef0' : [1, 5, 10]}\n",
        "svm = SVC(kernel='poly', degree=2)\n",
        "grid_search = tune_parameters(svm, bag_of_words_norm, y_train, parameters, cv=ss)"
      ],
      "execution_count": null,
      "outputs": []
    },
    {
      "cell_type": "code",
      "metadata": {
        "colab": {
          "base_uri": "https://localhost:8080/"
        },
        "id": "VXA-HtGEns7_",
        "outputId": "614f562d-1e83-47f0-feb4-37a63e560147"
      },
      "source": [
        "svm_best = grid_search.best_estimator_\n",
        "evaluate_model(svm_best, bag_of_words_norm, bag_of_words_test_norm, y_train, y_test)"
      ],
      "execution_count": null,
      "outputs": [
        {
          "output_type": "stream",
          "text": [
            "Training accuracy: 0.7733333333333333\n",
            "Testing accuracy: 0.663\n",
            "Precision on test data: 0.6775599128540305\n",
            "Recall on test data: 0.622\n",
            "f1 score on test data: 0.64859228362878\n"
          ],
          "name": "stdout"
        }
      ]
    },
    {
      "cell_type": "code",
      "metadata": {
        "colab": {
          "base_uri": "https://localhost:8080/",
          "height": 467
        },
        "id": "vLhQc2uZoVCV",
        "outputId": "5dec4364-a45d-4499-8fb4-e081e716c4b4"
      },
      "source": [
        "results = pd.DataFrame(grid_search.cv_results_)\n",
        "results.head()"
      ],
      "execution_count": null,
      "outputs": [
        {
          "output_type": "execute_result",
          "data": {
            "text/html": [
              "<div>\n",
              "<style scoped>\n",
              "    .dataframe tbody tr th:only-of-type {\n",
              "        vertical-align: middle;\n",
              "    }\n",
              "\n",
              "    .dataframe tbody tr th {\n",
              "        vertical-align: top;\n",
              "    }\n",
              "\n",
              "    .dataframe thead th {\n",
              "        text-align: right;\n",
              "    }\n",
              "</style>\n",
              "<table border=\"1\" class=\"dataframe\">\n",
              "  <thead>\n",
              "    <tr style=\"text-align: right;\">\n",
              "      <th></th>\n",
              "      <th>mean_fit_time</th>\n",
              "      <th>std_fit_time</th>\n",
              "      <th>mean_score_time</th>\n",
              "      <th>std_score_time</th>\n",
              "      <th>param_C</th>\n",
              "      <th>param_coef0</th>\n",
              "      <th>params</th>\n",
              "      <th>split0_test_score</th>\n",
              "      <th>mean_test_score</th>\n",
              "      <th>std_test_score</th>\n",
              "      <th>rank_test_score</th>\n",
              "      <th>split0_train_score</th>\n",
              "      <th>mean_train_score</th>\n",
              "      <th>std_train_score</th>\n",
              "    </tr>\n",
              "  </thead>\n",
              "  <tbody>\n",
              "    <tr>\n",
              "      <th>0</th>\n",
              "      <td>81.619480</td>\n",
              "      <td>0.0</td>\n",
              "      <td>20.286001</td>\n",
              "      <td>0.0</td>\n",
              "      <td>0.01</td>\n",
              "      <td>1</td>\n",
              "      <td>{'C': 0.01, 'coef0': 1}</td>\n",
              "      <td>0.563333</td>\n",
              "      <td>0.563333</td>\n",
              "      <td>0.0</td>\n",
              "      <td>9</td>\n",
              "      <td>0.593194</td>\n",
              "      <td>0.593194</td>\n",
              "      <td>0.0</td>\n",
              "    </tr>\n",
              "    <tr>\n",
              "      <th>1</th>\n",
              "      <td>77.557007</td>\n",
              "      <td>0.0</td>\n",
              "      <td>18.923199</td>\n",
              "      <td>0.0</td>\n",
              "      <td>0.01</td>\n",
              "      <td>5</td>\n",
              "      <td>{'C': 0.01, 'coef0': 5}</td>\n",
              "      <td>0.650000</td>\n",
              "      <td>0.650000</td>\n",
              "      <td>0.0</td>\n",
              "      <td>5</td>\n",
              "      <td>0.703333</td>\n",
              "      <td>0.703333</td>\n",
              "      <td>0.0</td>\n",
              "    </tr>\n",
              "    <tr>\n",
              "      <th>2</th>\n",
              "      <td>76.645928</td>\n",
              "      <td>0.0</td>\n",
              "      <td>18.180186</td>\n",
              "      <td>0.0</td>\n",
              "      <td>0.01</td>\n",
              "      <td>10</td>\n",
              "      <td>{'C': 0.01, 'coef0': 10}</td>\n",
              "      <td>0.660556</td>\n",
              "      <td>0.660556</td>\n",
              "      <td>0.0</td>\n",
              "      <td>2</td>\n",
              "      <td>0.734167</td>\n",
              "      <td>0.734167</td>\n",
              "      <td>0.0</td>\n",
              "    </tr>\n",
              "    <tr>\n",
              "      <th>3</th>\n",
              "      <td>76.576484</td>\n",
              "      <td>0.0</td>\n",
              "      <td>18.223875</td>\n",
              "      <td>0.0</td>\n",
              "      <td>0.1</td>\n",
              "      <td>1</td>\n",
              "      <td>{'C': 0.1, 'coef0': 1}</td>\n",
              "      <td>0.662778</td>\n",
              "      <td>0.662778</td>\n",
              "      <td>0.0</td>\n",
              "      <td>1</td>\n",
              "      <td>0.778333</td>\n",
              "      <td>0.778333</td>\n",
              "      <td>0.0</td>\n",
              "    </tr>\n",
              "    <tr>\n",
              "      <th>4</th>\n",
              "      <td>71.963917</td>\n",
              "      <td>0.0</td>\n",
              "      <td>16.961619</td>\n",
              "      <td>0.0</td>\n",
              "      <td>0.1</td>\n",
              "      <td>5</td>\n",
              "      <td>{'C': 0.1, 'coef0': 5}</td>\n",
              "      <td>0.653889</td>\n",
              "      <td>0.653889</td>\n",
              "      <td>0.0</td>\n",
              "      <td>3</td>\n",
              "      <td>0.865278</td>\n",
              "      <td>0.865278</td>\n",
              "      <td>0.0</td>\n",
              "    </tr>\n",
              "  </tbody>\n",
              "</table>\n",
              "</div>"
            ],
            "text/plain": [
              "   mean_fit_time  std_fit_time  ...  mean_train_score  std_train_score\n",
              "0      81.619480           0.0  ...          0.593194              0.0\n",
              "1      77.557007           0.0  ...          0.703333              0.0\n",
              "2      76.645928           0.0  ...          0.734167              0.0\n",
              "3      76.576484           0.0  ...          0.778333              0.0\n",
              "4      71.963917           0.0  ...          0.865278              0.0\n",
              "\n",
              "[5 rows x 14 columns]"
            ]
          },
          "metadata": {
            "tags": []
          },
          "execution_count": 43
        }
      ]
    },
    {
      "cell_type": "code",
      "metadata": {
        "colab": {
          "base_uri": "https://localhost:8080/"
        },
        "id": "Jg5Hjz2NoXJ0",
        "outputId": "5b709e60-704f-4241-bab5-64e4b368eeda"
      },
      "source": [
        "grid_search.best_params_"
      ],
      "execution_count": null,
      "outputs": [
        {
          "output_type": "execute_result",
          "data": {
            "text/plain": [
              "{'C': 0.1, 'coef0': 1}"
            ]
          },
          "metadata": {
            "tags": []
          },
          "execution_count": 44
        }
      ]
    },
    {
      "cell_type": "code",
      "metadata": {
        "id": "ywddBYVUokFL"
      },
      "source": [
        "filename = '2.3_GridSearchCV.sav'\n",
        "pickle.dump(grid_search, open(filename, 'wb'))"
      ],
      "execution_count": null,
      "outputs": []
    },
    {
      "cell_type": "code",
      "metadata": {
        "id": "4klt5QlOos0_"
      },
      "source": [
        "loaded_model = pickle.load(open(filename, 'rb'))\n",
        "results = pd.DataFrame(loaded_model.cv_results_)\n",
        "results.head()"
      ],
      "execution_count": null,
      "outputs": []
    },
    {
      "cell_type": "markdown",
      "metadata": {
        "id": "FHeFj-JaEXKL"
      },
      "source": [
        "### 2.4 SVM with Gaussian Kernel"
      ]
    },
    {
      "cell_type": "code",
      "metadata": {
        "id": "K1_L_bLLows_"
      },
      "source": [
        "parameters = {'C': [0.01, 0.1, 1.0, 10], 'gamma' : [1, 3, 10]}\n",
        "svm = SVC(kernel=\"rbf\")\n",
        "grid_search = tune_parameters(svm, bag_of_words_norm, y_train, parameters, cv=ss)"
      ],
      "execution_count": null,
      "outputs": []
    },
    {
      "cell_type": "code",
      "metadata": {
        "colab": {
          "base_uri": "https://localhost:8080/"
        },
        "id": "5ZgWnZxnum9-",
        "outputId": "7c716eaf-d7ab-46f8-98e0-13a35f3efaec"
      },
      "source": [
        "grid_search.best_params_"
      ],
      "execution_count": null,
      "outputs": [
        {
          "output_type": "execute_result",
          "data": {
            "text/plain": [
              "{'C': 1.0, 'gamma': 1}"
            ]
          },
          "metadata": {
            "tags": []
          },
          "execution_count": 49
        }
      ]
    },
    {
      "cell_type": "code",
      "metadata": {
        "colab": {
          "base_uri": "https://localhost:8080/"
        },
        "id": "ccqME4ZfuDF3",
        "outputId": "fc4c7b2a-98dc-4a32-c509-d70a24b7ed3a"
      },
      "source": [
        "svm_best = grid_search.best_estimator_\n",
        "evaluate_model(svm_best, bag_of_words_norm, bag_of_words_test_norm, y_train, y_test)"
      ],
      "execution_count": null,
      "outputs": [
        {
          "output_type": "stream",
          "text": [
            "Training accuracy: 0.9537777777777777\n",
            "Testing accuracy: 0.671\n",
            "Precision on test data: 0.6815286624203821\n",
            "Recall on test data: 0.642\n",
            "f1 score on test data: 0.6611740473738414\n"
          ],
          "name": "stdout"
        }
      ]
    },
    {
      "cell_type": "code",
      "metadata": {
        "colab": {
          "base_uri": "https://localhost:8080/",
          "height": 434
        },
        "id": "7dtx5Xe7veYk",
        "outputId": "81808130-bbb2-4b4b-bc35-ce8a699dce5d"
      },
      "source": [
        "results = pd.DataFrame(grid_search.cv_results_)\n",
        "results.head()"
      ],
      "execution_count": null,
      "outputs": [
        {
          "output_type": "execute_result",
          "data": {
            "text/html": [
              "<div>\n",
              "<style scoped>\n",
              "    .dataframe tbody tr th:only-of-type {\n",
              "        vertical-align: middle;\n",
              "    }\n",
              "\n",
              "    .dataframe tbody tr th {\n",
              "        vertical-align: top;\n",
              "    }\n",
              "\n",
              "    .dataframe thead th {\n",
              "        text-align: right;\n",
              "    }\n",
              "</style>\n",
              "<table border=\"1\" class=\"dataframe\">\n",
              "  <thead>\n",
              "    <tr style=\"text-align: right;\">\n",
              "      <th></th>\n",
              "      <th>mean_fit_time</th>\n",
              "      <th>std_fit_time</th>\n",
              "      <th>mean_score_time</th>\n",
              "      <th>std_score_time</th>\n",
              "      <th>param_C</th>\n",
              "      <th>param_gamma</th>\n",
              "      <th>params</th>\n",
              "      <th>split0_test_score</th>\n",
              "      <th>mean_test_score</th>\n",
              "      <th>std_test_score</th>\n",
              "      <th>rank_test_score</th>\n",
              "      <th>split0_train_score</th>\n",
              "      <th>mean_train_score</th>\n",
              "      <th>std_train_score</th>\n",
              "    </tr>\n",
              "  </thead>\n",
              "  <tbody>\n",
              "    <tr>\n",
              "      <th>0</th>\n",
              "      <td>84.253220</td>\n",
              "      <td>0.0</td>\n",
              "      <td>20.847738</td>\n",
              "      <td>0.0</td>\n",
              "      <td>0.01</td>\n",
              "      <td>1</td>\n",
              "      <td>{'C': 0.01, 'gamma': 1}</td>\n",
              "      <td>0.491667</td>\n",
              "      <td>0.491667</td>\n",
              "      <td>0.0</td>\n",
              "      <td>8</td>\n",
              "      <td>0.502083</td>\n",
              "      <td>0.502083</td>\n",
              "      <td>0.0</td>\n",
              "    </tr>\n",
              "    <tr>\n",
              "      <th>1</th>\n",
              "      <td>83.991072</td>\n",
              "      <td>0.0</td>\n",
              "      <td>21.029014</td>\n",
              "      <td>0.0</td>\n",
              "      <td>0.01</td>\n",
              "      <td>3</td>\n",
              "      <td>{'C': 0.01, 'gamma': 3}</td>\n",
              "      <td>0.491667</td>\n",
              "      <td>0.491667</td>\n",
              "      <td>0.0</td>\n",
              "      <td>8</td>\n",
              "      <td>0.502083</td>\n",
              "      <td>0.502083</td>\n",
              "      <td>0.0</td>\n",
              "    </tr>\n",
              "    <tr>\n",
              "      <th>2</th>\n",
              "      <td>86.988489</td>\n",
              "      <td>0.0</td>\n",
              "      <td>21.052115</td>\n",
              "      <td>0.0</td>\n",
              "      <td>0.01</td>\n",
              "      <td>10</td>\n",
              "      <td>{'C': 0.01, 'gamma': 10}</td>\n",
              "      <td>0.491667</td>\n",
              "      <td>0.491667</td>\n",
              "      <td>0.0</td>\n",
              "      <td>8</td>\n",
              "      <td>0.502083</td>\n",
              "      <td>0.502083</td>\n",
              "      <td>0.0</td>\n",
              "    </tr>\n",
              "    <tr>\n",
              "      <th>3</th>\n",
              "      <td>85.232176</td>\n",
              "      <td>0.0</td>\n",
              "      <td>20.662672</td>\n",
              "      <td>0.0</td>\n",
              "      <td>0.1</td>\n",
              "      <td>1</td>\n",
              "      <td>{'C': 0.1, 'gamma': 1}</td>\n",
              "      <td>0.592778</td>\n",
              "      <td>0.592778</td>\n",
              "      <td>0.0</td>\n",
              "      <td>5</td>\n",
              "      <td>0.672500</td>\n",
              "      <td>0.672500</td>\n",
              "      <td>0.0</td>\n",
              "    </tr>\n",
              "    <tr>\n",
              "      <th>4</th>\n",
              "      <td>85.262628</td>\n",
              "      <td>0.0</td>\n",
              "      <td>21.003951</td>\n",
              "      <td>0.0</td>\n",
              "      <td>0.1</td>\n",
              "      <td>3</td>\n",
              "      <td>{'C': 0.1, 'gamma': 3}</td>\n",
              "      <td>0.491667</td>\n",
              "      <td>0.491667</td>\n",
              "      <td>0.0</td>\n",
              "      <td>8</td>\n",
              "      <td>0.502222</td>\n",
              "      <td>0.502222</td>\n",
              "      <td>0.0</td>\n",
              "    </tr>\n",
              "  </tbody>\n",
              "</table>\n",
              "</div>"
            ],
            "text/plain": [
              "   mean_fit_time  std_fit_time  ...  mean_train_score  std_train_score\n",
              "0      84.253220           0.0  ...          0.502083              0.0\n",
              "1      83.991072           0.0  ...          0.502083              0.0\n",
              "2      86.988489           0.0  ...          0.502083              0.0\n",
              "3      85.232176           0.0  ...          0.672500              0.0\n",
              "4      85.262628           0.0  ...          0.502222              0.0\n",
              "\n",
              "[5 rows x 14 columns]"
            ]
          },
          "metadata": {
            "tags": []
          },
          "execution_count": 50
        }
      ]
    },
    {
      "cell_type": "code",
      "metadata": {
        "id": "DOJTgMGYvj_K"
      },
      "source": [
        "filename = '2.4_GridSearchCV.sav'\n",
        "pickle.dump(grid_search, open(filename, 'wb'))"
      ],
      "execution_count": null,
      "outputs": []
    },
    {
      "cell_type": "code",
      "metadata": {
        "id": "sH-EGLmfvqpu"
      },
      "source": [
        "loaded_model = pickle.load(open(filename, 'rb'))\n",
        "results = pd.DataFrame(loaded_model.cv_results_)\n",
        "results.head()"
      ],
      "execution_count": null,
      "outputs": []
    },
    {
      "cell_type": "markdown",
      "metadata": {
        "id": "vR6L8RzSoDQp"
      },
      "source": [
        "### Observations\n",
        "* The accuracy of the model reduced when we removed stopwords. This maybe because some stopwords maybe relevant in detecting spoilers.\n",
        "* Accuracy of the model increased as we increased the complexity of model from SVM linear kernel to SVM Gaussian Kernel.\n",
        "* Irrelevant features created due to repetition of words such as 'herald', 'heralds', 'heralding', 'heralded'."
      ]
    },
    {
      "cell_type": "markdown",
      "metadata": {
        "id": "B-C8LqOZEspB"
      },
      "source": [
        "## 3. With Bigrams, with stopwords, words that appear in <=5 documents removed"
      ]
    },
    {
      "cell_type": "code",
      "metadata": {
        "colab": {
          "base_uri": "https://localhost:8080/"
        },
        "id": "1lD45VulFJ7R",
        "outputId": "20d3e6bd-5b48-45a6-f923-2389d4dad29f"
      },
      "source": [
        "bag_of_words_norm, vect = get_feature_vector(X_train, ngram_range=(1,2), min_df=5)"
      ],
      "execution_count": null,
      "outputs": [
        {
          "output_type": "stream",
          "text": [
            "Vocabulary size: 78398\n",
            "Number of features: 78398\n",
            "First 20 features:\n",
            "['00', '000', '000 000', '000 and', '000 year', '007', '02', '05', '07', '09', '10', '10 000', '10 10', '10 15', '10 all', '10 also', '10 and', '10 as', '10 at', '10 because']\n",
            "Features 20010 to 20030:\n",
            "['embassy', 'embedded', 'embellished', 'emblem', 'embodied', 'embodies', 'embodies the', 'embodiment', 'embodiment of', 'embrace', 'embrace the', 'embraced', 'embraces', 'embracing', 'embryos', 'emerge', 'emerge and', 'emerge from', 'emerged', 'emerged as']\n",
            "Every 2000th feature:\n",
            "['00', 'aliens are', 'and excellent', 'apparently the', 'backstory and', 'bigelow', 'by stephen', 'classic like', 'cringe worthy', 'director could', 'embark', 'fabric', 'five', 'get worse', 'hans zimmer', 'him anyway', 'importantly', 'is executed', 'job was', 'leper', 'male characters', 'monumental', 'nelson and', 'of gold', 'opinion is', 'perhaps just', 'protocol', 'reported', 'scope', 'simply enjoy', 'stark', 'takes up', 'the continuity', 'the sniper', 'this morning', 'to unleash', 'updating the', 'watch not', 'will appeal', 'you have']\n"
          ],
          "name": "stdout"
        }
      ]
    },
    {
      "cell_type": "code",
      "metadata": {
        "colab": {
          "base_uri": "https://localhost:8080/"
        },
        "id": "1yRtwzNNFjMV",
        "outputId": "9e89ff6f-6b70-431f-dcea-0efdc0a5a620"
      },
      "source": [
        "bag_of_words_test = vect.transform(X_test)\n",
        "bag_of_words_test_norm = normalize(bag_of_words_test, norm='l2')\n",
        "bag_of_words_test_norm"
      ],
      "execution_count": null,
      "outputs": [
        {
          "output_type": "execute_result",
          "data": {
            "text/plain": [
              "<1000x78398 sparse matrix of type '<class 'numpy.float64'>'\n",
              "\twith 297743 stored elements in Compressed Sparse Row format>"
            ]
          },
          "metadata": {
            "tags": []
          },
          "execution_count": 19
        }
      ]
    },
    {
      "cell_type": "markdown",
      "metadata": {
        "id": "8_Xmb5CEFKUt"
      },
      "source": [
        "### 3.1 Logistic Regression"
      ]
    },
    {
      "cell_type": "code",
      "metadata": {
        "colab": {
          "base_uri": "https://localhost:8080/",
          "height": 279
        },
        "id": "xRuvNjvNtjIw",
        "outputId": "22a7f0df-6baf-4c74-ecc2-4a136c1b2c46"
      },
      "source": [
        "parameters = {'C': [0.01, 0.03, 0.1, 0.3, 1.0, 3.0, 9.0]}\n",
        "log_reg = LogisticRegression(max_iter=1000)         # Creating an instance of Scikit Learn LogisticRegression class\n",
        "grid_search = tune_parameters(log_reg, bag_of_words_norm, y_train, parameters, verbose=True)"
      ],
      "execution_count": null,
      "outputs": [
        {
          "output_type": "display_data",
          "data": {
            "image/png": "[encoded data removed]",
            "text/plain": [
              "<Figure size 432x288 with 1 Axes>"
            ]
          },
          "metadata": {
            "tags": [],
            "needs_background": "light"
          }
        }
      ]
    },
    {
      "cell_type": "code",
      "metadata": {
        "colab": {
          "base_uri": "https://localhost:8080/"
        },
        "id": "FowEFdjJtxQF",
        "outputId": "7ff4ce3a-db69-4cb9-bf39-e1a868dcbbf4"
      },
      "source": [
        "log_reg_best = grid_search.best_estimator_\n",
        "evaluate_model(log_reg_best, bag_of_words_norm, bag_of_words_test_norm, y_train, y_test)"
      ],
      "execution_count": null,
      "outputs": [
        {
          "output_type": "stream",
          "text": [
            "Training accuracy: 0.8151111111111111\n",
            "Testing accuracy: 0.667\n",
            "Precision on test data: 0.6750524109014675\n",
            "Recall on test data: 0.644\n",
            "f1 score on test data: 0.6591606960081883\n"
          ],
          "name": "stdout"
        }
      ]
    },
    {
      "cell_type": "markdown",
      "metadata": {
        "id": "_G0k5XmxF-bj"
      },
      "source": [
        "### 3.2 SVM with Linear Kernel"
      ]
    },
    {
      "cell_type": "code",
      "metadata": {
        "colab": {
          "base_uri": "https://localhost:8080/",
          "height": 281
        },
        "id": "ZO08esCsuJXK",
        "outputId": "448ce949-1204-4909-e43a-27c0ba028002"
      },
      "source": [
        "parameters = {'C': [0.01, 0.03, 0.1, 0.3, 1.0, 3.0, 9.0]}\n",
        "svm = LinearSVC(C=10, loss='hinge', max_iter=10000)\n",
        "grid_search = tune_parameters(svm, bag_of_words_norm, y_train, parameters, verbose=True)"
      ],
      "execution_count": null,
      "outputs": [
        {
          "output_type": "display_data",
          "data": {
            "image/png": "[encoded data removed]",
            "text/plain": [
              "<Figure size 432x288 with 1 Axes>"
            ]
          },
          "metadata": {
            "tags": [],
            "needs_background": "light"
          }
        }
      ]
    },
    {
      "cell_type": "code",
      "metadata": {
        "colab": {
          "base_uri": "https://localhost:8080/"
        },
        "id": "fkJQdiWXgFfB",
        "outputId": "b34a04aa-5cf4-4ac0-a2dd-123dd0bbb351"
      },
      "source": [
        "grid_search.best_params_"
      ],
      "execution_count": null,
      "outputs": [
        {
          "output_type": "execute_result",
          "data": {
            "text/plain": [
              "{'C': 1.0}"
            ]
          },
          "metadata": {
            "tags": []
          },
          "execution_count": 21
        }
      ]
    },
    {
      "cell_type": "code",
      "metadata": {
        "colab": {
          "base_uri": "https://localhost:8080/"
        },
        "id": "ecQTOaPVuThJ",
        "outputId": "df6e0591-d412-4014-8fea-a2ce9b87646d"
      },
      "source": [
        "svm_best = grid_search.best_estimator_\n",
        "evaluate_model(svm_best, bag_of_words_norm, bag_of_words_test_norm, y_train, y_test)"
      ],
      "execution_count": null,
      "outputs": [
        {
          "output_type": "stream",
          "text": [
            "Training accuracy: 0.7848888888888889\n",
            "Testing accuracy: 0.691\n",
            "Precision on test data: 0.6906187624750499\n",
            "Recall on test data: 0.692\n",
            "f1 score on test data: 0.6913086913086913\n"
          ],
          "name": "stdout"
        }
      ]
    },
    {
      "cell_type": "markdown",
      "metadata": {
        "id": "6-JIXmYyGLnK"
      },
      "source": [
        "### 3.3 SVM with Polynomial Kernel (degree=2)"
      ]
    },
    {
      "cell_type": "code",
      "metadata": {
        "id": "0BfiA9O1v3hc"
      },
      "source": [
        "parameters = {'C': [0.01, 0.1, 1.0], 'coef0' : [1, 3, 10]}\n",
        "svm = SVC(kernel='poly', degree=2)\n",
        "grid_search = tune_parameters(svm, bag_of_words_norm, y_train, parameters, cv=ss)"
      ],
      "execution_count": null,
      "outputs": []
    },
    {
      "cell_type": "code",
      "metadata": {
        "colab": {
          "base_uri": "https://localhost:8080/"
        },
        "id": "epIbLk2-_-Na",
        "outputId": "2100d9bf-5f07-4e1b-ba93-191a6566b938"
      },
      "source": [
        "svm_best = grid_search.best_estimator_\n",
        "evaluate_model(svm_best, bag_of_words_norm, bag_of_words_test_norm, y_train, y_test)"
      ],
      "execution_count": null,
      "outputs": [
        {
          "output_type": "stream",
          "text": [
            "Training accuracy: 0.7231111111111111\n",
            "Testing accuracy: 0.669\n",
            "Precision on test data: 0.6728016359918201\n",
            "Recall on test data: 0.658\n",
            "f1 score on test data: 0.6653185035389282\n"
          ],
          "name": "stdout"
        }
      ]
    },
    {
      "cell_type": "code",
      "metadata": {
        "colab": {
          "base_uri": "https://localhost:8080/"
        },
        "id": "wgp2Snq3BUwF",
        "outputId": "c05dccbe-d513-4ae6-f8d3-a4f8c4eb57c2"
      },
      "source": [
        "grid_search.best_params_"
      ],
      "execution_count": null,
      "outputs": [
        {
          "output_type": "execute_result",
          "data": {
            "text/plain": [
              "{'C': 0.1, 'coef0': 1}"
            ]
          },
          "metadata": {
            "tags": []
          },
          "execution_count": 24
        }
      ]
    },
    {
      "cell_type": "code",
      "metadata": {
        "colab": {
          "base_uri": "https://localhost:8080/",
          "height": 467
        },
        "id": "g2qA-lBYBc9o",
        "outputId": "cd365452-64a5-4974-c00f-3c895242c809"
      },
      "source": [
        "results = pd.DataFrame(grid_search.cv_results_)\n",
        "results.head()"
      ],
      "execution_count": null,
      "outputs": [
        {
          "output_type": "execute_result",
          "data": {
            "text/html": [
              "<div>\n",
              "<style scoped>\n",
              "    .dataframe tbody tr th:only-of-type {\n",
              "        vertical-align: middle;\n",
              "    }\n",
              "\n",
              "    .dataframe tbody tr th {\n",
              "        vertical-align: top;\n",
              "    }\n",
              "\n",
              "    .dataframe thead th {\n",
              "        text-align: right;\n",
              "    }\n",
              "</style>\n",
              "<table border=\"1\" class=\"dataframe\">\n",
              "  <thead>\n",
              "    <tr style=\"text-align: right;\">\n",
              "      <th></th>\n",
              "      <th>mean_fit_time</th>\n",
              "      <th>std_fit_time</th>\n",
              "      <th>mean_score_time</th>\n",
              "      <th>std_score_time</th>\n",
              "      <th>param_C</th>\n",
              "      <th>param_coef0</th>\n",
              "      <th>params</th>\n",
              "      <th>split0_test_score</th>\n",
              "      <th>mean_test_score</th>\n",
              "      <th>std_test_score</th>\n",
              "      <th>rank_test_score</th>\n",
              "      <th>split0_train_score</th>\n",
              "      <th>mean_train_score</th>\n",
              "      <th>std_train_score</th>\n",
              "    </tr>\n",
              "  </thead>\n",
              "  <tbody>\n",
              "    <tr>\n",
              "      <th>0</th>\n",
              "      <td>205.105158</td>\n",
              "      <td>0.0</td>\n",
              "      <td>49.421175</td>\n",
              "      <td>0.0</td>\n",
              "      <td>0.01</td>\n",
              "      <td>1</td>\n",
              "      <td>{'C': 0.01, 'coef0': 1}</td>\n",
              "      <td>0.623333</td>\n",
              "      <td>0.623333</td>\n",
              "      <td>0.0</td>\n",
              "      <td>9</td>\n",
              "      <td>0.632222</td>\n",
              "      <td>0.632222</td>\n",
              "      <td>0.0</td>\n",
              "    </tr>\n",
              "    <tr>\n",
              "      <th>1</th>\n",
              "      <td>198.157887</td>\n",
              "      <td>0.0</td>\n",
              "      <td>46.924513</td>\n",
              "      <td>0.0</td>\n",
              "      <td>0.01</td>\n",
              "      <td>3</td>\n",
              "      <td>{'C': 0.01, 'coef0': 3}</td>\n",
              "      <td>0.640556</td>\n",
              "      <td>0.640556</td>\n",
              "      <td>0.0</td>\n",
              "      <td>6</td>\n",
              "      <td>0.652500</td>\n",
              "      <td>0.652500</td>\n",
              "      <td>0.0</td>\n",
              "    </tr>\n",
              "    <tr>\n",
              "      <th>2</th>\n",
              "      <td>194.022576</td>\n",
              "      <td>0.0</td>\n",
              "      <td>44.990753</td>\n",
              "      <td>0.0</td>\n",
              "      <td>0.01</td>\n",
              "      <td>10</td>\n",
              "      <td>{'C': 0.01, 'coef0': 10}</td>\n",
              "      <td>0.663333</td>\n",
              "      <td>0.663333</td>\n",
              "      <td>0.0</td>\n",
              "      <td>2</td>\n",
              "      <td>0.694861</td>\n",
              "      <td>0.694861</td>\n",
              "      <td>0.0</td>\n",
              "    </tr>\n",
              "    <tr>\n",
              "      <th>3</th>\n",
              "      <td>192.723217</td>\n",
              "      <td>0.0</td>\n",
              "      <td>44.452995</td>\n",
              "      <td>0.0</td>\n",
              "      <td>0.1</td>\n",
              "      <td>1</td>\n",
              "      <td>{'C': 0.1, 'coef0': 1}</td>\n",
              "      <td>0.666667</td>\n",
              "      <td>0.666667</td>\n",
              "      <td>0.0</td>\n",
              "      <td>1</td>\n",
              "      <td>0.723611</td>\n",
              "      <td>0.723611</td>\n",
              "      <td>0.0</td>\n",
              "    </tr>\n",
              "    <tr>\n",
              "      <th>4</th>\n",
              "      <td>188.206290</td>\n",
              "      <td>0.0</td>\n",
              "      <td>43.809917</td>\n",
              "      <td>0.0</td>\n",
              "      <td>0.1</td>\n",
              "      <td>3</td>\n",
              "      <td>{'C': 0.1, 'coef0': 3}</td>\n",
              "      <td>0.662222</td>\n",
              "      <td>0.662222</td>\n",
              "      <td>0.0</td>\n",
              "      <td>3</td>\n",
              "      <td>0.773056</td>\n",
              "      <td>0.773056</td>\n",
              "      <td>0.0</td>\n",
              "    </tr>\n",
              "  </tbody>\n",
              "</table>\n",
              "</div>"
            ],
            "text/plain": [
              "   mean_fit_time  std_fit_time  ...  mean_train_score  std_train_score\n",
              "0     205.105158           0.0  ...          0.632222              0.0\n",
              "1     198.157887           0.0  ...          0.652500              0.0\n",
              "2     194.022576           0.0  ...          0.694861              0.0\n",
              "3     192.723217           0.0  ...          0.723611              0.0\n",
              "4     188.206290           0.0  ...          0.773056              0.0\n",
              "\n",
              "[5 rows x 14 columns]"
            ]
          },
          "metadata": {
            "tags": []
          },
          "execution_count": 25
        }
      ]
    },
    {
      "cell_type": "code",
      "metadata": {
        "id": "hBky0x33BmRr"
      },
      "source": [
        "results.to_csv(\"3.3_GridSearchCV_analysis.csv\", index=False)"
      ],
      "execution_count": null,
      "outputs": []
    },
    {
      "cell_type": "code",
      "metadata": {
        "id": "-QawuJ3rNS9z"
      },
      "source": [
        "filename = '3.3_GridSearchCV.sav'\n",
        "pickle.dump(grid_search, open(filename, 'wb'))"
      ],
      "execution_count": null,
      "outputs": []
    },
    {
      "cell_type": "code",
      "metadata": {
        "colab": {
          "base_uri": "https://localhost:8080/",
          "height": 467
        },
        "id": "GVpLQf_sNfez",
        "outputId": "72906659-67b5-471a-cdfe-8bcd1b83251c"
      },
      "source": [
        "loaded_model = pickle.load(open(filename, 'rb'))\n",
        "results = pd.DataFrame(loaded_model.cv_results_)\n",
        "results.head()"
      ],
      "execution_count": null,
      "outputs": [
        {
          "output_type": "execute_result",
          "data": {
            "text/html": [
              "<div>\n",
              "<style scoped>\n",
              "    .dataframe tbody tr th:only-of-type {\n",
              "        vertical-align: middle;\n",
              "    }\n",
              "\n",
              "    .dataframe tbody tr th {\n",
              "        vertical-align: top;\n",
              "    }\n",
              "\n",
              "    .dataframe thead th {\n",
              "        text-align: right;\n",
              "    }\n",
              "</style>\n",
              "<table border=\"1\" class=\"dataframe\">\n",
              "  <thead>\n",
              "    <tr style=\"text-align: right;\">\n",
              "      <th></th>\n",
              "      <th>mean_fit_time</th>\n",
              "      <th>std_fit_time</th>\n",
              "      <th>mean_score_time</th>\n",
              "      <th>std_score_time</th>\n",
              "      <th>param_C</th>\n",
              "      <th>param_coef0</th>\n",
              "      <th>params</th>\n",
              "      <th>split0_test_score</th>\n",
              "      <th>mean_test_score</th>\n",
              "      <th>std_test_score</th>\n",
              "      <th>rank_test_score</th>\n",
              "      <th>split0_train_score</th>\n",
              "      <th>mean_train_score</th>\n",
              "      <th>std_train_score</th>\n",
              "    </tr>\n",
              "  </thead>\n",
              "  <tbody>\n",
              "    <tr>\n",
              "      <th>0</th>\n",
              "      <td>205.105158</td>\n",
              "      <td>0.0</td>\n",
              "      <td>49.421175</td>\n",
              "      <td>0.0</td>\n",
              "      <td>0.01</td>\n",
              "      <td>1</td>\n",
              "      <td>{'C': 0.01, 'coef0': 1}</td>\n",
              "      <td>0.623333</td>\n",
              "      <td>0.623333</td>\n",
              "      <td>0.0</td>\n",
              "      <td>9</td>\n",
              "      <td>0.632222</td>\n",
              "      <td>0.632222</td>\n",
              "      <td>0.0</td>\n",
              "    </tr>\n",
              "    <tr>\n",
              "      <th>1</th>\n",
              "      <td>198.157887</td>\n",
              "      <td>0.0</td>\n",
              "      <td>46.924513</td>\n",
              "      <td>0.0</td>\n",
              "      <td>0.01</td>\n",
              "      <td>3</td>\n",
              "      <td>{'C': 0.01, 'coef0': 3}</td>\n",
              "      <td>0.640556</td>\n",
              "      <td>0.640556</td>\n",
              "      <td>0.0</td>\n",
              "      <td>6</td>\n",
              "      <td>0.652500</td>\n",
              "      <td>0.652500</td>\n",
              "      <td>0.0</td>\n",
              "    </tr>\n",
              "    <tr>\n",
              "      <th>2</th>\n",
              "      <td>194.022576</td>\n",
              "      <td>0.0</td>\n",
              "      <td>44.990753</td>\n",
              "      <td>0.0</td>\n",
              "      <td>0.01</td>\n",
              "      <td>10</td>\n",
              "      <td>{'C': 0.01, 'coef0': 10}</td>\n",
              "      <td>0.663333</td>\n",
              "      <td>0.663333</td>\n",
              "      <td>0.0</td>\n",
              "      <td>2</td>\n",
              "      <td>0.694861</td>\n",
              "      <td>0.694861</td>\n",
              "      <td>0.0</td>\n",
              "    </tr>\n",
              "    <tr>\n",
              "      <th>3</th>\n",
              "      <td>192.723217</td>\n",
              "      <td>0.0</td>\n",
              "      <td>44.452995</td>\n",
              "      <td>0.0</td>\n",
              "      <td>0.1</td>\n",
              "      <td>1</td>\n",
              "      <td>{'C': 0.1, 'coef0': 1}</td>\n",
              "      <td>0.666667</td>\n",
              "      <td>0.666667</td>\n",
              "      <td>0.0</td>\n",
              "      <td>1</td>\n",
              "      <td>0.723611</td>\n",
              "      <td>0.723611</td>\n",
              "      <td>0.0</td>\n",
              "    </tr>\n",
              "    <tr>\n",
              "      <th>4</th>\n",
              "      <td>188.206290</td>\n",
              "      <td>0.0</td>\n",
              "      <td>43.809917</td>\n",
              "      <td>0.0</td>\n",
              "      <td>0.1</td>\n",
              "      <td>3</td>\n",
              "      <td>{'C': 0.1, 'coef0': 3}</td>\n",
              "      <td>0.662222</td>\n",
              "      <td>0.662222</td>\n",
              "      <td>0.0</td>\n",
              "      <td>3</td>\n",
              "      <td>0.773056</td>\n",
              "      <td>0.773056</td>\n",
              "      <td>0.0</td>\n",
              "    </tr>\n",
              "  </tbody>\n",
              "</table>\n",
              "</div>"
            ],
            "text/plain": [
              "   mean_fit_time  std_fit_time  ...  mean_train_score  std_train_score\n",
              "0     205.105158           0.0  ...          0.632222              0.0\n",
              "1     198.157887           0.0  ...          0.652500              0.0\n",
              "2     194.022576           0.0  ...          0.694861              0.0\n",
              "3     192.723217           0.0  ...          0.723611              0.0\n",
              "4     188.206290           0.0  ...          0.773056              0.0\n",
              "\n",
              "[5 rows x 14 columns]"
            ]
          },
          "metadata": {
            "tags": []
          },
          "execution_count": 36
        }
      ]
    },
    {
      "cell_type": "code",
      "metadata": {
        "colab": {
          "base_uri": "https://localhost:8080/"
        },
        "id": "suilYnG9GJKU",
        "outputId": "34beea9d-8801-47fe-8508-8a74aab1edb5"
      },
      "source": [
        "svm = SVC(kernel='poly', degree=2, coef0=2, C=0.1)\n",
        "svm.fit(bag_of_words_norm, y_train)"
      ],
      "execution_count": null,
      "outputs": [
        {
          "output_type": "execute_result",
          "data": {
            "text/plain": [
              "SVC(C=0.1, break_ties=False, cache_size=200, class_weight=None, coef0=2,\n",
              "    decision_function_shape='ovr', degree=2, gamma='scale', kernel='poly',\n",
              "    max_iter=-1, probability=False, random_state=None, shrinking=True,\n",
              "    tol=0.001, verbose=False)"
            ]
          },
          "metadata": {
            "tags": []
          },
          "execution_count": 29
        }
      ]
    },
    {
      "cell_type": "code",
      "metadata": {
        "colab": {
          "base_uri": "https://localhost:8080/"
        },
        "id": "0fgpr6ZzGTvR",
        "outputId": "e6e7f4b4-be2a-4199-d47e-5b4f543a274a"
      },
      "source": [
        "evaluate_model(svm, bag_of_words_norm, bag_of_words_test_norm, y_train, y_test)"
      ],
      "execution_count": null,
      "outputs": [
        {
          "output_type": "stream",
          "text": [
            "Training accuracy: 0.748\n",
            "Testing accuracy: 0.678\n",
            "Precision on test data: 0.6831275720164609\n",
            "Recall on test data: 0.664\n",
            "f1 score on test data: 0.6734279918864098\n"
          ],
          "name": "stdout"
        }
      ]
    },
    {
      "cell_type": "code",
      "metadata": {
        "colab": {
          "base_uri": "https://localhost:8080/"
        },
        "id": "bUlL4LmfH5qs",
        "outputId": "8851f8b1-fda5-45c9-f261-8b990ce62640"
      },
      "source": [
        "svm = SVC(kernel='poly', degree=2, coef0=2.5, C=0.1)\n",
        "svm.fit(bag_of_words_norm, y_train)"
      ],
      "execution_count": null,
      "outputs": [
        {
          "output_type": "execute_result",
          "data": {
            "text/plain": [
              "SVC(C=0.1, break_ties=False, cache_size=200, class_weight=None, coef0=2.5,\n",
              "    decision_function_shape='ovr', degree=2, gamma='scale', kernel='poly',\n",
              "    max_iter=-1, probability=False, random_state=None, shrinking=True,\n",
              "    tol=0.001, verbose=False)"
            ]
          },
          "metadata": {
            "tags": []
          },
          "execution_count": 31
        }
      ]
    },
    {
      "cell_type": "code",
      "metadata": {
        "colab": {
          "base_uri": "https://localhost:8080/"
        },
        "id": "PZlvly5CI-1i",
        "outputId": "28e193d6-ff05-45d3-876a-624c488f3067"
      },
      "source": [
        "evaluate_model(svm, bag_of_words_norm, bag_of_words_test_norm, y_train, y_test)"
      ],
      "execution_count": null,
      "outputs": [
        {
          "output_type": "stream",
          "text": [
            "Training accuracy: 0.7588888888888888\n",
            "Testing accuracy: 0.677\n",
            "Precision on test data: 0.6802443991853361\n",
            "Recall on test data: 0.668\n",
            "f1 score on test data: 0.674066599394551\n"
          ],
          "name": "stdout"
        }
      ]
    },
    {
      "cell_type": "code",
      "metadata": {
        "colab": {
          "base_uri": "https://localhost:8080/"
        },
        "id": "bGCbTyzdKClB",
        "outputId": "246e7026-0a1c-4f2b-ef0a-bbff68175511"
      },
      "source": [
        "svm = SVC(kernel='poly', degree=2, coef0=2.25, C=0.1)\n",
        "svm.fit(bag_of_words_norm, y_train)"
      ],
      "execution_count": null,
      "outputs": [
        {
          "output_type": "execute_result",
          "data": {
            "text/plain": [
              "SVC(C=0.1, break_ties=False, cache_size=200, class_weight=None, coef0=2.25,\n",
              "    decision_function_shape='ovr', degree=2, gamma='scale', kernel='poly',\n",
              "    max_iter=-1, probability=False, random_state=None, shrinking=True,\n",
              "    tol=0.001, verbose=False)"
            ]
          },
          "metadata": {
            "tags": []
          },
          "execution_count": 33
        }
      ]
    },
    {
      "cell_type": "code",
      "metadata": {
        "colab": {
          "base_uri": "https://localhost:8080/"
        },
        "id": "ePXtGN2mLKc_",
        "outputId": "d9c31620-7d87-4d8c-ad79-53789c39bf45"
      },
      "source": [
        "evaluate_model(svm, bag_of_words_norm, bag_of_words_test_norm, y_train, y_test)"
      ],
      "execution_count": null,
      "outputs": [
        {
          "output_type": "stream",
          "text": [
            "Training accuracy: 0.7537777777777778\n",
            "Testing accuracy: 0.677\n",
            "Precision on test data: 0.6809815950920245\n",
            "Recall on test data: 0.666\n",
            "f1 score on test data: 0.673407482305359\n"
          ],
          "name": "stdout"
        }
      ]
    },
    {
      "cell_type": "markdown",
      "metadata": {
        "id": "-_fOidmWHdLq"
      },
      "source": [
        "### 3.4 SVM with Gaussian Kernel"
      ]
    },
    {
      "cell_type": "code",
      "metadata": {
        "id": "Ue1c6ZfOEldF"
      },
      "source": [
        "parameters = {'C': [0.01, 0.1, 1.0, 10], 'gamma' : [1, 3, 10]}\n",
        "svm = SVC(kernel=\"rbf\")\n",
        "grid_search = tune_parameters(svm, bag_of_words_norm, y_train, parameters, cv=ss)"
      ],
      "execution_count": null,
      "outputs": []
    },
    {
      "cell_type": "code",
      "metadata": {
        "colab": {
          "base_uri": "https://localhost:8080/"
        },
        "id": "rmKi3yP5Elmx",
        "outputId": "abdb5764-c71d-4c08-a95f-d28828c600f9"
      },
      "source": [
        "grid_search.best_params_"
      ],
      "execution_count": null,
      "outputs": [
        {
          "output_type": "execute_result",
          "data": {
            "text/plain": [
              "{'C': 1.0, 'gamma': 1}"
            ]
          },
          "metadata": {
            "tags": []
          },
          "execution_count": 23
        }
      ]
    },
    {
      "cell_type": "code",
      "metadata": {
        "colab": {
          "base_uri": "https://localhost:8080/"
        },
        "id": "k7zU-qG2EvVj",
        "outputId": "ec744da9-0696-43bb-d8ca-8e9dc54e24fa"
      },
      "source": [
        "svm_best = grid_search.best_estimator_\n",
        "evaluate_model(svm_best, bag_of_words_norm, bag_of_words_test_norm, y_train, y_test)"
      ],
      "execution_count": null,
      "outputs": [
        {
          "output_type": "stream",
          "text": [
            "Training accuracy: 0.8651111111111112\n",
            "Testing accuracy: 0.678\n",
            "Precision on test data: 0.6877637130801688\n",
            "Recall on test data: 0.652\n",
            "f1 score on test data: 0.6694045174537989\n"
          ],
          "name": "stdout"
        }
      ]
    },
    {
      "cell_type": "code",
      "metadata": {
        "colab": {
          "base_uri": "https://localhost:8080/",
          "height": 434
        },
        "id": "sSNbvKnOEvnP",
        "outputId": "07cfa22f-d783-4da5-8f8e-760db477e681"
      },
      "source": [
        "results = pd.DataFrame(grid_search.cv_results_)\n",
        "results.head()"
      ],
      "execution_count": null,
      "outputs": [
        {
          "output_type": "execute_result",
          "data": {
            "text/html": [
              "<div>\n",
              "<style scoped>\n",
              "    .dataframe tbody tr th:only-of-type {\n",
              "        vertical-align: middle;\n",
              "    }\n",
              "\n",
              "    .dataframe tbody tr th {\n",
              "        vertical-align: top;\n",
              "    }\n",
              "\n",
              "    .dataframe thead th {\n",
              "        text-align: right;\n",
              "    }\n",
              "</style>\n",
              "<table border=\"1\" class=\"dataframe\">\n",
              "  <thead>\n",
              "    <tr style=\"text-align: right;\">\n",
              "      <th></th>\n",
              "      <th>mean_fit_time</th>\n",
              "      <th>std_fit_time</th>\n",
              "      <th>mean_score_time</th>\n",
              "      <th>std_score_time</th>\n",
              "      <th>param_C</th>\n",
              "      <th>param_gamma</th>\n",
              "      <th>params</th>\n",
              "      <th>split0_test_score</th>\n",
              "      <th>mean_test_score</th>\n",
              "      <th>std_test_score</th>\n",
              "      <th>rank_test_score</th>\n",
              "      <th>split0_train_score</th>\n",
              "      <th>mean_train_score</th>\n",
              "      <th>std_train_score</th>\n",
              "    </tr>\n",
              "  </thead>\n",
              "  <tbody>\n",
              "    <tr>\n",
              "      <th>0</th>\n",
              "      <td>219.413967</td>\n",
              "      <td>0.0</td>\n",
              "      <td>54.808823</td>\n",
              "      <td>0.0</td>\n",
              "      <td>0.01</td>\n",
              "      <td>1</td>\n",
              "      <td>{'C': 0.01, 'gamma': 1}</td>\n",
              "      <td>0.611111</td>\n",
              "      <td>0.611111</td>\n",
              "      <td>0.0</td>\n",
              "      <td>8</td>\n",
              "      <td>0.608750</td>\n",
              "      <td>0.608750</td>\n",
              "      <td>0.0</td>\n",
              "    </tr>\n",
              "    <tr>\n",
              "      <th>1</th>\n",
              "      <td>219.864112</td>\n",
              "      <td>0.0</td>\n",
              "      <td>54.763795</td>\n",
              "      <td>0.0</td>\n",
              "      <td>0.01</td>\n",
              "      <td>3</td>\n",
              "      <td>{'C': 0.01, 'gamma': 3}</td>\n",
              "      <td>0.543889</td>\n",
              "      <td>0.543889</td>\n",
              "      <td>0.0</td>\n",
              "      <td>10</td>\n",
              "      <td>0.563750</td>\n",
              "      <td>0.563750</td>\n",
              "      <td>0.0</td>\n",
              "    </tr>\n",
              "    <tr>\n",
              "      <th>2</th>\n",
              "      <td>220.875378</td>\n",
              "      <td>0.0</td>\n",
              "      <td>55.504910</td>\n",
              "      <td>0.0</td>\n",
              "      <td>0.01</td>\n",
              "      <td>10</td>\n",
              "      <td>{'C': 0.01, 'gamma': 10}</td>\n",
              "      <td>0.491667</td>\n",
              "      <td>0.491667</td>\n",
              "      <td>0.0</td>\n",
              "      <td>11</td>\n",
              "      <td>0.502083</td>\n",
              "      <td>0.502083</td>\n",
              "      <td>0.0</td>\n",
              "    </tr>\n",
              "    <tr>\n",
              "      <th>3</th>\n",
              "      <td>204.619744</td>\n",
              "      <td>0.0</td>\n",
              "      <td>47.905452</td>\n",
              "      <td>0.0</td>\n",
              "      <td>0.1</td>\n",
              "      <td>1</td>\n",
              "      <td>{'C': 0.1, 'gamma': 1}</td>\n",
              "      <td>0.643889</td>\n",
              "      <td>0.643889</td>\n",
              "      <td>0.0</td>\n",
              "      <td>5</td>\n",
              "      <td>0.669861</td>\n",
              "      <td>0.669861</td>\n",
              "      <td>0.0</td>\n",
              "    </tr>\n",
              "    <tr>\n",
              "      <th>4</th>\n",
              "      <td>210.977586</td>\n",
              "      <td>0.0</td>\n",
              "      <td>49.631219</td>\n",
              "      <td>0.0</td>\n",
              "      <td>0.1</td>\n",
              "      <td>3</td>\n",
              "      <td>{'C': 0.1, 'gamma': 3}</td>\n",
              "      <td>0.631111</td>\n",
              "      <td>0.631111</td>\n",
              "      <td>0.0</td>\n",
              "      <td>6</td>\n",
              "      <td>0.659167</td>\n",
              "      <td>0.659167</td>\n",
              "      <td>0.0</td>\n",
              "    </tr>\n",
              "  </tbody>\n",
              "</table>\n",
              "</div>"
            ],
            "text/plain": [
              "   mean_fit_time  std_fit_time  ...  mean_train_score  std_train_score\n",
              "0     219.413967           0.0  ...          0.608750              0.0\n",
              "1     219.864112           0.0  ...          0.563750              0.0\n",
              "2     220.875378           0.0  ...          0.502083              0.0\n",
              "3     204.619744           0.0  ...          0.669861              0.0\n",
              "4     210.977586           0.0  ...          0.659167              0.0\n",
              "\n",
              "[5 rows x 14 columns]"
            ]
          },
          "metadata": {
            "tags": []
          },
          "execution_count": 25
        }
      ]
    },
    {
      "cell_type": "code",
      "metadata": {
        "id": "neJGd8SlE3qN"
      },
      "source": [
        "filename = '3.4_GridSearchCV.sav'\n",
        "pickle.dump(grid_search, open(filename, 'wb'))"
      ],
      "execution_count": null,
      "outputs": []
    },
    {
      "cell_type": "code",
      "metadata": {
        "id": "aVphQhlCE35D"
      },
      "source": [
        "loaded_model = pickle.load(open('3.4_GridSearchCV.sav', 'rb'))\n",
        "results = pd.DataFrame(loaded_model.cv_results_)\n",
        "results.head()"
      ],
      "execution_count": null,
      "outputs": []
    },
    {
      "cell_type": "markdown",
      "metadata": {
        "id": "sOuapfHRqd7N"
      },
      "source": [
        "### Observations\n",
        "* SVM with Linear Kernel gives the highest accuracy.\n",
        "* We can see that SVM with polynomial kernel (degree 2) and Gaussian Kernel give less accuracy. This maybe because the decision boundary in this case would be linear, rather higher degree polynomial.\n",
        "* Irrelevant features due to repetition of words such as 'embrace', 'embraced', 'embracing', 'embraces'."
      ]
    },
    {
      "cell_type": "markdown",
      "metadata": {
        "id": "Tfyax5tmgTet"
      },
      "source": [
        "## 4. With Bigram, With Stemming, with stopwords, words that appear <=5 times removed"
      ]
    },
    {
      "cell_type": "markdown",
      "metadata": {
        "id": "EhkADg0Yg-HZ"
      },
      "source": [
        "#### NLTK WordNetLemmatizer\n",
        "Words are lemmatized — words in third person are changed to first person and verbs in past and future tenses are changed into present."
      ]
    },
    {
      "cell_type": "code",
      "metadata": {
        "id": "0o0SiGiwNvnW"
      },
      "source": [
        "def lemmatization_stemming(review):\n",
        "    review = review.lower()           # convert to lowercase\n",
        "\n",
        "    regex = re.compile('(?u)\\\\b\\\\w\\\\w+\\\\b')       # Break each sentence on the basis of punctuations, white spaces\n",
        "    stemmer = PorterStemmer()\n",
        "    return \" \".join([stemmer.stem(WordNetLemmatizer().lemmatize(token, pos='v')) for token in regex.findall(review)])"
      ],
      "execution_count": null,
      "outputs": []
    },
    {
      "cell_type": "code",
      "metadata": {
        "id": "PiFKGvcgiwOn"
      },
      "source": [
        "df_reviews = pd.Series([lemmatization_stemming(review) for review in df_reviews])"
      ],
      "execution_count": null,
      "outputs": []
    },
    {
      "cell_type": "code",
      "metadata": {
        "id": "KEwyHdy5i94B"
      },
      "source": [
        "X_train, X_test, y_train, y_test = train_test_split(df_reviews, labels, test_size=0.1, random_state=21, stratify=labels)"
      ],
      "execution_count": null,
      "outputs": []
    },
    {
      "cell_type": "code",
      "metadata": {
        "colab": {
          "base_uri": "https://localhost:8080/"
        },
        "id": "SuKmIjwVjohw",
        "outputId": "b7d8d49f-a631-4933-9dda-62fc2ff0b002"
      },
      "source": [
        "X_train.shape, X_test.shape, len(y_train), len(y_test)"
      ],
      "execution_count": null,
      "outputs": [
        {
          "output_type": "execute_result",
          "data": {
            "text/plain": [
              "((9000,), (1000,), 9000, 1000)"
            ]
          },
          "metadata": {
            "tags": []
          },
          "execution_count": 25
        }
      ]
    },
    {
      "cell_type": "code",
      "metadata": {
        "colab": {
          "base_uri": "https://localhost:8080/"
        },
        "id": "q13DiOC0jtVQ",
        "outputId": "d98c9921-2fbe-454a-f94f-3e1137fa34a7"
      },
      "source": [
        "bag_of_words_norm, vect = get_feature_vector(X_train, ngram_range=(1,2), min_df=5)"
      ],
      "execution_count": null,
      "outputs": [
        {
          "output_type": "stream",
          "text": [
            "Vocabulary size: 72194\n",
            "Number of features: 72194\n",
            "First 20 features:\n",
            "['00', '000', '000 000', '000 and', '000 dollar', '000 year', '007', '02', '05', '07', '09', '10', '10 000', '10 10', '10 15', '10 all', '10 also', '10 and', '10 as', '10 at']\n",
            "Features 20010 to 20030:\n",
            "['entir world', 'entireti', 'entireti of', 'entiti', 'entitl', 'entitl to', 'entranc', 'entranc by', 'entranc to', 'entrap', 'entrench', 'entrepreneur', 'entri', 'entri be', 'entri in', 'entri the', 'entri to', 'envelop', 'envi', 'environ']\n",
            "Every 2000th feature:\n",
            "['00', 'all intent', 'and husband', 'as best', 'be display', 'best element', 'by billi', 'claim that', 'cuckoo', 'do care', 'entir plot', 'felt and', 'frank capra', 'great choic', 'hell if', 'human it', 'intric and', 'keep up', 'll like', 'memor scene', 'much to', 'now when', 'on he', 'park film', 'pressur', 'rekindl', 'school in', 'sink', 'steenburgen', 'tender', 'the gender', 'them about', 'titil', 'truli wonder', 'want movi', 'will stick', 'younger']\n"
          ],
          "name": "stdout"
        }
      ]
    },
    {
      "cell_type": "code",
      "metadata": {
        "colab": {
          "base_uri": "https://localhost:8080/"
        },
        "id": "ydwRtXQ5m6Ba",
        "outputId": "658edc42-24f0-42b9-ee30-e2e98457d8b5"
      },
      "source": [
        "bag_of_words_test = vect.transform(X_test)\n",
        "bag_of_words_test_norm = normalize(bag_of_words_test, norm='l2')\n",
        "bag_of_words_test_norm"
      ],
      "execution_count": null,
      "outputs": [
        {
          "output_type": "execute_result",
          "data": {
            "text/plain": [
              "<1000x72194 sparse matrix of type '<class 'numpy.float64'>'\n",
              "\twith 302888 stored elements in Compressed Sparse Row format>"
            ]
          },
          "metadata": {
            "tags": []
          },
          "execution_count": 27
        }
      ]
    },
    {
      "cell_type": "markdown",
      "metadata": {
        "id": "6FiiaPBOoFIk"
      },
      "source": [
        "### 4.1 Logistic Regression"
      ]
    },
    {
      "cell_type": "code",
      "metadata": {
        "colab": {
          "base_uri": "https://localhost:8080/",
          "height": 279
        },
        "id": "Xnj8RwUb0fB1",
        "outputId": "1c24b586-d339-41a0-bc42-38c0a3bbe62d"
      },
      "source": [
        "parameters = {'C': [0.01, 0.03, 0.1, 0.3, 1.0, 3.0, 9.0]}\n",
        "log_reg = LogisticRegression(max_iter=1000)         # Creating an instance of Scikit Learn LogisticRegression class\n",
        "grid_search = tune_parameters(log_reg, bag_of_words_norm, y_train, parameters, verbose=True)"
      ],
      "execution_count": null,
      "outputs": [
        {
          "output_type": "display_data",
          "data": {
            "image/png": "[encoded data removed]",
            "text/plain": [
              "<Figure size 432x288 with 1 Axes>"
            ]
          },
          "metadata": {
            "tags": [],
            "needs_background": "light"
          }
        }
      ]
    },
    {
      "cell_type": "code",
      "metadata": {
        "colab": {
          "base_uri": "https://localhost:8080/"
        },
        "id": "PNKsXn9q0o48",
        "outputId": "92099284-684c-43d0-e571-f7f3a8de3ac8"
      },
      "source": [
        "log_reg_best = grid_search.best_estimator_\n",
        "evaluate_model(log_reg_best, bag_of_words_norm, bag_of_words_test_norm, y_train, y_test)"
      ],
      "execution_count": null,
      "outputs": [
        {
          "output_type": "stream",
          "text": [
            "Training accuracy: 0.8032222222222222\n",
            "Testing accuracy: 0.679\n",
            "Precision on test data: 0.6845360824742268\n",
            "Recall on test data: 0.664\n",
            "f1 score on test data: 0.6741116751269036\n"
          ],
          "name": "stdout"
        }
      ]
    },
    {
      "cell_type": "markdown",
      "metadata": {
        "id": "PLdTjDYRvLDX"
      },
      "source": [
        "### 4.2 SVM with Linear Kernel"
      ]
    },
    {
      "cell_type": "code",
      "metadata": {
        "colab": {
          "base_uri": "https://localhost:8080/",
          "height": 279
        },
        "id": "0VKl-RBY1D1J",
        "outputId": "e24c2101-6e30-4a5e-f133-33b268e7666f"
      },
      "source": [
        "parameters = {'C': [0.01, 0.03, 0.1, 0.3, 1.0, 3.0, 9.0]}\n",
        "svm = LinearSVC(C=10, loss='hinge', max_iter=10000)\n",
        "grid_search = tune_parameters(svm, bag_of_words_norm, y_train, parameters, verbose=True)"
      ],
      "execution_count": null,
      "outputs": [
        {
          "output_type": "display_data",
          "data": {
            "image/png": "[encoded data removed]",
            "text/plain": [
              "<Figure size 432x288 with 1 Axes>"
            ]
          },
          "metadata": {
            "tags": [],
            "needs_background": "light"
          }
        }
      ]
    },
    {
      "cell_type": "code",
      "metadata": {
        "colab": {
          "base_uri": "https://localhost:8080/"
        },
        "id": "LFBQfU6D1KHw",
        "outputId": "37388624-dc61-460e-c3ae-2028b0eb0405"
      },
      "source": [
        "svm_best = grid_search.best_estimator_\n",
        "evaluate_model(svm_best, bag_of_words_norm, bag_of_words_test_norm, y_train, y_test)"
      ],
      "execution_count": null,
      "outputs": [
        {
          "output_type": "stream",
          "text": [
            "Training accuracy: 0.7765555555555556\n",
            "Testing accuracy: 0.676\n",
            "Precision on test data: 0.6739130434782609\n",
            "Recall on test data: 0.682\n",
            "f1 score on test data: 0.6779324055666004\n"
          ],
          "name": "stdout"
        }
      ]
    },
    {
      "cell_type": "markdown",
      "metadata": {
        "id": "FnihiYHBGP3x"
      },
      "source": [
        "### 4.3 SVM with Polynomial Kernel (degree=2)"
      ]
    },
    {
      "cell_type": "code",
      "metadata": {
        "id": "R1AbvHazGN-8"
      },
      "source": [
        "parameters = {'C': [0.01, 0.1, 1.0], 'coef0' : [1, 3, 10]}\n",
        "svm = SVC(kernel='poly', degree=2)\n",
        "grid_search = tune_parameters(svm, bag_of_words_norm, y_train, parameters, cv=ss)"
      ],
      "execution_count": null,
      "outputs": []
    },
    {
      "cell_type": "code",
      "metadata": {
        "id": "wlNeBKTxGdGq",
        "colab": {
          "base_uri": "https://localhost:8080/"
        },
        "outputId": "44f9e993-c5eb-4235-a8ab-0ea07fe29653"
      },
      "source": [
        "svm_best = grid_search.best_estimator_\n",
        "evaluate_model(svm_best, bag_of_words_norm, bag_of_words_test_norm, y_train, y_test)"
      ],
      "execution_count": null,
      "outputs": [
        {
          "output_type": "stream",
          "text": [
            "Training accuracy: 0.7186666666666667\n",
            "Testing accuracy: 0.669\n",
            "Precision on test data: 0.6720977596741344\n",
            "Recall on test data: 0.66\n",
            "f1 score on test data: 0.6659939455095863\n"
          ],
          "name": "stdout"
        }
      ]
    },
    {
      "cell_type": "code",
      "metadata": {
        "id": "dLEl4uluGdU7",
        "colab": {
          "base_uri": "https://localhost:8080/"
        },
        "outputId": "55e4ced8-7486-4025-8da5-a025fafc2871"
      },
      "source": [
        "grid_search.best_params_"
      ],
      "execution_count": null,
      "outputs": [
        {
          "output_type": "execute_result",
          "data": {
            "text/plain": [
              "{'C': 0.1, 'coef0': 1}"
            ]
          },
          "metadata": {
            "tags": []
          },
          "execution_count": 31
        }
      ]
    },
    {
      "cell_type": "code",
      "metadata": {
        "id": "wkIeGFI7GeHc",
        "colab": {
          "base_uri": "https://localhost:8080/",
          "height": 467
        },
        "outputId": "0d69c918-0e46-4be1-a6ca-9377b06fab7b"
      },
      "source": [
        "results = pd.DataFrame(grid_search.cv_results_)\n",
        "results.head()"
      ],
      "execution_count": null,
      "outputs": [
        {
          "output_type": "execute_result",
          "data": {
            "text/html": [
              "<div>\n",
              "<style scoped>\n",
              "    .dataframe tbody tr th:only-of-type {\n",
              "        vertical-align: middle;\n",
              "    }\n",
              "\n",
              "    .dataframe tbody tr th {\n",
              "        vertical-align: top;\n",
              "    }\n",
              "\n",
              "    .dataframe thead th {\n",
              "        text-align: right;\n",
              "    }\n",
              "</style>\n",
              "<table border=\"1\" class=\"dataframe\">\n",
              "  <thead>\n",
              "    <tr style=\"text-align: right;\">\n",
              "      <th></th>\n",
              "      <th>mean_fit_time</th>\n",
              "      <th>std_fit_time</th>\n",
              "      <th>mean_score_time</th>\n",
              "      <th>std_score_time</th>\n",
              "      <th>param_C</th>\n",
              "      <th>param_coef0</th>\n",
              "      <th>params</th>\n",
              "      <th>split0_test_score</th>\n",
              "      <th>mean_test_score</th>\n",
              "      <th>std_test_score</th>\n",
              "      <th>rank_test_score</th>\n",
              "      <th>split0_train_score</th>\n",
              "      <th>mean_train_score</th>\n",
              "      <th>std_train_score</th>\n",
              "    </tr>\n",
              "  </thead>\n",
              "  <tbody>\n",
              "    <tr>\n",
              "      <th>0</th>\n",
              "      <td>209.145704</td>\n",
              "      <td>0.0</td>\n",
              "      <td>49.903195</td>\n",
              "      <td>0.0</td>\n",
              "      <td>0.01</td>\n",
              "      <td>1</td>\n",
              "      <td>{'C': 0.01, 'coef0': 1}</td>\n",
              "      <td>0.625556</td>\n",
              "      <td>0.625556</td>\n",
              "      <td>0.0</td>\n",
              "      <td>8</td>\n",
              "      <td>0.636667</td>\n",
              "      <td>0.636667</td>\n",
              "      <td>0.0</td>\n",
              "    </tr>\n",
              "    <tr>\n",
              "      <th>1</th>\n",
              "      <td>202.244189</td>\n",
              "      <td>0.0</td>\n",
              "      <td>47.471354</td>\n",
              "      <td>0.0</td>\n",
              "      <td>0.01</td>\n",
              "      <td>3</td>\n",
              "      <td>{'C': 0.01, 'coef0': 3}</td>\n",
              "      <td>0.641111</td>\n",
              "      <td>0.641111</td>\n",
              "      <td>0.0</td>\n",
              "      <td>6</td>\n",
              "      <td>0.658333</td>\n",
              "      <td>0.658333</td>\n",
              "      <td>0.0</td>\n",
              "    </tr>\n",
              "    <tr>\n",
              "      <th>2</th>\n",
              "      <td>195.002509</td>\n",
              "      <td>0.0</td>\n",
              "      <td>46.139731</td>\n",
              "      <td>0.0</td>\n",
              "      <td>0.01</td>\n",
              "      <td>10</td>\n",
              "      <td>{'C': 0.01, 'coef0': 10}</td>\n",
              "      <td>0.662222</td>\n",
              "      <td>0.662222</td>\n",
              "      <td>0.0</td>\n",
              "      <td>2</td>\n",
              "      <td>0.695278</td>\n",
              "      <td>0.695278</td>\n",
              "      <td>0.0</td>\n",
              "    </tr>\n",
              "    <tr>\n",
              "      <th>3</th>\n",
              "      <td>194.505054</td>\n",
              "      <td>0.0</td>\n",
              "      <td>44.871896</td>\n",
              "      <td>0.0</td>\n",
              "      <td>0.1</td>\n",
              "      <td>1</td>\n",
              "      <td>{'C': 0.1, 'coef0': 1}</td>\n",
              "      <td>0.665556</td>\n",
              "      <td>0.665556</td>\n",
              "      <td>0.0</td>\n",
              "      <td>1</td>\n",
              "      <td>0.722361</td>\n",
              "      <td>0.722361</td>\n",
              "      <td>0.0</td>\n",
              "    </tr>\n",
              "    <tr>\n",
              "      <th>4</th>\n",
              "      <td>188.204734</td>\n",
              "      <td>0.0</td>\n",
              "      <td>44.122794</td>\n",
              "      <td>0.0</td>\n",
              "      <td>0.1</td>\n",
              "      <td>3</td>\n",
              "      <td>{'C': 0.1, 'coef0': 3}</td>\n",
              "      <td>0.660556</td>\n",
              "      <td>0.660556</td>\n",
              "      <td>0.0</td>\n",
              "      <td>3</td>\n",
              "      <td>0.766250</td>\n",
              "      <td>0.766250</td>\n",
              "      <td>0.0</td>\n",
              "    </tr>\n",
              "  </tbody>\n",
              "</table>\n",
              "</div>"
            ],
            "text/plain": [
              "   mean_fit_time  std_fit_time  ...  mean_train_score  std_train_score\n",
              "0     209.145704           0.0  ...          0.636667              0.0\n",
              "1     202.244189           0.0  ...          0.658333              0.0\n",
              "2     195.002509           0.0  ...          0.695278              0.0\n",
              "3     194.505054           0.0  ...          0.722361              0.0\n",
              "4     188.204734           0.0  ...          0.766250              0.0\n",
              "\n",
              "[5 rows x 14 columns]"
            ]
          },
          "metadata": {
            "tags": []
          },
          "execution_count": 32
        }
      ]
    },
    {
      "cell_type": "code",
      "metadata": {
        "id": "jgmO51pqGeVz"
      },
      "source": [
        "filename = '4.3_GridSearchCV.sav'\n",
        "pickle.dump(grid_search, open(filename, 'wb'))"
      ],
      "execution_count": null,
      "outputs": []
    },
    {
      "cell_type": "code",
      "metadata": {
        "id": "Ly8h-tnQGetJ"
      },
      "source": [
        "loaded_model = pickle.load(open(filename, 'rb'))\n",
        "results = pd.DataFrame(loaded_model.cv_results_)\n",
        "results.head()"
      ],
      "execution_count": null,
      "outputs": []
    },
    {
      "cell_type": "markdown",
      "metadata": {
        "id": "1CgSoRHeG6XZ"
      },
      "source": [
        "### 4.4 SVM with Gaussian Kernel"
      ]
    },
    {
      "cell_type": "code",
      "metadata": {
        "id": "iwrns3gRHCdX"
      },
      "source": [
        "parameters = {'C': [0.01, 0.1, 1.0, 10], 'gamma' : [1, 3, 10]}\n",
        "svm = SVC(kernel=\"rbf\")\n",
        "grid_search = tune_parameters(svm, bag_of_words_norm, y_train, parameters, cv=ss)"
      ],
      "execution_count": null,
      "outputs": []
    },
    {
      "cell_type": "code",
      "metadata": {
        "id": "xMXJjZo1HCwW",
        "colab": {
          "base_uri": "https://localhost:8080/"
        },
        "outputId": "076cb849-3bfa-422a-8e62-31b79cad3b4f"
      },
      "source": [
        "grid_search.best_params_"
      ],
      "execution_count": null,
      "outputs": [
        {
          "output_type": "execute_result",
          "data": {
            "text/plain": [
              "{'C': 10, 'gamma': 3}"
            ]
          },
          "metadata": {
            "tags": []
          },
          "execution_count": 36
        }
      ]
    },
    {
      "cell_type": "code",
      "metadata": {
        "id": "y0jUZzgAHC7_",
        "colab": {
          "base_uri": "https://localhost:8080/"
        },
        "outputId": "d9113a55-900b-4f0b-fed2-67ef6ab68eb8"
      },
      "source": [
        "svm_best = grid_search.best_estimator_\n",
        "evaluate_model(svm_best, bag_of_words_norm, bag_of_words_test_norm, y_train, y_test)"
      ],
      "execution_count": null,
      "outputs": [
        {
          "output_type": "stream",
          "text": [
            "Training accuracy: 1.0\n",
            "Testing accuracy: 0.664\n",
            "Precision on test data: 0.6814159292035398\n",
            "Recall on test data: 0.616\n",
            "f1 score on test data: 0.6470588235294117\n"
          ],
          "name": "stdout"
        }
      ]
    },
    {
      "cell_type": "code",
      "metadata": {
        "id": "SJn4ZbMZHDIU"
      },
      "source": [
        "results = pd.DataFrame(grid_search.cv_results_)\n",
        "results.head()"
      ],
      "execution_count": null,
      "outputs": []
    },
    {
      "cell_type": "code",
      "metadata": {
        "id": "KyYYMihSHQkr"
      },
      "source": [
        "filename = '3.4_GridSearchCV.sav'\n",
        "pickle.dump(grid_search, open(filename, 'wb'))"
      ],
      "execution_count": null,
      "outputs": []
    },
    {
      "cell_type": "code",
      "metadata": {
        "id": "qAWOJcn3HQRs",
        "colab": {
          "base_uri": "https://localhost:8080/",
          "height": 1000
        },
        "outputId": "f9322b36-a0cd-4d50-ad49-c0784af76ec3"
      },
      "source": [
        "loaded_model = pickle.load(open(filename, 'rb'))\n",
        "results = pd.DataFrame(loaded_model.cv_results_)\n",
        "results.head()"
      ],
      "execution_count": null,
      "outputs": [
        {
          "output_type": "execute_result",
          "data": {
            "text/html": [
              "<div>\n",
              "<style scoped>\n",
              "    .dataframe tbody tr th:only-of-type {\n",
              "        vertical-align: middle;\n",
              "    }\n",
              "\n",
              "    .dataframe tbody tr th {\n",
              "        vertical-align: top;\n",
              "    }\n",
              "\n",
              "    .dataframe thead th {\n",
              "        text-align: right;\n",
              "    }\n",
              "</style>\n",
              "<table border=\"1\" class=\"dataframe\">\n",
              "  <thead>\n",
              "    <tr style=\"text-align: right;\">\n",
              "      <th></th>\n",
              "      <th>mean_fit_time</th>\n",
              "      <th>std_fit_time</th>\n",
              "      <th>mean_score_time</th>\n",
              "      <th>std_score_time</th>\n",
              "      <th>param_C</th>\n",
              "      <th>param_gamma</th>\n",
              "      <th>params</th>\n",
              "      <th>split0_test_score</th>\n",
              "      <th>mean_test_score</th>\n",
              "      <th>std_test_score</th>\n",
              "      <th>rank_test_score</th>\n",
              "      <th>split0_train_score</th>\n",
              "      <th>mean_train_score</th>\n",
              "      <th>std_train_score</th>\n",
              "    </tr>\n",
              "  </thead>\n",
              "  <tbody>\n",
              "    <tr>\n",
              "      <th>0</th>\n",
              "      <td>222.924196</td>\n",
              "      <td>0.0</td>\n",
              "      <td>56.342695</td>\n",
              "      <td>0.0</td>\n",
              "      <td>0.01</td>\n",
              "      <td>1</td>\n",
              "      <td>{'C': 0.01, 'gamma': 1}</td>\n",
              "      <td>0.611667</td>\n",
              "      <td>0.611667</td>\n",
              "      <td>0.0</td>\n",
              "      <td>9</td>\n",
              "      <td>0.605833</td>\n",
              "      <td>0.605833</td>\n",
              "      <td>0.0</td>\n",
              "    </tr>\n",
              "    <tr>\n",
              "      <th>1</th>\n",
              "      <td>222.763821</td>\n",
              "      <td>0.0</td>\n",
              "      <td>56.157765</td>\n",
              "      <td>0.0</td>\n",
              "      <td>0.01</td>\n",
              "      <td>3</td>\n",
              "      <td>{'C': 0.01, 'gamma': 3}</td>\n",
              "      <td>0.593889</td>\n",
              "      <td>0.593889</td>\n",
              "      <td>0.0</td>\n",
              "      <td>10</td>\n",
              "      <td>0.602917</td>\n",
              "      <td>0.602917</td>\n",
              "      <td>0.0</td>\n",
              "    </tr>\n",
              "    <tr>\n",
              "      <th>2</th>\n",
              "      <td>224.383957</td>\n",
              "      <td>0.0</td>\n",
              "      <td>56.511477</td>\n",
              "      <td>0.0</td>\n",
              "      <td>0.01</td>\n",
              "      <td>10</td>\n",
              "      <td>{'C': 0.01, 'gamma': 10}</td>\n",
              "      <td>0.491667</td>\n",
              "      <td>0.491667</td>\n",
              "      <td>0.0</td>\n",
              "      <td>11</td>\n",
              "      <td>0.502083</td>\n",
              "      <td>0.502083</td>\n",
              "      <td>0.0</td>\n",
              "    </tr>\n",
              "    <tr>\n",
              "      <th>3</th>\n",
              "      <td>206.588322</td>\n",
              "      <td>0.0</td>\n",
              "      <td>48.552021</td>\n",
              "      <td>0.0</td>\n",
              "      <td>0.1</td>\n",
              "      <td>1</td>\n",
              "      <td>{'C': 0.1, 'gamma': 1}</td>\n",
              "      <td>0.646667</td>\n",
              "      <td>0.646667</td>\n",
              "      <td>0.0</td>\n",
              "      <td>4</td>\n",
              "      <td>0.670000</td>\n",
              "      <td>0.670000</td>\n",
              "      <td>0.0</td>\n",
              "    </tr>\n",
              "    <tr>\n",
              "      <th>4</th>\n",
              "      <td>212.547512</td>\n",
              "      <td>0.0</td>\n",
              "      <td>49.967282</td>\n",
              "      <td>0.0</td>\n",
              "      <td>0.1</td>\n",
              "      <td>3</td>\n",
              "      <td>{'C': 0.1, 'gamma': 3}</td>\n",
              "      <td>0.635000</td>\n",
              "      <td>0.635000</td>\n",
              "      <td>0.0</td>\n",
              "      <td>6</td>\n",
              "      <td>0.665139</td>\n",
              "      <td>0.665139</td>\n",
              "      <td>0.0</td>\n",
              "    </tr>\n",
              "  </tbody>\n",
              "</table>\n",
              "</div>"
            ],
            "text/plain": [
              "   mean_fit_time  std_fit_time  ...  mean_train_score  std_train_score\n",
              "0     222.924196           0.0  ...          0.605833              0.0\n",
              "1     222.763821           0.0  ...          0.602917              0.0\n",
              "2     224.383957           0.0  ...          0.502083              0.0\n",
              "3     206.588322           0.0  ...          0.670000              0.0\n",
              "4     212.547512           0.0  ...          0.665139              0.0\n",
              "\n",
              "[5 rows x 14 columns]"
            ]
          },
          "metadata": {
            "tags": []
          },
          "execution_count": 40
        },
        {
          "output_type": "execute_result",
          "data": {
            "text/html": [
              "<div>\n",
              "<style scoped>\n",
              "    .dataframe tbody tr th:only-of-type {\n",
              "        vertical-align: middle;\n",
              "    }\n",
              "\n",
              "    .dataframe tbody tr th {\n",
              "        vertical-align: top;\n",
              "    }\n",
              "\n",
              "    .dataframe thead th {\n",
              "        text-align: right;\n",
              "    }\n",
              "</style>\n",
              "<table border=\"1\" class=\"dataframe\">\n",
              "  <thead>\n",
              "    <tr style=\"text-align: right;\">\n",
              "      <th></th>\n",
              "      <th>mean_fit_time</th>\n",
              "      <th>std_fit_time</th>\n",
              "      <th>mean_score_time</th>\n",
              "      <th>std_score_time</th>\n",
              "      <th>param_C</th>\n",
              "      <th>param_gamma</th>\n",
              "      <th>params</th>\n",
              "      <th>split0_test_score</th>\n",
              "      <th>mean_test_score</th>\n",
              "      <th>std_test_score</th>\n",
              "      <th>rank_test_score</th>\n",
              "      <th>split0_train_score</th>\n",
              "      <th>mean_train_score</th>\n",
              "      <th>std_train_score</th>\n",
              "    </tr>\n",
              "  </thead>\n",
              "  <tbody>\n",
              "    <tr>\n",
              "      <th>0</th>\n",
              "      <td>222.924196</td>\n",
              "      <td>0.0</td>\n",
              "      <td>56.342695</td>\n",
              "      <td>0.0</td>\n",
              "      <td>0.01</td>\n",
              "      <td>1</td>\n",
              "      <td>{'C': 0.01, 'gamma': 1}</td>\n",
              "      <td>0.611667</td>\n",
              "      <td>0.611667</td>\n",
              "      <td>0.0</td>\n",
              "      <td>9</td>\n",
              "      <td>0.605833</td>\n",
              "      <td>0.605833</td>\n",
              "      <td>0.0</td>\n",
              "    </tr>\n",
              "    <tr>\n",
              "      <th>1</th>\n",
              "      <td>222.763821</td>\n",
              "      <td>0.0</td>\n",
              "      <td>56.157765</td>\n",
              "      <td>0.0</td>\n",
              "      <td>0.01</td>\n",
              "      <td>3</td>\n",
              "      <td>{'C': 0.01, 'gamma': 3}</td>\n",
              "      <td>0.593889</td>\n",
              "      <td>0.593889</td>\n",
              "      <td>0.0</td>\n",
              "      <td>10</td>\n",
              "      <td>0.602917</td>\n",
              "      <td>0.602917</td>\n",
              "      <td>0.0</td>\n",
              "    </tr>\n",
              "    <tr>\n",
              "      <th>2</th>\n",
              "      <td>224.383957</td>\n",
              "      <td>0.0</td>\n",
              "      <td>56.511477</td>\n",
              "      <td>0.0</td>\n",
              "      <td>0.01</td>\n",
              "      <td>10</td>\n",
              "      <td>{'C': 0.01, 'gamma': 10}</td>\n",
              "      <td>0.491667</td>\n",
              "      <td>0.491667</td>\n",
              "      <td>0.0</td>\n",
              "      <td>11</td>\n",
              "      <td>0.502083</td>\n",
              "      <td>0.502083</td>\n",
              "      <td>0.0</td>\n",
              "    </tr>\n",
              "    <tr>\n",
              "      <th>3</th>\n",
              "      <td>206.588322</td>\n",
              "      <td>0.0</td>\n",
              "      <td>48.552021</td>\n",
              "      <td>0.0</td>\n",
              "      <td>0.1</td>\n",
              "      <td>1</td>\n",
              "      <td>{'C': 0.1, 'gamma': 1}</td>\n",
              "      <td>0.646667</td>\n",
              "      <td>0.646667</td>\n",
              "      <td>0.0</td>\n",
              "      <td>4</td>\n",
              "      <td>0.670000</td>\n",
              "      <td>0.670000</td>\n",
              "      <td>0.0</td>\n",
              "    </tr>\n",
              "    <tr>\n",
              "      <th>4</th>\n",
              "      <td>212.547512</td>\n",
              "      <td>0.0</td>\n",
              "      <td>49.967282</td>\n",
              "      <td>0.0</td>\n",
              "      <td>0.1</td>\n",
              "      <td>3</td>\n",
              "      <td>{'C': 0.1, 'gamma': 3}</td>\n",
              "      <td>0.635000</td>\n",
              "      <td>0.635000</td>\n",
              "      <td>0.0</td>\n",
              "      <td>6</td>\n",
              "      <td>0.665139</td>\n",
              "      <td>0.665139</td>\n",
              "      <td>0.0</td>\n",
              "    </tr>\n",
              "  </tbody>\n",
              "</table>\n",
              "</div>"
            ],
            "text/plain": [
              "   mean_fit_time  std_fit_time  ...  mean_train_score  std_train_score\n",
              "0     222.924196           0.0  ...          0.605833              0.0\n",
              "1     222.763821           0.0  ...          0.602917              0.0\n",
              "2     224.383957           0.0  ...          0.502083              0.0\n",
              "3     206.588322           0.0  ...          0.670000              0.0\n",
              "4     212.547512           0.0  ...          0.665139              0.0\n",
              "\n",
              "[5 rows x 14 columns]"
            ]
          },
          "metadata": {
            "tags": []
          },
          "execution_count": 40
        },
        {
          "output_type": "execute_result",
          "data": {
            "text/html": [
              "<div>\n",
              "<style scoped>\n",
              "    .dataframe tbody tr th:only-of-type {\n",
              "        vertical-align: middle;\n",
              "    }\n",
              "\n",
              "    .dataframe tbody tr th {\n",
              "        vertical-align: top;\n",
              "    }\n",
              "\n",
              "    .dataframe thead th {\n",
              "        text-align: right;\n",
              "    }\n",
              "</style>\n",
              "<table border=\"1\" class=\"dataframe\">\n",
              "  <thead>\n",
              "    <tr style=\"text-align: right;\">\n",
              "      <th></th>\n",
              "      <th>mean_fit_time</th>\n",
              "      <th>std_fit_time</th>\n",
              "      <th>mean_score_time</th>\n",
              "      <th>std_score_time</th>\n",
              "      <th>param_C</th>\n",
              "      <th>param_gamma</th>\n",
              "      <th>params</th>\n",
              "      <th>split0_test_score</th>\n",
              "      <th>mean_test_score</th>\n",
              "      <th>std_test_score</th>\n",
              "      <th>rank_test_score</th>\n",
              "      <th>split0_train_score</th>\n",
              "      <th>mean_train_score</th>\n",
              "      <th>std_train_score</th>\n",
              "    </tr>\n",
              "  </thead>\n",
              "  <tbody>\n",
              "    <tr>\n",
              "      <th>0</th>\n",
              "      <td>222.924196</td>\n",
              "      <td>0.0</td>\n",
              "      <td>56.342695</td>\n",
              "      <td>0.0</td>\n",
              "      <td>0.01</td>\n",
              "      <td>1</td>\n",
              "      <td>{'C': 0.01, 'gamma': 1}</td>\n",
              "      <td>0.611667</td>\n",
              "      <td>0.611667</td>\n",
              "      <td>0.0</td>\n",
              "      <td>9</td>\n",
              "      <td>0.605833</td>\n",
              "      <td>0.605833</td>\n",
              "      <td>0.0</td>\n",
              "    </tr>\n",
              "    <tr>\n",
              "      <th>1</th>\n",
              "      <td>222.763821</td>\n",
              "      <td>0.0</td>\n",
              "      <td>56.157765</td>\n",
              "      <td>0.0</td>\n",
              "      <td>0.01</td>\n",
              "      <td>3</td>\n",
              "      <td>{'C': 0.01, 'gamma': 3}</td>\n",
              "      <td>0.593889</td>\n",
              "      <td>0.593889</td>\n",
              "      <td>0.0</td>\n",
              "      <td>10</td>\n",
              "      <td>0.602917</td>\n",
              "      <td>0.602917</td>\n",
              "      <td>0.0</td>\n",
              "    </tr>\n",
              "    <tr>\n",
              "      <th>2</th>\n",
              "      <td>224.383957</td>\n",
              "      <td>0.0</td>\n",
              "      <td>56.511477</td>\n",
              "      <td>0.0</td>\n",
              "      <td>0.01</td>\n",
              "      <td>10</td>\n",
              "      <td>{'C': 0.01, 'gamma': 10}</td>\n",
              "      <td>0.491667</td>\n",
              "      <td>0.491667</td>\n",
              "      <td>0.0</td>\n",
              "      <td>11</td>\n",
              "      <td>0.502083</td>\n",
              "      <td>0.502083</td>\n",
              "      <td>0.0</td>\n",
              "    </tr>\n",
              "    <tr>\n",
              "      <th>3</th>\n",
              "      <td>206.588322</td>\n",
              "      <td>0.0</td>\n",
              "      <td>48.552021</td>\n",
              "      <td>0.0</td>\n",
              "      <td>0.1</td>\n",
              "      <td>1</td>\n",
              "      <td>{'C': 0.1, 'gamma': 1}</td>\n",
              "      <td>0.646667</td>\n",
              "      <td>0.646667</td>\n",
              "      <td>0.0</td>\n",
              "      <td>4</td>\n",
              "      <td>0.670000</td>\n",
              "      <td>0.670000</td>\n",
              "      <td>0.0</td>\n",
              "    </tr>\n",
              "    <tr>\n",
              "      <th>4</th>\n",
              "      <td>212.547512</td>\n",
              "      <td>0.0</td>\n",
              "      <td>49.967282</td>\n",
              "      <td>0.0</td>\n",
              "      <td>0.1</td>\n",
              "      <td>3</td>\n",
              "      <td>{'C': 0.1, 'gamma': 3}</td>\n",
              "      <td>0.635000</td>\n",
              "      <td>0.635000</td>\n",
              "      <td>0.0</td>\n",
              "      <td>6</td>\n",
              "      <td>0.665139</td>\n",
              "      <td>0.665139</td>\n",
              "      <td>0.0</td>\n",
              "    </tr>\n",
              "  </tbody>\n",
              "</table>\n",
              "</div>"
            ],
            "text/plain": [
              "   mean_fit_time  std_fit_time  ...  mean_train_score  std_train_score\n",
              "0     222.924196           0.0  ...          0.605833              0.0\n",
              "1     222.763821           0.0  ...          0.602917              0.0\n",
              "2     224.383957           0.0  ...          0.502083              0.0\n",
              "3     206.588322           0.0  ...          0.670000              0.0\n",
              "4     212.547512           0.0  ...          0.665139              0.0\n",
              "\n",
              "[5 rows x 14 columns]"
            ]
          },
          "metadata": {
            "tags": []
          },
          "execution_count": 40
        },
        {
          "output_type": "execute_result",
          "data": {
            "text/html": [
              "<div>\n",
              "<style scoped>\n",
              "    .dataframe tbody tr th:only-of-type {\n",
              "        vertical-align: middle;\n",
              "    }\n",
              "\n",
              "    .dataframe tbody tr th {\n",
              "        vertical-align: top;\n",
              "    }\n",
              "\n",
              "    .dataframe thead th {\n",
              "        text-align: right;\n",
              "    }\n",
              "</style>\n",
              "<table border=\"1\" class=\"dataframe\">\n",
              "  <thead>\n",
              "    <tr style=\"text-align: right;\">\n",
              "      <th></th>\n",
              "      <th>mean_fit_time</th>\n",
              "      <th>std_fit_time</th>\n",
              "      <th>mean_score_time</th>\n",
              "      <th>std_score_time</th>\n",
              "      <th>param_C</th>\n",
              "      <th>param_gamma</th>\n",
              "      <th>params</th>\n",
              "      <th>split0_test_score</th>\n",
              "      <th>mean_test_score</th>\n",
              "      <th>std_test_score</th>\n",
              "      <th>rank_test_score</th>\n",
              "      <th>split0_train_score</th>\n",
              "      <th>mean_train_score</th>\n",
              "      <th>std_train_score</th>\n",
              "    </tr>\n",
              "  </thead>\n",
              "  <tbody>\n",
              "    <tr>\n",
              "      <th>0</th>\n",
              "      <td>222.924196</td>\n",
              "      <td>0.0</td>\n",
              "      <td>56.342695</td>\n",
              "      <td>0.0</td>\n",
              "      <td>0.01</td>\n",
              "      <td>1</td>\n",
              "      <td>{'C': 0.01, 'gamma': 1}</td>\n",
              "      <td>0.611667</td>\n",
              "      <td>0.611667</td>\n",
              "      <td>0.0</td>\n",
              "      <td>9</td>\n",
              "      <td>0.605833</td>\n",
              "      <td>0.605833</td>\n",
              "      <td>0.0</td>\n",
              "    </tr>\n",
              "    <tr>\n",
              "      <th>1</th>\n",
              "      <td>222.763821</td>\n",
              "      <td>0.0</td>\n",
              "      <td>56.157765</td>\n",
              "      <td>0.0</td>\n",
              "      <td>0.01</td>\n",
              "      <td>3</td>\n",
              "      <td>{'C': 0.01, 'gamma': 3}</td>\n",
              "      <td>0.593889</td>\n",
              "      <td>0.593889</td>\n",
              "      <td>0.0</td>\n",
              "      <td>10</td>\n",
              "      <td>0.602917</td>\n",
              "      <td>0.602917</td>\n",
              "      <td>0.0</td>\n",
              "    </tr>\n",
              "    <tr>\n",
              "      <th>2</th>\n",
              "      <td>224.383957</td>\n",
              "      <td>0.0</td>\n",
              "      <td>56.511477</td>\n",
              "      <td>0.0</td>\n",
              "      <td>0.01</td>\n",
              "      <td>10</td>\n",
              "      <td>{'C': 0.01, 'gamma': 10}</td>\n",
              "      <td>0.491667</td>\n",
              "      <td>0.491667</td>\n",
              "      <td>0.0</td>\n",
              "      <td>11</td>\n",
              "      <td>0.502083</td>\n",
              "      <td>0.502083</td>\n",
              "      <td>0.0</td>\n",
              "    </tr>\n",
              "    <tr>\n",
              "      <th>3</th>\n",
              "      <td>206.588322</td>\n",
              "      <td>0.0</td>\n",
              "      <td>48.552021</td>\n",
              "      <td>0.0</td>\n",
              "      <td>0.1</td>\n",
              "      <td>1</td>\n",
              "      <td>{'C': 0.1, 'gamma': 1}</td>\n",
              "      <td>0.646667</td>\n",
              "      <td>0.646667</td>\n",
              "      <td>0.0</td>\n",
              "      <td>4</td>\n",
              "      <td>0.670000</td>\n",
              "      <td>0.670000</td>\n",
              "      <td>0.0</td>\n",
              "    </tr>\n",
              "    <tr>\n",
              "      <th>4</th>\n",
              "      <td>212.547512</td>\n",
              "      <td>0.0</td>\n",
              "      <td>49.967282</td>\n",
              "      <td>0.0</td>\n",
              "      <td>0.1</td>\n",
              "      <td>3</td>\n",
              "      <td>{'C': 0.1, 'gamma': 3}</td>\n",
              "      <td>0.635000</td>\n",
              "      <td>0.635000</td>\n",
              "      <td>0.0</td>\n",
              "      <td>6</td>\n",
              "      <td>0.665139</td>\n",
              "      <td>0.665139</td>\n",
              "      <td>0.0</td>\n",
              "    </tr>\n",
              "  </tbody>\n",
              "</table>\n",
              "</div>"
            ],
            "text/plain": [
              "   mean_fit_time  std_fit_time  ...  mean_train_score  std_train_score\n",
              "0     222.924196           0.0  ...          0.605833              0.0\n",
              "1     222.763821           0.0  ...          0.602917              0.0\n",
              "2     224.383957           0.0  ...          0.502083              0.0\n",
              "3     206.588322           0.0  ...          0.670000              0.0\n",
              "4     212.547512           0.0  ...          0.665139              0.0\n",
              "\n",
              "[5 rows x 14 columns]"
            ]
          },
          "metadata": {
            "tags": []
          },
          "execution_count": 40
        },
        {
          "output_type": "execute_result",
          "data": {
            "text/html": [
              "<div>\n",
              "<style scoped>\n",
              "    .dataframe tbody tr th:only-of-type {\n",
              "        vertical-align: middle;\n",
              "    }\n",
              "\n",
              "    .dataframe tbody tr th {\n",
              "        vertical-align: top;\n",
              "    }\n",
              "\n",
              "    .dataframe thead th {\n",
              "        text-align: right;\n",
              "    }\n",
              "</style>\n",
              "<table border=\"1\" class=\"dataframe\">\n",
              "  <thead>\n",
              "    <tr style=\"text-align: right;\">\n",
              "      <th></th>\n",
              "      <th>mean_fit_time</th>\n",
              "      <th>std_fit_time</th>\n",
              "      <th>mean_score_time</th>\n",
              "      <th>std_score_time</th>\n",
              "      <th>param_C</th>\n",
              "      <th>param_gamma</th>\n",
              "      <th>params</th>\n",
              "      <th>split0_test_score</th>\n",
              "      <th>mean_test_score</th>\n",
              "      <th>std_test_score</th>\n",
              "      <th>rank_test_score</th>\n",
              "      <th>split0_train_score</th>\n",
              "      <th>mean_train_score</th>\n",
              "      <th>std_train_score</th>\n",
              "    </tr>\n",
              "  </thead>\n",
              "  <tbody>\n",
              "    <tr>\n",
              "      <th>0</th>\n",
              "      <td>222.924196</td>\n",
              "      <td>0.0</td>\n",
              "      <td>56.342695</td>\n",
              "      <td>0.0</td>\n",
              "      <td>0.01</td>\n",
              "      <td>1</td>\n",
              "      <td>{'C': 0.01, 'gamma': 1}</td>\n",
              "      <td>0.611667</td>\n",
              "      <td>0.611667</td>\n",
              "      <td>0.0</td>\n",
              "      <td>9</td>\n",
              "      <td>0.605833</td>\n",
              "      <td>0.605833</td>\n",
              "      <td>0.0</td>\n",
              "    </tr>\n",
              "    <tr>\n",
              "      <th>1</th>\n",
              "      <td>222.763821</td>\n",
              "      <td>0.0</td>\n",
              "      <td>56.157765</td>\n",
              "      <td>0.0</td>\n",
              "      <td>0.01</td>\n",
              "      <td>3</td>\n",
              "      <td>{'C': 0.01, 'gamma': 3}</td>\n",
              "      <td>0.593889</td>\n",
              "      <td>0.593889</td>\n",
              "      <td>0.0</td>\n",
              "      <td>10</td>\n",
              "      <td>0.602917</td>\n",
              "      <td>0.602917</td>\n",
              "      <td>0.0</td>\n",
              "    </tr>\n",
              "    <tr>\n",
              "      <th>2</th>\n",
              "      <td>224.383957</td>\n",
              "      <td>0.0</td>\n",
              "      <td>56.511477</td>\n",
              "      <td>0.0</td>\n",
              "      <td>0.01</td>\n",
              "      <td>10</td>\n",
              "      <td>{'C': 0.01, 'gamma': 10}</td>\n",
              "      <td>0.491667</td>\n",
              "      <td>0.491667</td>\n",
              "      <td>0.0</td>\n",
              "      <td>11</td>\n",
              "      <td>0.502083</td>\n",
              "      <td>0.502083</td>\n",
              "      <td>0.0</td>\n",
              "    </tr>\n",
              "    <tr>\n",
              "      <th>3</th>\n",
              "      <td>206.588322</td>\n",
              "      <td>0.0</td>\n",
              "      <td>48.552021</td>\n",
              "      <td>0.0</td>\n",
              "      <td>0.1</td>\n",
              "      <td>1</td>\n",
              "      <td>{'C': 0.1, 'gamma': 1}</td>\n",
              "      <td>0.646667</td>\n",
              "      <td>0.646667</td>\n",
              "      <td>0.0</td>\n",
              "      <td>4</td>\n",
              "      <td>0.670000</td>\n",
              "      <td>0.670000</td>\n",
              "      <td>0.0</td>\n",
              "    </tr>\n",
              "    <tr>\n",
              "      <th>4</th>\n",
              "      <td>212.547512</td>\n",
              "      <td>0.0</td>\n",
              "      <td>49.967282</td>\n",
              "      <td>0.0</td>\n",
              "      <td>0.1</td>\n",
              "      <td>3</td>\n",
              "      <td>{'C': 0.1, 'gamma': 3}</td>\n",
              "      <td>0.635000</td>\n",
              "      <td>0.635000</td>\n",
              "      <td>0.0</td>\n",
              "      <td>6</td>\n",
              "      <td>0.665139</td>\n",
              "      <td>0.665139</td>\n",
              "      <td>0.0</td>\n",
              "    </tr>\n",
              "  </tbody>\n",
              "</table>\n",
              "</div>"
            ],
            "text/plain": [
              "   mean_fit_time  std_fit_time  ...  mean_train_score  std_train_score\n",
              "0     222.924196           0.0  ...          0.605833              0.0\n",
              "1     222.763821           0.0  ...          0.602917              0.0\n",
              "2     224.383957           0.0  ...          0.502083              0.0\n",
              "3     206.588322           0.0  ...          0.670000              0.0\n",
              "4     212.547512           0.0  ...          0.665139              0.0\n",
              "\n",
              "[5 rows x 14 columns]"
            ]
          },
          "metadata": {
            "tags": []
          },
          "execution_count": 40
        },
        {
          "output_type": "execute_result",
          "data": {
            "text/html": [
              "<div>\n",
              "<style scoped>\n",
              "    .dataframe tbody tr th:only-of-type {\n",
              "        vertical-align: middle;\n",
              "    }\n",
              "\n",
              "    .dataframe tbody tr th {\n",
              "        vertical-align: top;\n",
              "    }\n",
              "\n",
              "    .dataframe thead th {\n",
              "        text-align: right;\n",
              "    }\n",
              "</style>\n",
              "<table border=\"1\" class=\"dataframe\">\n",
              "  <thead>\n",
              "    <tr style=\"text-align: right;\">\n",
              "      <th></th>\n",
              "      <th>mean_fit_time</th>\n",
              "      <th>std_fit_time</th>\n",
              "      <th>mean_score_time</th>\n",
              "      <th>std_score_time</th>\n",
              "      <th>param_C</th>\n",
              "      <th>param_gamma</th>\n",
              "      <th>params</th>\n",
              "      <th>split0_test_score</th>\n",
              "      <th>mean_test_score</th>\n",
              "      <th>std_test_score</th>\n",
              "      <th>rank_test_score</th>\n",
              "      <th>split0_train_score</th>\n",
              "      <th>mean_train_score</th>\n",
              "      <th>std_train_score</th>\n",
              "    </tr>\n",
              "  </thead>\n",
              "  <tbody>\n",
              "    <tr>\n",
              "      <th>0</th>\n",
              "      <td>222.924196</td>\n",
              "      <td>0.0</td>\n",
              "      <td>56.342695</td>\n",
              "      <td>0.0</td>\n",
              "      <td>0.01</td>\n",
              "      <td>1</td>\n",
              "      <td>{'C': 0.01, 'gamma': 1}</td>\n",
              "      <td>0.611667</td>\n",
              "      <td>0.611667</td>\n",
              "      <td>0.0</td>\n",
              "      <td>9</td>\n",
              "      <td>0.605833</td>\n",
              "      <td>0.605833</td>\n",
              "      <td>0.0</td>\n",
              "    </tr>\n",
              "    <tr>\n",
              "      <th>1</th>\n",
              "      <td>222.763821</td>\n",
              "      <td>0.0</td>\n",
              "      <td>56.157765</td>\n",
              "      <td>0.0</td>\n",
              "      <td>0.01</td>\n",
              "      <td>3</td>\n",
              "      <td>{'C': 0.01, 'gamma': 3}</td>\n",
              "      <td>0.593889</td>\n",
              "      <td>0.593889</td>\n",
              "      <td>0.0</td>\n",
              "      <td>10</td>\n",
              "      <td>0.602917</td>\n",
              "      <td>0.602917</td>\n",
              "      <td>0.0</td>\n",
              "    </tr>\n",
              "    <tr>\n",
              "      <th>2</th>\n",
              "      <td>224.383957</td>\n",
              "      <td>0.0</td>\n",
              "      <td>56.511477</td>\n",
              "      <td>0.0</td>\n",
              "      <td>0.01</td>\n",
              "      <td>10</td>\n",
              "      <td>{'C': 0.01, 'gamma': 10}</td>\n",
              "      <td>0.491667</td>\n",
              "      <td>0.491667</td>\n",
              "      <td>0.0</td>\n",
              "      <td>11</td>\n",
              "      <td>0.502083</td>\n",
              "      <td>0.502083</td>\n",
              "      <td>0.0</td>\n",
              "    </tr>\n",
              "    <tr>\n",
              "      <th>3</th>\n",
              "      <td>206.588322</td>\n",
              "      <td>0.0</td>\n",
              "      <td>48.552021</td>\n",
              "      <td>0.0</td>\n",
              "      <td>0.1</td>\n",
              "      <td>1</td>\n",
              "      <td>{'C': 0.1, 'gamma': 1}</td>\n",
              "      <td>0.646667</td>\n",
              "      <td>0.646667</td>\n",
              "      <td>0.0</td>\n",
              "      <td>4</td>\n",
              "      <td>0.670000</td>\n",
              "      <td>0.670000</td>\n",
              "      <td>0.0</td>\n",
              "    </tr>\n",
              "    <tr>\n",
              "      <th>4</th>\n",
              "      <td>212.547512</td>\n",
              "      <td>0.0</td>\n",
              "      <td>49.967282</td>\n",
              "      <td>0.0</td>\n",
              "      <td>0.1</td>\n",
              "      <td>3</td>\n",
              "      <td>{'C': 0.1, 'gamma': 3}</td>\n",
              "      <td>0.635000</td>\n",
              "      <td>0.635000</td>\n",
              "      <td>0.0</td>\n",
              "      <td>6</td>\n",
              "      <td>0.665139</td>\n",
              "      <td>0.665139</td>\n",
              "      <td>0.0</td>\n",
              "    </tr>\n",
              "  </tbody>\n",
              "</table>\n",
              "</div>"
            ],
            "text/plain": [
              "   mean_fit_time  std_fit_time  ...  mean_train_score  std_train_score\n",
              "0     222.924196           0.0  ...          0.605833              0.0\n",
              "1     222.763821           0.0  ...          0.602917              0.0\n",
              "2     224.383957           0.0  ...          0.502083              0.0\n",
              "3     206.588322           0.0  ...          0.670000              0.0\n",
              "4     212.547512           0.0  ...          0.665139              0.0\n",
              "\n",
              "[5 rows x 14 columns]"
            ]
          },
          "metadata": {
            "tags": []
          },
          "execution_count": 40
        }
      ]
    },
    {
      "cell_type": "markdown",
      "metadata": {
        "id": "McGGWQTHtW9z"
      },
      "source": [
        "### Observations:\n",
        "* Logistic Regression gives the highest accuracy.\n",
        "* We can see that SVM with polynomial kernel (degree 2) and Gaussian Kernel give less accuracy. This maybe because the decision boundary in this case would be linear, rather higher degree polynomial."
      ]
    },
    {
      "cell_type": "markdown",
      "metadata": {
        "id": "KOVcGEa21vLP"
      },
      "source": [
        "## 5. With Stemming, with stopwords, words that appear <=10 times removed, with numbers removed"
      ]
    },
    {
      "cell_type": "code",
      "metadata": {
        "id": "gIZdHtISPRA8"
      },
      "source": [
        "def process_text(review):\n",
        "    review = review.lower()           # convert to lowercase\n",
        "\n",
        "    review = re.sub(\"[^a-zA-Z#]\", \" \", review)    # Replace numbers, characters with space\n",
        "\n",
        "    regex = re.compile('(?u)\\\\b\\\\w\\\\w+\\\\b')       # Break each sentence on the basis of punctuations, white spaces\n",
        "    stemmer = PorterStemmer()\n",
        "    return \" \".join([stemmer.stem(WordNetLemmatizer().lemmatize(token, pos='v')) for token in regex.findall(review)])"
      ],
      "execution_count": null,
      "outputs": []
    },
    {
      "cell_type": "code",
      "metadata": {
        "id": "zl-PNLtnPsR6"
      },
      "source": [
        "df_reviews = pd.Series([process_text(review) for review in df_reviews])"
      ],
      "execution_count": null,
      "outputs": []
    },
    {
      "cell_type": "code",
      "metadata": {
        "id": "eP_wRTyS1t-Q"
      },
      "source": [
        "X_train, X_test, y_train, y_test = train_test_split(df_reviews, labels, test_size=0.1, random_state=21, stratify=labels)"
      ],
      "execution_count": null,
      "outputs": []
    },
    {
      "cell_type": "code",
      "metadata": {
        "colab": {
          "base_uri": "https://localhost:8080/"
        },
        "id": "2dO47bLU2QAa",
        "outputId": "897b44f8-d158-4ad2-8285-9e801ec08543"
      },
      "source": [
        "X_train.shape, X_test.shape, len(y_train), len(y_test)"
      ],
      "execution_count": null,
      "outputs": [
        {
          "output_type": "execute_result",
          "data": {
            "text/plain": [
              "((9000,), (1000,), 9000, 1000)"
            ]
          },
          "metadata": {
            "tags": []
          },
          "execution_count": 24
        }
      ]
    },
    {
      "cell_type": "code",
      "metadata": {
        "colab": {
          "base_uri": "https://localhost:8080/"
        },
        "id": "uaFyd80E2S8P",
        "outputId": "fae19a3d-3a2b-4269-a23b-05c8ee1bcc47"
      },
      "source": [
        "bag_of_words_norm, vect = get_feature_vector(X_train, min_df=9)"
      ],
      "execution_count": null,
      "outputs": [
        {
          "output_type": "stream",
          "text": [
            "Vocabulary size: 8313\n",
            "Number of features: 8313\n",
            "First 20 features:\n",
            "['aaron', 'aback', 'abandon', 'abba', 'abbi', 'abduct', 'abe', 'abi', 'abid', 'abigail', 'abil', 'abl', 'abli', 'abnorm', 'aboard', 'abomin', 'abort', 'abound', 'about', 'abov']\n",
            "Features 20010 to 20030:\n",
            "[]\n",
            "Every 2000th feature:\n",
            "['aaron', 'disarm', 'kathryn', 'rememb', 'walk']\n"
          ],
          "name": "stdout"
        }
      ]
    },
    {
      "cell_type": "code",
      "metadata": {
        "colab": {
          "base_uri": "https://localhost:8080/"
        },
        "id": "HVcsP1672le1",
        "outputId": "048c4102-5818-42ef-9f6f-77bab920b274"
      },
      "source": [
        "bag_of_words_test = vect.transform(X_test)\n",
        "bag_of_words_test_norm = normalize(bag_of_words_test, norm='l2')\n",
        "bag_of_words_test_norm"
      ],
      "execution_count": null,
      "outputs": [
        {
          "output_type": "execute_result",
          "data": {
            "text/plain": [
              "<1000x8313 sparse matrix of type '<class 'numpy.float64'>'\n",
              "\twith 138841 stored elements in Compressed Sparse Row format>"
            ]
          },
          "metadata": {
            "tags": []
          },
          "execution_count": 26
        }
      ]
    },
    {
      "cell_type": "markdown",
      "metadata": {
        "id": "aM-GUmN92z2_"
      },
      "source": [
        "### 5.1 Logistic Regression"
      ]
    },
    {
      "cell_type": "code",
      "metadata": {
        "colab": {
          "base_uri": "https://localhost:8080/",
          "height": 280
        },
        "id": "B6cgDxPw2zGx",
        "outputId": "d1f15c36-bff9-4669-90be-86e50ff0ad9a"
      },
      "source": [
        "parameters = {'C': [0.01, 0.03, 0.1, 0.3, 1.0, 3.0, 9.0]}\n",
        "log_reg = LogisticRegression(max_iter=1000)         # Creating an instance of Scikit Learn LogisticRegression class\n",
        "grid_search = tune_parameters(log_reg, bag_of_words_norm, y_train, parameters, verbose=True)"
      ],
      "execution_count": null,
      "outputs": [
        {
          "output_type": "display_data",
          "data": {
            "image/png": "[encoded data removed]",
            "text/plain": [
              "<Figure size 432x288 with 1 Axes>"
            ]
          },
          "metadata": {
            "tags": [],
            "needs_background": "light"
          }
        }
      ]
    },
    {
      "cell_type": "code",
      "metadata": {
        "colab": {
          "base_uri": "https://localhost:8080/"
        },
        "id": "3NJiMDVB2-7E",
        "outputId": "71d6d4a9-ef3f-442a-f019-ec36b1c2d77a"
      },
      "source": [
        "log_reg_best = grid_search.best_estimator_\n",
        "evaluate_model(log_reg_best, bag_of_words_norm, bag_of_words_test_norm, y_train, y_test)"
      ],
      "execution_count": null,
      "outputs": [
        {
          "output_type": "stream",
          "text": [
            "Training accuracy: 0.7415555555555555\n",
            "Testing accuracy: 0.678\n",
            "Precision on test data: 0.6808943089430894\n",
            "Recall on test data: 0.67\n",
            "f1 score on test data: 0.6754032258064516\n"
          ],
          "name": "stdout"
        }
      ]
    },
    {
      "cell_type": "markdown",
      "metadata": {
        "id": "eQNFODTe4rxw"
      },
      "source": [
        "### 5.2 SVM with Linear Kernel"
      ]
    },
    {
      "cell_type": "code",
      "metadata": {
        "colab": {
          "base_uri": "https://localhost:8080/",
          "height": 279
        },
        "id": "ZPJoi_yb4q48",
        "outputId": "3768bf7e-c075-4d0e-ddef-d95be7c1ec64"
      },
      "source": [
        "parameters = {'C': [0.01, 0.03, 0.1, 0.3, 1.0, 3.0, 9.0]}\n",
        "svm = LinearSVC(C=10, loss='hinge', max_iter=10000)\n",
        "grid_search = tune_parameters(svm, bag_of_words_norm, y_train, parameters, verbose=True)"
      ],
      "execution_count": null,
      "outputs": [
        {
          "output_type": "display_data",
          "data": {
            "image/png": "[encoded data removed]",
            "text/plain": [
              "<Figure size 432x288 with 1 Axes>"
            ]
          },
          "metadata": {
            "tags": [],
            "needs_background": "light"
          }
        }
      ]
    },
    {
      "cell_type": "code",
      "metadata": {
        "colab": {
          "base_uri": "https://localhost:8080/"
        },
        "id": "qBypedrL5Y1v",
        "outputId": "ed9d908e-cb2d-4ad6-cf4c-09462e300939"
      },
      "source": [
        "svm_best = grid_search.best_estimator_\n",
        "evaluate_model(svm_best, bag_of_words_norm, bag_of_words_test_norm, y_train, y_test)"
      ],
      "execution_count": null,
      "outputs": [
        {
          "output_type": "stream",
          "text": [
            "Training accuracy: 0.7244444444444444\n",
            "Testing accuracy: 0.688\n",
            "Precision on test data: 0.6865079365079365\n",
            "Recall on test data: 0.692\n",
            "f1 score on test data: 0.6892430278884462\n"
          ],
          "name": "stdout"
        }
      ]
    },
    {
      "cell_type": "markdown",
      "metadata": {
        "id": "hENpcvSxBbi3"
      },
      "source": [
        "### 5.3 SVM polynomial kernel (degree 2)"
      ]
    },
    {
      "cell_type": "code",
      "metadata": {
        "id": "hV-kCrVfBv7v"
      },
      "source": [
        "parameters = {'C': [0.01, 0.1, 1.0], 'coef0' : [1, 5, 10]}\n",
        "svm = SVC(kernel='poly', degree=2)\n",
        "grid_search = tune_parameters(svm, bag_of_words_norm, y_train, parameters, cv=ss)"
      ],
      "execution_count": null,
      "outputs": []
    },
    {
      "cell_type": "code",
      "metadata": {
        "colab": {
          "base_uri": "https://localhost:8080/"
        },
        "id": "KZYhKUhYB3PL",
        "outputId": "a95a7af8-2f69-47d0-8aa9-acbc4a27b6f0"
      },
      "source": [
        "svm_best = grid_search.best_estimator_\n",
        "evaluate_model(svm_best, bag_of_words_norm, bag_of_words_test_norm, y_train, y_test)"
      ],
      "execution_count": null,
      "outputs": [
        {
          "output_type": "stream",
          "text": [
            "Training accuracy: 0.7333333333333333\n",
            "Testing accuracy: 0.684\n",
            "Precision on test data: 0.6854838709677419\n",
            "Recall on test data: 0.68\n",
            "f1 score on test data: 0.6827309236947792\n"
          ],
          "name": "stdout"
        }
      ]
    },
    {
      "cell_type": "code",
      "metadata": {
        "colab": {
          "base_uri": "https://localhost:8080/",
          "height": 467
        },
        "id": "8QxnEAtOB8dD",
        "outputId": "304b93da-7c81-4508-a852-685de4117338"
      },
      "source": [
        "results = pd.DataFrame(grid_search.cv_results_)\n",
        "results.head()"
      ],
      "execution_count": null,
      "outputs": [
        {
          "output_type": "execute_result",
          "data": {
            "text/html": [
              "<div>\n",
              "<style scoped>\n",
              "    .dataframe tbody tr th:only-of-type {\n",
              "        vertical-align: middle;\n",
              "    }\n",
              "\n",
              "    .dataframe tbody tr th {\n",
              "        vertical-align: top;\n",
              "    }\n",
              "\n",
              "    .dataframe thead th {\n",
              "        text-align: right;\n",
              "    }\n",
              "</style>\n",
              "<table border=\"1\" class=\"dataframe\">\n",
              "  <thead>\n",
              "    <tr style=\"text-align: right;\">\n",
              "      <th></th>\n",
              "      <th>mean_fit_time</th>\n",
              "      <th>std_fit_time</th>\n",
              "      <th>mean_score_time</th>\n",
              "      <th>std_score_time</th>\n",
              "      <th>param_C</th>\n",
              "      <th>param_coef0</th>\n",
              "      <th>params</th>\n",
              "      <th>split0_test_score</th>\n",
              "      <th>mean_test_score</th>\n",
              "      <th>std_test_score</th>\n",
              "      <th>rank_test_score</th>\n",
              "      <th>split0_train_score</th>\n",
              "      <th>mean_train_score</th>\n",
              "      <th>std_train_score</th>\n",
              "    </tr>\n",
              "  </thead>\n",
              "  <tbody>\n",
              "    <tr>\n",
              "      <th>0</th>\n",
              "      <td>106.098046</td>\n",
              "      <td>0.0</td>\n",
              "      <td>25.524196</td>\n",
              "      <td>0.0</td>\n",
              "      <td>0.01</td>\n",
              "      <td>1</td>\n",
              "      <td>{'C': 0.01, 'coef0': 1}</td>\n",
              "      <td>0.623333</td>\n",
              "      <td>0.623333</td>\n",
              "      <td>0.0</td>\n",
              "      <td>9</td>\n",
              "      <td>0.625139</td>\n",
              "      <td>0.625139</td>\n",
              "      <td>0.0</td>\n",
              "    </tr>\n",
              "    <tr>\n",
              "      <th>1</th>\n",
              "      <td>100.495150</td>\n",
              "      <td>0.0</td>\n",
              "      <td>24.015777</td>\n",
              "      <td>0.0</td>\n",
              "      <td>0.01</td>\n",
              "      <td>5</td>\n",
              "      <td>{'C': 0.01, 'coef0': 5}</td>\n",
              "      <td>0.650000</td>\n",
              "      <td>0.650000</td>\n",
              "      <td>0.0</td>\n",
              "      <td>6</td>\n",
              "      <td>0.660417</td>\n",
              "      <td>0.660417</td>\n",
              "      <td>0.0</td>\n",
              "    </tr>\n",
              "    <tr>\n",
              "      <th>2</th>\n",
              "      <td>99.257634</td>\n",
              "      <td>0.0</td>\n",
              "      <td>23.093102</td>\n",
              "      <td>0.0</td>\n",
              "      <td>0.01</td>\n",
              "      <td>10</td>\n",
              "      <td>{'C': 0.01, 'coef0': 10}</td>\n",
              "      <td>0.655000</td>\n",
              "      <td>0.655000</td>\n",
              "      <td>0.0</td>\n",
              "      <td>4</td>\n",
              "      <td>0.680556</td>\n",
              "      <td>0.680556</td>\n",
              "      <td>0.0</td>\n",
              "    </tr>\n",
              "    <tr>\n",
              "      <th>3</th>\n",
              "      <td>98.286121</td>\n",
              "      <td>0.0</td>\n",
              "      <td>22.621397</td>\n",
              "      <td>0.0</td>\n",
              "      <td>0.1</td>\n",
              "      <td>1</td>\n",
              "      <td>{'C': 0.1, 'coef0': 1}</td>\n",
              "      <td>0.664444</td>\n",
              "      <td>0.664444</td>\n",
              "      <td>0.0</td>\n",
              "      <td>2</td>\n",
              "      <td>0.700417</td>\n",
              "      <td>0.700417</td>\n",
              "      <td>0.0</td>\n",
              "    </tr>\n",
              "    <tr>\n",
              "      <th>4</th>\n",
              "      <td>94.063395</td>\n",
              "      <td>0.0</td>\n",
              "      <td>22.038396</td>\n",
              "      <td>0.0</td>\n",
              "      <td>0.1</td>\n",
              "      <td>5</td>\n",
              "      <td>{'C': 0.1, 'coef0': 5}</td>\n",
              "      <td>0.666111</td>\n",
              "      <td>0.666111</td>\n",
              "      <td>0.0</td>\n",
              "      <td>1</td>\n",
              "      <td>0.735972</td>\n",
              "      <td>0.735972</td>\n",
              "      <td>0.0</td>\n",
              "    </tr>\n",
              "  </tbody>\n",
              "</table>\n",
              "</div>"
            ],
            "text/plain": [
              "   mean_fit_time  std_fit_time  ...  mean_train_score  std_train_score\n",
              "0     106.098046           0.0  ...          0.625139              0.0\n",
              "1     100.495150           0.0  ...          0.660417              0.0\n",
              "2      99.257634           0.0  ...          0.680556              0.0\n",
              "3      98.286121           0.0  ...          0.700417              0.0\n",
              "4      94.063395           0.0  ...          0.735972              0.0\n",
              "\n",
              "[5 rows x 14 columns]"
            ]
          },
          "metadata": {
            "tags": []
          },
          "execution_count": 29
        }
      ]
    },
    {
      "cell_type": "code",
      "metadata": {
        "colab": {
          "base_uri": "https://localhost:8080/"
        },
        "id": "NoFvAvZkB_kv",
        "outputId": "2bf9a7a9-807d-4469-d745-adecef95c147"
      },
      "source": [
        "grid_search.best_params_"
      ],
      "execution_count": null,
      "outputs": [
        {
          "output_type": "execute_result",
          "data": {
            "text/plain": [
              "{'C': 0.1, 'coef0': 5}"
            ]
          },
          "metadata": {
            "tags": []
          },
          "execution_count": 30
        }
      ]
    },
    {
      "cell_type": "code",
      "metadata": {
        "id": "Y9OsMnqbCDA7"
      },
      "source": [
        "filename = '5.3_GridSearchCV.sav'\n",
        "pickle.dump(grid_search, open(filename, 'wb'))"
      ],
      "execution_count": null,
      "outputs": []
    },
    {
      "cell_type": "code",
      "metadata": {
        "id": "CFKp-Zs9CJDD"
      },
      "source": [
        "loaded_model = pickle.load(open(filename, 'rb'))\n",
        "results = pd.DataFrame(loaded_model.cv_results_)\n",
        "results.head()"
      ],
      "execution_count": null,
      "outputs": []
    },
    {
      "cell_type": "markdown",
      "metadata": {
        "id": "5yL3_ZXhFIGk"
      },
      "source": [
        "### 5.4 SVM with Gaussian Kernel"
      ]
    },
    {
      "cell_type": "code",
      "metadata": {
        "id": "6uIktZS-FtiV"
      },
      "source": [
        "parameters = {'C': [0.01, 0.1, 1.0, 10], 'gamma' : [1, 3, 10]}\n",
        "svm = SVC(kernel=\"rbf\")\n",
        "grid_search = tune_parameters(svm, bag_of_words_norm, y_train, parameters, cv=ss)"
      ],
      "execution_count": null,
      "outputs": []
    },
    {
      "cell_type": "code",
      "metadata": {
        "colab": {
          "base_uri": "https://localhost:8080/"
        },
        "id": "iGExl4JtF0yZ",
        "outputId": "3a732e44-60a4-4dcb-8d83-19220c725a36"
      },
      "source": [
        "grid_search.best_params_"
      ],
      "execution_count": null,
      "outputs": [
        {
          "output_type": "execute_result",
          "data": {
            "text/plain": [
              "{'C': 1.0, 'gamma': 1}"
            ]
          },
          "metadata": {
            "tags": []
          },
          "execution_count": 35
        }
      ]
    },
    {
      "cell_type": "code",
      "metadata": {
        "colab": {
          "base_uri": "https://localhost:8080/"
        },
        "id": "wTdGnHVzGCqq",
        "outputId": "5c4781ea-7ccc-48ad-d179-3e75a2a3bf70"
      },
      "source": [
        "svm_best = grid_search.best_estimator_\n",
        "evaluate_model(svm_best, bag_of_words_norm, bag_of_words_test_norm, y_train, y_test)"
      ],
      "execution_count": null,
      "outputs": [
        {
          "output_type": "stream",
          "text": [
            "Training accuracy: 0.789\n",
            "Testing accuracy: 0.683\n",
            "Precision on test data: 0.6942675159235668\n",
            "Recall on test data: 0.654\n",
            "f1 score on test data: 0.6735324407826982\n"
          ],
          "name": "stdout"
        }
      ]
    },
    {
      "cell_type": "code",
      "metadata": {
        "colab": {
          "base_uri": "https://localhost:8080/",
          "height": 434
        },
        "id": "b78l0pFxISdk",
        "outputId": "77a63c7b-e25d-43a5-bdd1-200b8c301302"
      },
      "source": [
        "results = pd.DataFrame(grid_search.cv_results_)\n",
        "results.head()"
      ],
      "execution_count": null,
      "outputs": [
        {
          "output_type": "execute_result",
          "data": {
            "text/html": [
              "<div>\n",
              "<style scoped>\n",
              "    .dataframe tbody tr th:only-of-type {\n",
              "        vertical-align: middle;\n",
              "    }\n",
              "\n",
              "    .dataframe tbody tr th {\n",
              "        vertical-align: top;\n",
              "    }\n",
              "\n",
              "    .dataframe thead th {\n",
              "        text-align: right;\n",
              "    }\n",
              "</style>\n",
              "<table border=\"1\" class=\"dataframe\">\n",
              "  <thead>\n",
              "    <tr style=\"text-align: right;\">\n",
              "      <th></th>\n",
              "      <th>mean_fit_time</th>\n",
              "      <th>std_fit_time</th>\n",
              "      <th>mean_score_time</th>\n",
              "      <th>std_score_time</th>\n",
              "      <th>param_C</th>\n",
              "      <th>param_gamma</th>\n",
              "      <th>params</th>\n",
              "      <th>split0_test_score</th>\n",
              "      <th>mean_test_score</th>\n",
              "      <th>std_test_score</th>\n",
              "      <th>rank_test_score</th>\n",
              "      <th>split0_train_score</th>\n",
              "      <th>mean_train_score</th>\n",
              "      <th>std_train_score</th>\n",
              "    </tr>\n",
              "  </thead>\n",
              "  <tbody>\n",
              "    <tr>\n",
              "      <th>0</th>\n",
              "      <td>113.881364</td>\n",
              "      <td>0.0</td>\n",
              "      <td>28.766776</td>\n",
              "      <td>0.0</td>\n",
              "      <td>0.01</td>\n",
              "      <td>1</td>\n",
              "      <td>{'C': 0.01, 'gamma': 1}</td>\n",
              "      <td>0.604444</td>\n",
              "      <td>0.604444</td>\n",
              "      <td>0.0</td>\n",
              "      <td>10</td>\n",
              "      <td>0.597222</td>\n",
              "      <td>0.597222</td>\n",
              "      <td>0.0</td>\n",
              "    </tr>\n",
              "    <tr>\n",
              "      <th>1</th>\n",
              "      <td>113.540735</td>\n",
              "      <td>0.0</td>\n",
              "      <td>28.808183</td>\n",
              "      <td>0.0</td>\n",
              "      <td>0.01</td>\n",
              "      <td>3</td>\n",
              "      <td>{'C': 0.01, 'gamma': 3}</td>\n",
              "      <td>0.617222</td>\n",
              "      <td>0.617222</td>\n",
              "      <td>0.0</td>\n",
              "      <td>9</td>\n",
              "      <td>0.615417</td>\n",
              "      <td>0.615417</td>\n",
              "      <td>0.0</td>\n",
              "    </tr>\n",
              "    <tr>\n",
              "      <th>2</th>\n",
              "      <td>113.815990</td>\n",
              "      <td>0.0</td>\n",
              "      <td>28.772476</td>\n",
              "      <td>0.0</td>\n",
              "      <td>0.01</td>\n",
              "      <td>10</td>\n",
              "      <td>{'C': 0.01, 'gamma': 10}</td>\n",
              "      <td>0.491667</td>\n",
              "      <td>0.491667</td>\n",
              "      <td>0.0</td>\n",
              "      <td>12</td>\n",
              "      <td>0.502083</td>\n",
              "      <td>0.502083</td>\n",
              "      <td>0.0</td>\n",
              "    </tr>\n",
              "    <tr>\n",
              "      <th>3</th>\n",
              "      <td>105.008748</td>\n",
              "      <td>0.0</td>\n",
              "      <td>24.894506</td>\n",
              "      <td>0.0</td>\n",
              "      <td>0.1</td>\n",
              "      <td>1</td>\n",
              "      <td>{'C': 0.1, 'gamma': 1}</td>\n",
              "      <td>0.639444</td>\n",
              "      <td>0.639444</td>\n",
              "      <td>0.0</td>\n",
              "      <td>6</td>\n",
              "      <td>0.665556</td>\n",
              "      <td>0.665556</td>\n",
              "      <td>0.0</td>\n",
              "    </tr>\n",
              "    <tr>\n",
              "      <th>4</th>\n",
              "      <td>106.489595</td>\n",
              "      <td>0.0</td>\n",
              "      <td>25.251650</td>\n",
              "      <td>0.0</td>\n",
              "      <td>0.1</td>\n",
              "      <td>3</td>\n",
              "      <td>{'C': 0.1, 'gamma': 3}</td>\n",
              "      <td>0.644444</td>\n",
              "      <td>0.644444</td>\n",
              "      <td>0.0</td>\n",
              "      <td>4</td>\n",
              "      <td>0.677083</td>\n",
              "      <td>0.677083</td>\n",
              "      <td>0.0</td>\n",
              "    </tr>\n",
              "  </tbody>\n",
              "</table>\n",
              "</div>"
            ],
            "text/plain": [
              "   mean_fit_time  std_fit_time  ...  mean_train_score  std_train_score\n",
              "0     113.881364           0.0  ...          0.597222              0.0\n",
              "1     113.540735           0.0  ...          0.615417              0.0\n",
              "2     113.815990           0.0  ...          0.502083              0.0\n",
              "3     105.008748           0.0  ...          0.665556              0.0\n",
              "4     106.489595           0.0  ...          0.677083              0.0\n",
              "\n",
              "[5 rows x 14 columns]"
            ]
          },
          "metadata": {
            "tags": []
          },
          "execution_count": 37
        }
      ]
    },
    {
      "cell_type": "code",
      "metadata": {
        "id": "ANhdTq8jIYv3"
      },
      "source": [
        "filename = '5.4_GridSearchCV.sav'\n",
        "pickle.dump(grid_search, open(filename, 'wb'))"
      ],
      "execution_count": null,
      "outputs": []
    },
    {
      "cell_type": "code",
      "metadata": {
        "id": "AyMMfjY1Il2h"
      },
      "source": [
        "loaded_model = pickle.load(open(filename, 'rb'))\n",
        "results = pd.DataFrame(loaded_model.cv_results_)\n",
        "results.head()"
      ],
      "execution_count": null,
      "outputs": []
    },
    {
      "cell_type": "markdown",
      "metadata": {
        "id": "iYKa1wVeyrx-"
      },
      "source": [
        "### Observations:\n",
        "* SVM with Linear Kernel has the highest accuracy.\n",
        "* We can see that SVM with polynomial kernel (degree 2) and Gaussian Kernel give less accuracy. This maybe because the decision boundary in this case would be linear, rather higher degree polynomial."
      ]
    },
    {
      "cell_type": "markdown",
      "metadata": {
        "id": "0BlVBMkp0WS_"
      },
      "source": [
        "## 6. With Bigrams, with stopwords, words that appear in <=5 documents removed with numbers removed"
      ]
    },
    {
      "cell_type": "code",
      "metadata": {
        "id": "Fan6CSUy0QCx"
      },
      "source": [
        "df_reviews = df_reviews.str.replace(\"[^a-zA-Z#]\", \" \") # Removing numbers, characters with space"
      ],
      "execution_count": null,
      "outputs": []
    },
    {
      "cell_type": "code",
      "metadata": {
        "id": "j455HhiI0UH8"
      },
      "source": [
        "X_train, X_test, y_train, y_test = train_test_split(df_reviews, labels, test_size=0.1, random_state=21, stratify=labels)"
      ],
      "execution_count": null,
      "outputs": []
    },
    {
      "cell_type": "code",
      "metadata": {
        "colab": {
          "base_uri": "https://localhost:8080/"
        },
        "id": "G3dwjFXI084o",
        "outputId": "5581e851-88b6-488c-edc7-a5fd9954c748"
      },
      "source": [
        "X_train.shape, X_test.shape, len(y_train), len(y_test)"
      ],
      "execution_count": null,
      "outputs": [
        {
          "output_type": "execute_result",
          "data": {
            "text/plain": [
              "((9000,), (1000,), 9000, 1000)"
            ]
          },
          "metadata": {
            "tags": []
          },
          "execution_count": 92
        }
      ]
    },
    {
      "cell_type": "code",
      "metadata": {
        "colab": {
          "base_uri": "https://localhost:8080/"
        },
        "id": "ryqJsMkc0-Bk",
        "outputId": "1d442b20-a442-4edf-cd99-7067bc3a8f0f"
      },
      "source": [
        "bag_of_words_norm, vect = get_feature_vector(X_train, ngram_range=(1,2), min_df=5)"
      ],
      "execution_count": null,
      "outputs": [
        {
          "output_type": "stream",
          "text": [
            "Vocabulary size: 77992\n",
            "Number of features: 77992\n",
            "First 20 features:\n",
            "['aamir', 'aang', 'aaron', 'aaron eckhart', 'aaron sorkin', 'aaron stanford', 'aaron taylor', 'aback', 'abandon', 'abandoned', 'abandoned by', 'abandonment', 'abandons', 'abba', 'abbey', 'abbie', 'abbie cornish', 'abducted', 'abducted by', 'abduction']\n",
            "Features 20010 to 20030:\n",
            "['enjoy them', 'enjoy themselves', 'enjoy this', 'enjoy watching', 'enjoy what', 'enjoy yourself', 'enjoyable', 'enjoyable action', 'enjoyable and', 'enjoyable as', 'enjoyable but', 'enjoyable experience', 'enjoyable film', 'enjoyable for', 'enjoyable from', 'enjoyable if', 'enjoyable in', 'enjoyable it', 'enjoyable movie', 'enjoyable the']\n",
            "Every 2000th feature:\n",
            "['aamir', 'already seen', 'and leo', 'are seeing', 'be among', 'bombs and', 'candle', 'come along', 'daredevil and', 'do believe', 'enjoy if', 'far as', 'for generations', 'go get', 'has what', 'his looks', 'in length', 'is really', 'just imagine', 'like lot', 'mason', 'most significant', 'nitpicking', 'of poor', 'orphans', 'pistol', 'quickly becomes', 'revolt against', 'see sequel', 'slow pace', 'still really', 'tempted', 'the fault', 'the user', 'threat is', 'tops', 'version there', 'weaves', 'with darth']\n"
          ],
          "name": "stdout"
        }
      ]
    },
    {
      "cell_type": "code",
      "metadata": {
        "colab": {
          "base_uri": "https://localhost:8080/"
        },
        "id": "Cfrdn2TD1D1x",
        "outputId": "9dabce31-2df0-4d66-cfc1-7fb898572265"
      },
      "source": [
        "bag_of_words_test = vect.transform(X_test)\n",
        "bag_of_words_test_norm = normalize(bag_of_words_test, norm='l2')\n",
        "bag_of_words_test_norm"
      ],
      "execution_count": null,
      "outputs": [
        {
          "output_type": "execute_result",
          "data": {
            "text/plain": [
              "<1000x77992 sparse matrix of type '<class 'numpy.float64'>'\n",
              "\twith 296941 stored elements in Compressed Sparse Row format>"
            ]
          },
          "metadata": {
            "tags": []
          },
          "execution_count": 94
        }
      ]
    },
    {
      "cell_type": "markdown",
      "metadata": {
        "id": "-nc0gHg-1P96"
      },
      "source": [
        "### 6.1 Logistic Regression"
      ]
    },
    {
      "cell_type": "code",
      "metadata": {
        "colab": {
          "base_uri": "https://localhost:8080/",
          "height": 279
        },
        "id": "_hktKD7E1Klk",
        "outputId": "0e949fe5-dc36-4fed-a3d5-86da18eba072"
      },
      "source": [
        "parameters = {'C': [0.01, 0.03, 0.1, 0.3, 1.0, 3.0, 9.0]}\n",
        "log_reg = LogisticRegression(max_iter=1000)         # Creating an instance of Scikit Learn LogisticRegression class\n",
        "grid_search = tune_parameters(log_reg, bag_of_words_norm, y_train, parameters, verbose=True)"
      ],
      "execution_count": null,
      "outputs": [
        {
          "output_type": "display_data",
          "data": {
            "image/png": "[encoded data removed]",
            "text/plain": [
              "<Figure size 432x288 with 1 Axes>"
            ]
          },
          "metadata": {
            "tags": [],
            "needs_background": "light"
          }
        }
      ]
    },
    {
      "cell_type": "code",
      "metadata": {
        "colab": {
          "base_uri": "https://localhost:8080/"
        },
        "id": "p2sr6Uhi1UGX",
        "outputId": "a6ddbd11-8d48-4427-a781-fe0861558455"
      },
      "source": [
        "log_reg_best = grid_search.best_estimator_\n",
        "evaluate_model(log_reg_best, bag_of_words_norm, bag_of_words_test_norm, y_train, y_test)"
      ],
      "execution_count": null,
      "outputs": [
        {
          "output_type": "stream",
          "text": [
            "Training accuracy: 0.8134444444444444\n",
            "Testing accuracy: 0.671\n",
            "Precision on test data: 0.6777546777546778\n",
            "Recall on test data: 0.652\n",
            "f1 score on test data: 0.6646279306829765\n"
          ],
          "name": "stdout"
        }
      ]
    },
    {
      "cell_type": "markdown",
      "metadata": {
        "id": "uOq8yaUO19iP"
      },
      "source": [
        "### 6.2 SVM with Linear Kernel"
      ]
    },
    {
      "cell_type": "code",
      "metadata": {
        "colab": {
          "base_uri": "https://localhost:8080/",
          "height": 281
        },
        "id": "3jv1_PhN1fQz",
        "outputId": "fb3a150e-ffba-415b-d3a9-63b6060e5495"
      },
      "source": [
        "parameters = {'C': [0.01, 0.03, 0.1, 0.3, 1.0, 3.0, 9.0]}\n",
        "svm = LinearSVC(C=10, loss='hinge', max_iter=10000)\n",
        "grid_search = tune_parameters(svm, bag_of_words_norm, y_train, parameters, verbose=True)"
      ],
      "execution_count": null,
      "outputs": [
        {
          "output_type": "display_data",
          "data": {
            "image/png": "[encoded data removed]",
            "text/plain": [
              "<Figure size 432x288 with 1 Axes>"
            ]
          },
          "metadata": {
            "tags": [],
            "needs_background": "light"
          }
        }
      ]
    },
    {
      "cell_type": "code",
      "metadata": {
        "colab": {
          "base_uri": "https://localhost:8080/"
        },
        "id": "oei9-q8t1onm",
        "outputId": "f8efd0b1-4f42-4e3c-e15c-3c0414fb188c"
      },
      "source": [
        "svm_best = grid_search.best_estimator_\n",
        "evaluate_model(svm_best, bag_of_words_norm, bag_of_words_test_norm, y_train, y_test)"
      ],
      "execution_count": null,
      "outputs": [
        {
          "output_type": "stream",
          "text": [
            "Training accuracy: 0.7845555555555556\n",
            "Testing accuracy: 0.686\n",
            "Precision on test data: 0.6875\n",
            "Recall on test data: 0.682\n",
            "f1 score on test data: 0.6847389558232932\n"
          ],
          "name": "stdout"
        }
      ]
    },
    {
      "cell_type": "markdown",
      "metadata": {
        "id": "-fMJC3HT2P7c"
      },
      "source": [
        "## 7. With Bigram, with stemming, with stopwords, with words that appear in <=5 documents removed, with numbers removed"
      ]
    },
    {
      "cell_type": "code",
      "metadata": {
        "id": "NUTzbdzj2kUW"
      },
      "source": [
        "def process_text(review):\n",
        "    review = review.lower()           # convert to lowercase\n",
        "\n",
        "    review = re.sub(\"[^a-zA-Z#]\", \" \", review)    # Replace numbers, characters with space\n",
        "\n",
        "    regex = re.compile('(?u)\\\\b\\\\w\\\\w+\\\\b')       # Break each sentence on the basis of punctuations, white spaces\n",
        "    stemmer = PorterStemmer()\n",
        "    return \" \".join([stemmer.stem(WordNetLemmatizer().lemmatize(token, pos='v')) for token in regex.findall(review)])"
      ],
      "execution_count": null,
      "outputs": []
    },
    {
      "cell_type": "code",
      "metadata": {
        "id": "g5w6ELz22rh4"
      },
      "source": [
        "df_reviews = pd.Series([process_text(review) for review in df_reviews])"
      ],
      "execution_count": null,
      "outputs": []
    },
    {
      "cell_type": "code",
      "metadata": {
        "id": "GMI7HSVU2v8X"
      },
      "source": [
        "X_train, X_test, y_train, y_test = train_test_split(df_reviews, labels, test_size=0.1, random_state=21, stratify=labels)"
      ],
      "execution_count": null,
      "outputs": []
    },
    {
      "cell_type": "code",
      "metadata": {
        "colab": {
          "base_uri": "https://localhost:8080/"
        },
        "id": "0VRw3VJA20gU",
        "outputId": "452b6250-5915-4fb6-e558-bcac715bcd41"
      },
      "source": [
        "X_train.shape, X_test.shape, len(y_train), len(y_test)"
      ],
      "execution_count": null,
      "outputs": [
        {
          "output_type": "execute_result",
          "data": {
            "text/plain": [
              "((9000,), (1000,), 9000, 1000)"
            ]
          },
          "metadata": {
            "tags": []
          },
          "execution_count": 102
        }
      ]
    },
    {
      "cell_type": "code",
      "metadata": {
        "colab": {
          "base_uri": "https://localhost:8080/"
        },
        "id": "FKWBJwuR28io",
        "outputId": "61f29f75-6e14-41b5-b220-c5a367e654e4"
      },
      "source": [
        "bag_of_words_norm, vect = get_feature_vector(X_train, min_df=5, ngram_range=(1,2))"
      ],
      "execution_count": null,
      "outputs": [
        {
          "output_type": "stream",
          "text": [
            "Vocabulary size: 71812\n",
            "Number of features: 71812\n",
            "First 20 features:\n",
            "['aamir', 'aang', 'aaron', 'aaron eckhart', 'aaron johnson', 'aaron sorkin', 'aaron stanford', 'aaron taylor', 'ab', 'aback', 'abandon', 'abandon by', 'abandon the', 'abba', 'abbey', 'abbi', 'abbi cornish', 'abduct', 'abduct and', 'abduct by']\n",
            "Features 20010 to 20030:\n",
            "['event horizon', 'event in', 'event it', 'event lead', 'event occur', 'event of', 'event so', 'event take', 'event that', 'event the', 'event to', 'event unfold', 'event which', 'event would', 'eventu', 'eventu be', 'eventu becom', 'eventu come', 'eventu discov', 'eventu do']\n",
            "Every 2000th feature:\n",
            "['aamir', 'also so', 'and portray', 'ashor', 'be kind', 'bite over', 'can creat', 'colour be', 'dc cinemat', 'don understand', 'event', 'film how', 'fun', 'gush', 'heroic and', 'imagin him', 'it disturb', 'know you', 'love film', 'mind which', 'myself wonder', 'of class', 'one side', 'peopl into', 'properli', 'rest', 'see beauti', 'snippet', 'stori or', 'that connect', 'the lover', 'therefor', 'to fee', 'uncl ben', 'way one', 'with genuin']\n"
          ],
          "name": "stdout"
        }
      ]
    },
    {
      "cell_type": "code",
      "metadata": {
        "colab": {
          "base_uri": "https://localhost:8080/"
        },
        "id": "dODimO2W3MAg",
        "outputId": "cdf4ac8e-fe33-4186-81aa-26553cd2ccfb"
      },
      "source": [
        "bag_of_words_test = vect.transform(X_test)\n",
        "bag_of_words_test_norm = normalize(bag_of_words_test, norm='l2')\n",
        "bag_of_words_test_norm"
      ],
      "execution_count": null,
      "outputs": [
        {
          "output_type": "execute_result",
          "data": {
            "text/plain": [
              "<1000x71812 sparse matrix of type '<class 'numpy.float64'>'\n",
              "\twith 302120 stored elements in Compressed Sparse Row format>"
            ]
          },
          "metadata": {
            "tags": []
          },
          "execution_count": 105
        }
      ]
    },
    {
      "cell_type": "markdown",
      "metadata": {
        "id": "R84IoP3p3YGW"
      },
      "source": [
        "### 7.1 Logistic Regression"
      ]
    },
    {
      "cell_type": "code",
      "metadata": {
        "colab": {
          "base_uri": "https://localhost:8080/",
          "height": 279
        },
        "id": "2gVkz5k53Tal",
        "outputId": "f486e20a-6ae2-4c1d-a9f3-4104a91754da"
      },
      "source": [
        "parameters = {'C': [0.01, 0.03, 0.1, 0.3, 1.0, 3.0, 9.0]}\n",
        "log_reg = LogisticRegression(max_iter=1000)         # Creating an instance of Scikit Learn LogisticRegression class\n",
        "grid_search = tune_parameters(log_reg, bag_of_words_norm, y_train, parameters, verbose=True)"
      ],
      "execution_count": null,
      "outputs": [
        {
          "output_type": "display_data",
          "data": {
            "image/png": "[encoded data removed]",
            "text/plain": [
              "<Figure size 432x288 with 1 Axes>"
            ]
          },
          "metadata": {
            "tags": [],
            "needs_background": "light"
          }
        }
      ]
    },
    {
      "cell_type": "code",
      "metadata": {
        "colab": {
          "base_uri": "https://localhost:8080/"
        },
        "id": "C0N9L74W3blH",
        "outputId": "a9f8dcbc-9712-4ed9-d54f-6ea2392fd4a8"
      },
      "source": [
        "log_reg_best = grid_search.best_estimator_\n",
        "evaluate_model(log_reg_best, bag_of_words_norm, bag_of_words_test_norm, y_train, y_test)"
      ],
      "execution_count": null,
      "outputs": [
        {
          "output_type": "stream",
          "text": [
            "Training accuracy: 0.8043333333333333\n",
            "Testing accuracy: 0.678\n",
            "Precision on test data: 0.6838842975206612\n",
            "Recall on test data: 0.662\n",
            "f1 score on test data: 0.6727642276422764\n"
          ],
          "name": "stdout"
        }
      ]
    },
    {
      "cell_type": "markdown",
      "metadata": {
        "id": "broQW1MB3gMN"
      },
      "source": [
        "### 7.2 SVM with Linear Kernel"
      ]
    },
    {
      "cell_type": "code",
      "metadata": {
        "colab": {
          "base_uri": "https://localhost:8080/",
          "height": 279
        },
        "id": "ibBzg77w3niz",
        "outputId": "dd8baa43-fd7b-4f06-dd7c-4cba96cfd3cd"
      },
      "source": [
        "parameters = {'C': [0.01, 0.03, 0.1, 0.3, 1.0, 3.0, 9.0]}\n",
        "svm = LinearSVC(C=10, loss='hinge', max_iter=10000)\n",
        "grid_search = tune_parameters(svm, bag_of_words_norm, y_train, parameters, verbose=True)"
      ],
      "execution_count": null,
      "outputs": [
        {
          "output_type": "display_data",
          "data": {
            "image/png": "[encoded data removed]",
            "text/plain": [
              "<Figure size 432x288 with 1 Axes>"
            ]
          },
          "metadata": {
            "tags": [],
            "needs_background": "light"
          }
        }
      ]
    },
    {
      "cell_type": "code",
      "metadata": {
        "colab": {
          "base_uri": "https://localhost:8080/"
        },
        "id": "vUogJZMD3uic",
        "outputId": "4efd424c-a41b-44bd-b9d5-22f76d744b51"
      },
      "source": [
        "svm_best = grid_search.best_estimator_\n",
        "evaluate_model(svm_best, bag_of_words_norm, bag_of_words_test_norm, y_train, y_test)"
      ],
      "execution_count": null,
      "outputs": [
        {
          "output_type": "stream",
          "text": [
            "Training accuracy: 0.777\n",
            "Testing accuracy: 0.676\n",
            "Precision on test data: 0.6746031746031746\n",
            "Recall on test data: 0.68\n",
            "f1 score on test data: 0.6772908366533866\n"
          ],
          "name": "stdout"
        }
      ]
    },
    {
      "cell_type": "markdown",
      "metadata": {
        "id": "T_1hdV-bPHcp"
      },
      "source": [
        "# Tf-Idf"
      ]
    },
    {
      "cell_type": "code",
      "metadata": {
        "id": "2tjQ7VEzA6_b"
      },
      "source": [
        "def get_feature_vector_tfidf(X, min_df=0, stop_words=False, ngram_range=(1,1), verbose = True, tokenizer=None, binary=False):\n",
        "  vect_tfidf = TfidfVectorizer(min_df=min_df, stop_words = \"english\" if stop_words else None, ngram_range=ngram_range, tokenizer=tokenizer, binary=binary)\n",
        "  vect_tfidf.fit(X)                                             # Create the vocabulary of words for the given reviews dataset\n",
        "\n",
        "  print(\"Vocabulary size: {}\".format(len(vect_tfidf.vocabulary_)))\n",
        "\n",
        "  if verbose:\n",
        "    feature_names = vect_tfidf.get_feature_names()\n",
        "    print(\"Number of features: {}\".format(len(feature_names)))\n",
        "    print(\"First 20 features:\\n{}\".format(feature_names[:20]))\n",
        "    print(\"Features 20010 to 20030:\\n{}\".format(feature_names[20010:20030]))\n",
        "    print(\"Every 2000th feature:\\n{}\".format(feature_names[::2000]))\n",
        "\n",
        "  tfidf_feature_norm = vect_tfidf.transform(X)               # Transform the reviews into feature vector\n",
        "  # tfidf_feature_norm = normalize(tfidf_feature, norm='l2')  # Normalize the feature vectors obtained\n",
        "\n",
        "  return tfidf_feature_norm, vect_tfidf"
      ],
      "execution_count": null,
      "outputs": []
    },
    {
      "cell_type": "markdown",
      "metadata": {
        "id": "nrGhXFYZ4V05"
      },
      "source": [
        "## 8. With Bigrams, with stopwords, words that appear in <=5 documents removed"
      ]
    },
    {
      "cell_type": "code",
      "metadata": {
        "id": "qNiKl30wCNNB",
        "colab": {
          "base_uri": "https://localhost:8080/"
        },
        "outputId": "f8c3ac36-dce4-486a-e0eb-2163bc0a65ed"
      },
      "source": [
        "tfidf_feature_norm, vect_tfidf = get_feature_vector_tfidf(X_train, ngram_range=(1,2), min_df=5)"
      ],
      "execution_count": null,
      "outputs": [
        {
          "output_type": "stream",
          "text": [
            "Vocabulary size: 78398\n",
            "Number of features: 78398\n",
            "First 20 features:\n",
            "['00', '000', '000 000', '000 and', '000 year', '007', '02', '05', '07', '09', '10', '10 000', '10 10', '10 15', '10 all', '10 also', '10 and', '10 as', '10 at', '10 because']\n",
            "Features 20010 to 20030:\n",
            "['embassy', 'embedded', 'embellished', 'emblem', 'embodied', 'embodies', 'embodies the', 'embodiment', 'embodiment of', 'embrace', 'embrace the', 'embraced', 'embraces', 'embracing', 'embryos', 'emerge', 'emerge and', 'emerge from', 'emerged', 'emerged as']\n",
            "Every 2000th feature:\n",
            "['00', 'aliens are', 'and excellent', 'apparently the', 'backstory and', 'bigelow', 'by stephen', 'classic like', 'cringe worthy', 'director could', 'embark', 'fabric', 'five', 'get worse', 'hans zimmer', 'him anyway', 'importantly', 'is executed', 'job was', 'leper', 'male characters', 'monumental', 'nelson and', 'of gold', 'opinion is', 'perhaps just', 'protocol', 'reported', 'scope', 'simply enjoy', 'stark', 'takes up', 'the continuity', 'the sniper', 'this morning', 'to unleash', 'updating the', 'watch not', 'will appeal', 'you have']\n"
          ],
          "name": "stdout"
        }
      ]
    },
    {
      "cell_type": "code",
      "metadata": {
        "id": "qRdsQvY4Bam_",
        "colab": {
          "base_uri": "https://localhost:8080/"
        },
        "outputId": "a44c6fe2-79de-48e3-b903-79eca91c7f36"
      },
      "source": [
        "tfidf_feature_test_norm = vect_tfidf.transform(X_test)\n",
        "tfidf_feature_test_norm"
      ],
      "execution_count": null,
      "outputs": [
        {
          "output_type": "execute_result",
          "data": {
            "text/plain": [
              "<1000x78398 sparse matrix of type '<class 'numpy.float64'>'\n",
              "\twith 297743 stored elements in Compressed Sparse Row format>"
            ]
          },
          "metadata": {
            "tags": []
          },
          "execution_count": 61
        }
      ]
    },
    {
      "cell_type": "markdown",
      "metadata": {
        "id": "A6VASpqQTpEw"
      },
      "source": [
        "### 8.1 Logistic Regression"
      ]
    },
    {
      "cell_type": "code",
      "metadata": {
        "id": "vfvOxrw3BadT",
        "colab": {
          "base_uri": "https://localhost:8080/",
          "height": 279
        },
        "outputId": "11d7ebcb-2b5f-4bfc-d98e-f3d1e87ce06c"
      },
      "source": [
        "parameters = {'C': [0.01, 0.03, 0.1, 0.3, 1.0, 3.0, 9.0]}\n",
        "log_reg = LogisticRegression(max_iter=1000)         # Creating an instance of Scikit Learn LogisticRegression class\n",
        "grid_search = tune_parameters(log_reg, tfidf_feature_norm, y_train, parameters, verbose=True)"
      ],
      "execution_count": null,
      "outputs": [
        {
          "output_type": "display_data",
          "data": {
            "image/png": "[encoded data removed]",
            "text/plain": [
              "<Figure size 432x288 with 1 Axes>"
            ]
          },
          "metadata": {
            "tags": [],
            "needs_background": "light"
          }
        }
      ]
    },
    {
      "cell_type": "code",
      "metadata": {
        "id": "4Ir5DRUZBaSJ",
        "colab": {
          "base_uri": "https://localhost:8080/"
        },
        "outputId": "4a9a5517-cbe0-4ad0-be3e-0e7218e6d72d"
      },
      "source": [
        "log_reg_best = grid_search.best_estimator_\n",
        "evaluate_model(log_reg_best, tfidf_feature_norm, tfidf_feature_test_norm, y_train, y_test)"
      ],
      "execution_count": null,
      "outputs": [
        {
          "output_type": "stream",
          "text": [
            "Training accuracy: 0.8502222222222222\n",
            "Testing accuracy: 0.674\n",
            "Precision on test data: 0.6933333333333334\n",
            "Recall on test data: 0.624\n",
            "f1 score on test data: 0.6568421052631579\n"
          ],
          "name": "stdout"
        }
      ]
    },
    {
      "cell_type": "markdown",
      "metadata": {
        "id": "RWDuu2y2TzR9"
      },
      "source": [
        "### 8.2 SVM with Linear Kernel"
      ]
    },
    {
      "cell_type": "code",
      "metadata": {
        "colab": {
          "base_uri": "https://localhost:8080/",
          "height": 279
        },
        "id": "WTq9FTZVTy4R",
        "outputId": "e4bea491-602c-42ef-f9d2-03394fd7a4f7"
      },
      "source": [
        "parameters = {'C': [0.01, 0.03, 0.1, 0.3, 1.0, 3.0, 9.0]}\n",
        "svm = LinearSVC(C=10, loss='hinge', max_iter=10000)\n",
        "grid_search = tune_parameters(svm, tfidf_feature_norm, y_train, parameters, verbose=True)"
      ],
      "execution_count": null,
      "outputs": [
        {
          "output_type": "display_data",
          "data": {
            "image/png": "[encoded data removed]",
            "text/plain": [
              "<Figure size 432x288 with 1 Axes>"
            ]
          },
          "metadata": {
            "tags": [],
            "needs_background": "light"
          }
        }
      ]
    },
    {
      "cell_type": "code",
      "metadata": {
        "id": "DDCCBt2lBaDp",
        "colab": {
          "base_uri": "https://localhost:8080/"
        },
        "outputId": "165399e3-d4e6-481d-9363-8300970e0b05"
      },
      "source": [
        "svm_best = grid_search.best_estimator_\n",
        "evaluate_model(svm_best, tfidf_feature_norm, tfidf_feature_test_norm, y_train, y_test)"
      ],
      "execution_count": null,
      "outputs": [
        {
          "output_type": "stream",
          "text": [
            "Training accuracy: 0.7922222222222223\n",
            "Testing accuracy: 0.68\n",
            "Precision on test data: 0.7093023255813954\n",
            "Recall on test data: 0.61\n",
            "f1 score on test data: 0.6559139784946236\n"
          ],
          "name": "stdout"
        }
      ]
    },
    {
      "cell_type": "code",
      "metadata": {
        "id": "QG6wM0sUBZte",
        "colab": {
          "base_uri": "https://localhost:8080/"
        },
        "outputId": "a14e9a87-9e2d-4951-a742-9b10f0ce901e"
      },
      "source": [
        "grid_search.best_params_"
      ],
      "execution_count": null,
      "outputs": [
        {
          "output_type": "execute_result",
          "data": {
            "text/plain": [
              "{'C': 0.3}"
            ]
          },
          "metadata": {
            "tags": []
          },
          "execution_count": 42
        }
      ]
    },
    {
      "cell_type": "code",
      "metadata": {
        "colab": {
          "base_uri": "https://localhost:8080/"
        },
        "id": "xERTQ4GheBLg",
        "outputId": "3c15751e-6276-4d28-97b4-8e837b1c1a06"
      },
      "source": [
        "svm = LinearSVC(C=0.38125, loss='hinge', max_iter=10000)\n",
        "svm.fit(tfidf_feature_norm, y_train)"
      ],
      "execution_count": null,
      "outputs": [
        {
          "output_type": "execute_result",
          "data": {
            "text/plain": [
              "LinearSVC(C=0.38125, class_weight=None, dual=True, fit_intercept=True,\n",
              "          intercept_scaling=1, loss='hinge', max_iter=10000, multi_class='ovr',\n",
              "          penalty='l2', random_state=None, tol=0.0001, verbose=0)"
            ]
          },
          "metadata": {
            "tags": []
          },
          "execution_count": 77
        }
      ]
    },
    {
      "cell_type": "code",
      "metadata": {
        "colab": {
          "base_uri": "https://localhost:8080/"
        },
        "id": "3hEy-bMzeOcm",
        "outputId": "96859514-6d13-42b3-a824-9984f58036a6"
      },
      "source": [
        "evaluate_model(svm, tfidf_feature_norm, tfidf_feature_test_norm, y_train, y_test)"
      ],
      "execution_count": null,
      "outputs": [
        {
          "output_type": "stream",
          "text": [
            "Training accuracy: 0.8194444444444444\n",
            "Testing accuracy: 0.684\n",
            "Precision on test data: 0.7081447963800905\n",
            "Recall on test data: 0.626\n",
            "f1 score on test data: 0.664543524416136\n"
          ],
          "name": "stdout"
        }
      ]
    },
    {
      "cell_type": "markdown",
      "metadata": {
        "id": "pgy50Dnj5HxT"
      },
      "source": [
        "### 8.3 SVM with Gaussian Kernel"
      ]
    },
    {
      "cell_type": "code",
      "metadata": {
        "id": "CH-Unuv4jh8H"
      },
      "source": [
        "parameters = {'C': [0.01, 0.1, 1.0, 10], 'gamma' : [1, 3, 10]}\n",
        "svm = SVC(kernel=\"rbf\")\n",
        "grid_search = tune_parameters(svm,  tfidf_feature_norm, y_train, parameters, cv=ss)"
      ],
      "execution_count": null,
      "outputs": []
    },
    {
      "cell_type": "code",
      "metadata": {
        "colab": {
          "base_uri": "https://localhost:8080/"
        },
        "id": "B9nSrsE5ygBR",
        "outputId": "10536bf5-dd67-48c8-9a21-99985d70066c"
      },
      "source": [
        "grid_search.best_params_"
      ],
      "execution_count": null,
      "outputs": [
        {
          "output_type": "execute_result",
          "data": {
            "text/plain": [
              "{'C': 1.0, 'gamma': 1}"
            ]
          },
          "metadata": {
            "tags": []
          },
          "execution_count": 88
        }
      ]
    },
    {
      "cell_type": "code",
      "metadata": {
        "colab": {
          "base_uri": "https://localhost:8080/"
        },
        "id": "8hY8uemufK6A",
        "outputId": "99ce3266-13cb-4e6a-ccc0-4a22ad9f7b5f"
      },
      "source": [
        "svm = SVC(kernel='rbf', gamma=1, C=1)\n",
        "svm.fit(tfidf_feature_norm, y_train)"
      ],
      "execution_count": null,
      "outputs": [
        {
          "output_type": "execute_result",
          "data": {
            "text/plain": [
              "SVC(C=1, break_ties=False, cache_size=200, class_weight=None, coef0=0.0,\n",
              "    decision_function_shape='ovr', degree=3, gamma=1, kernel='rbf', max_iter=-1,\n",
              "    probability=False, random_state=None, shrinking=True, tol=0.001,\n",
              "    verbose=False)"
            ]
          },
          "metadata": {
            "tags": []
          },
          "execution_count": 80
        }
      ]
    },
    {
      "cell_type": "code",
      "metadata": {
        "colab": {
          "base_uri": "https://localhost:8080/"
        },
        "id": "wC6_9zpPhuLx",
        "outputId": "0116af94-c112-45e5-98d9-21a8ff6d9eac"
      },
      "source": [
        "evaluate_model(svm, tfidf_feature_norm, tfidf_feature_test_norm, y_train, y_test)"
      ],
      "execution_count": null,
      "outputs": [
        {
          "output_type": "stream",
          "text": [
            "Training accuracy: 0.984\n",
            "Testing accuracy: 0.678\n",
            "Precision on test data: 0.7004504504504504\n",
            "Recall on test data: 0.622\n",
            "f1 score on test data: 0.6588983050847457\n"
          ],
          "name": "stdout"
        }
      ]
    },
    {
      "cell_type": "markdown",
      "metadata": {
        "id": "2pvQxRGXZycD"
      },
      "source": [
        "Remove stopwords\n",
        "Unigram\n",
        "Stemming/Lemmatization\n",
        "Numbers removed"
      ]
    },
    {
      "cell_type": "code",
      "metadata": {
        "id": "4qk5kYWtZrt6"
      },
      "source": [
        "def process_text(review):\n",
        "    review = review.lower()           # convert to lowercase\n",
        "\n",
        "    review = re.sub(\"[^a-zA-Z#]\", \" \", review)    # Replace numbers, characters with space\n",
        "\n",
        "    regex = re.compile('(?u)\\\\b\\\\w\\\\w+\\\\b')       # Break each sentence on the basis of punctuations, white spaces\n",
        "    stemmer = PorterStemmer()\n",
        "    return \" \".join([stemmer.stem(WordNetLemmatizer().lemmatize(token, pos='v')) for token in regex.findall(review)])"
      ],
      "execution_count": null,
      "outputs": []
    },
    {
      "cell_type": "code",
      "metadata": {
        "id": "evxNo0V1Zrom"
      },
      "source": [
        "df_reviews = pd.Series([process_text(review) for review in df_reviews])"
      ],
      "execution_count": null,
      "outputs": []
    },
    {
      "cell_type": "code",
      "metadata": {
        "id": "G1alAC5xZrjb"
      },
      "source": [
        "X_train, X_test, y_train, y_test = train_test_split(df_reviews, labels, test_size=0.1, random_state=21, stratify=labels)"
      ],
      "execution_count": null,
      "outputs": []
    },
    {
      "cell_type": "code",
      "metadata": {
        "colab": {
          "base_uri": "https://localhost:8080/"
        },
        "id": "l1ou99iGZrdy",
        "outputId": "ee289f9a-06e0-45d9-93fe-b9fb7aa4e1b9"
      },
      "source": [
        "X_train.shape, X_test.shape, len(y_train), len(y_test)"
      ],
      "execution_count": null,
      "outputs": [
        {
          "output_type": "execute_result",
          "data": {
            "text/plain": [
              "((9000,), (1000,), 9000, 1000)"
            ]
          },
          "metadata": {
            "tags": []
          },
          "execution_count": 49
        }
      ]
    },
    {
      "cell_type": "code",
      "metadata": {
        "colab": {
          "base_uri": "https://localhost:8080/"
        },
        "id": "3-n1il0eZrZL",
        "outputId": "5bf2dd2d-cd53-4488-bfb4-38ec7701d9d0"
      },
      "source": [
        "tfidf_feature_norm, vect_tfidf = get_feature_vector_tfidf(X_train, stop_words=True)"
      ],
      "execution_count": null,
      "outputs": [
        {
          "output_type": "stream",
          "text": [
            "Vocabulary size: 30667\n",
            "Number of features: 30667\n",
            "First 20 features:\n",
            "['aa', 'aaaaaaaaaaaaaagh', 'aaaahhhh', 'aaaalll', 'aaah', 'aaand', 'aachoo', 'aafv', 'aahhh', 'aal', 'aam', 'aamir', 'aang', 'aapn', 'aardvark', 'aaron', 'aaronofski', 'ab', 'aback', 'abacu']\n",
            "Features 20010 to 20030:\n",
            "['perenni', 'perez', 'perfect', 'perfecti', 'perfection', 'perfectionist', 'perfectli', 'perfectth', 'perfidi', 'perfom', 'perfor', 'perforc', 'perform', 'performac', 'performancesth', 'performancewhat', 'perfum', 'perfumeri', 'perfumi', 'perfunctori']\n",
            "Every 2000th feature:\n",
            "['aa', 'barbra', 'carnal', 'cruis', 'ecosystem', 'frasier', 'heavili', 'jigokumon', 'lunesta', 'myriad', 'perci', 'refigur', 'shakila', 'subconsci', 'tyranni', 'winni']\n"
          ],
          "name": "stdout"
        }
      ]
    },
    {
      "cell_type": "code",
      "metadata": {
        "colab": {
          "base_uri": "https://localhost:8080/"
        },
        "id": "0Ra8z3zbb6_L",
        "outputId": "c0244732-5068-4c1a-d4a8-02d7d04f0c46"
      },
      "source": [
        "tfidf_feature_test_norm = vect_tfidf.transform(X_test)\n",
        "tfidf_feature_test_norm"
      ],
      "execution_count": null,
      "outputs": [
        {
          "output_type": "execute_result",
          "data": {
            "text/plain": [
              "<1000x30667 sparse matrix of type '<class 'numpy.float64'>'\n",
              "\twith 98197 stored elements in Compressed Sparse Row format>"
            ]
          },
          "metadata": {
            "tags": []
          },
          "execution_count": 51
        }
      ]
    },
    {
      "cell_type": "code",
      "metadata": {
        "colab": {
          "base_uri": "https://localhost:8080/",
          "height": 279
        },
        "id": "FWv4Q-EPb6uc",
        "outputId": "e115db59-4d8b-4773-fd6b-12da9bf760d3"
      },
      "source": [
        "parameters = {'C': [0.01, 0.03, 0.1, 0.3, 1.0, 3.0, 9.0]}\n",
        "svm = LinearSVC(C=10, loss='hinge', max_iter=10000)\n",
        "grid_search = tune_parameters(svm, tfidf_feature_norm, y_train, parameters, verbose=True)"
      ],
      "execution_count": null,
      "outputs": [
        {
          "output_type": "display_data",
          "data": {
            "image/png": "[encoded data removed]",
            "text/plain": [
              "<Figure size 432x288 with 1 Axes>"
            ]
          },
          "metadata": {
            "tags": [],
            "needs_background": "light"
          }
        }
      ]
    },
    {
      "cell_type": "code",
      "metadata": {
        "colab": {
          "base_uri": "https://localhost:8080/"
        },
        "id": "lfiha7Lpb6oT",
        "outputId": "f53d50a2-d03c-4141-8f8f-0f5e8304f892"
      },
      "source": [
        "svm_best = grid_search.best_estimator_\n",
        "evaluate_model(svm_best, tfidf_feature_norm, tfidf_feature_test_norm, y_train, y_test)"
      ],
      "execution_count": null,
      "outputs": [
        {
          "output_type": "stream",
          "text": [
            "Training accuracy: 0.781\n",
            "Testing accuracy: 0.667\n",
            "Precision on test data: 0.681917211328976\n",
            "Recall on test data: 0.626\n",
            "f1 score on test data: 0.6527632950990616\n"
          ],
          "name": "stdout"
        }
      ]
    },
    {
      "cell_type": "code",
      "metadata": {
        "colab": {
          "base_uri": "https://localhost:8080/"
        },
        "id": "YyzEFaEkb6bG",
        "outputId": "eba0a611-f9c4-4b7c-f958-591234ad39cb"
      },
      "source": [
        "svm = SVC(kernel=\"linear\", gamma='auto', C=1)\n",
        "svm.fit(tfidf_feature_norm, y_train)"
      ],
      "execution_count": null,
      "outputs": [
        {
          "output_type": "execute_result",
          "data": {
            "text/plain": [
              "SVC(C=1, break_ties=False, cache_size=200, class_weight=None, coef0=0.0,\n",
              "    decision_function_shape='ovr', degree=3, gamma='auto', kernel='linear',\n",
              "    max_iter=-1, probability=False, random_state=None, shrinking=True,\n",
              "    tol=0.001, verbose=False)"
            ]
          },
          "metadata": {
            "tags": []
          },
          "execution_count": 54
        }
      ]
    },
    {
      "cell_type": "code",
      "metadata": {
        "colab": {
          "base_uri": "https://localhost:8080/"
        },
        "id": "ovUVceMVcUwz",
        "outputId": "d4d4df01-3979-48ac-ca4f-142ac0c2324a"
      },
      "source": [
        "evaluate_model(svm, tfidf_feature_norm, tfidf_feature_test_norm, y_train, y_test)"
      ],
      "execution_count": null,
      "outputs": [
        {
          "output_type": "stream",
          "text": [
            "Training accuracy: 0.865\n",
            "Testing accuracy: 0.661\n",
            "Precision on test data: 0.6680584551148225\n",
            "Recall on test data: 0.64\n",
            "f1 score on test data: 0.6537282941777324\n"
          ],
          "name": "stdout"
        }
      ]
    },
    {
      "cell_type": "code",
      "metadata": {
        "id": "YT5zn9aAcUrO"
      },
      "source": [
        ""
      ],
      "execution_count": null,
      "outputs": []
    },
    {
      "cell_type": "code",
      "metadata": {
        "id": "LjqbsSkrcUlV"
      },
      "source": [
        ""
      ],
      "execution_count": null,
      "outputs": []
    },
    {
      "cell_type": "code",
      "metadata": {
        "id": "z0xHDrU9cUeu"
      },
      "source": [
        ""
      ],
      "execution_count": null,
      "outputs": []
    },
    {
      "cell_type": "code",
      "metadata": {
        "id": "0a8hCRPLcUVg"
      },
      "source": [
        ""
      ],
      "execution_count": null,
      "outputs": []
    },
    {
      "cell_type": "code",
      "metadata": {
        "id": "qa-rVWjYZrVl"
      },
      "source": [
        ""
      ],
      "execution_count": null,
      "outputs": []
    },
    {
      "cell_type": "markdown",
      "metadata": {
        "id": "imZNiE5agoec"
      },
      "source": [
        "# Rough"
      ]
    },
    {
      "cell_type": "code",
      "metadata": {
        "id": "4Jo-otNUmb4p"
      },
      "source": [
        "def process_text(review):\n",
        "    review = review.lower()           # convert to lowercase\n",
        "\n",
        "    review = re.sub(\"[^a-zA-Z#]\", \" \", review)    # Replace numbers, characters with space\n",
        "\n",
        "    regex = re.compile('(?u)\\\\b\\\\w\\\\w+\\\\b')       # Break each sentence on the basis of punctuations, white spaces\n",
        "    stemmer = PorterStemmer()\n",
        "    return \" \".join([stemmer.stem(WordNetLemmatizer().lemmatize(token, pos='v')) for token in regex.findall(review)])"
      ],
      "execution_count": null,
      "outputs": []
    },
    {
      "cell_type": "code",
      "metadata": {
        "id": "y6VSgZnJvU4x"
      },
      "source": [
        "df_reviews = pd.Series([process_text(review) for review in df_reviews])"
      ],
      "execution_count": null,
      "outputs": []
    },
    {
      "cell_type": "code",
      "metadata": {
        "id": "5QNw8GCUwg4k"
      },
      "source": [
        "df_reviews.reset_index(drop=True, inplace=True)"
      ],
      "execution_count": null,
      "outputs": []
    },
    {
      "cell_type": "code",
      "metadata": {
        "id": "NKDiifnAxfR8"
      },
      "source": [
        "X_train, X_test, y_train, y_test = train_test_split(df_reviews, labels, test_size=0.1, random_state=21, stratify=labels)"
      ],
      "execution_count": null,
      "outputs": []
    },
    {
      "cell_type": "code",
      "metadata": {
        "colab": {
          "base_uri": "https://localhost:8080/"
        },
        "id": "wptpA0hRx00d",
        "outputId": "3bc961ea-4c9c-467d-f14a-f9f89a26fcec"
      },
      "source": [
        "X_train.index"
      ],
      "execution_count": null,
      "outputs": [
        {
          "output_type": "execute_result",
          "data": {
            "text/plain": [
              "Int64Index([1276, 9284, 5946, 1395, 6367, 4582, 6695, 6030, 9444, 8193,\n",
              "            ...\n",
              "            5684, 4476, 8264, 7860,  431, 4973, 3832, 4113, 4723, 8882],\n",
              "           dtype='int64', length=9000)"
            ]
          },
          "metadata": {
            "tags": []
          },
          "execution_count": 210
        }
      ]
    },
    {
      "cell_type": "code",
      "metadata": {
        "id": "FNkjnsaiya16"
      },
      "source": [
        "X_train_in = X_train.reset_index(drop=True)"
      ],
      "execution_count": null,
      "outputs": []
    },
    {
      "cell_type": "code",
      "metadata": {
        "id": "aFP-iXzIx70k"
      },
      "source": [
        "reviews = pd.DataFrame({'review_text': X_train_in, 'labels': y_train})"
      ],
      "execution_count": null,
      "outputs": []
    },
    {
      "cell_type": "code",
      "metadata": {
        "colab": {
          "base_uri": "https://localhost:8080/",
          "height": 402
        },
        "id": "kfIiS0_k0y8J",
        "outputId": "d981e1ae-90eb-465a-ce85-df5797d10e05"
      },
      "source": [
        "reviews"
      ],
      "execution_count": null,
      "outputs": [
        {
          "output_type": "execute_result",
          "data": {
            "text/html": [
              "<div>\n",
              "<style scoped>\n",
              "    .dataframe tbody tr th:only-of-type {\n",
              "        vertical-align: middle;\n",
              "    }\n",
              "\n",
              "    .dataframe tbody tr th {\n",
              "        vertical-align: top;\n",
              "    }\n",
              "\n",
              "    .dataframe thead th {\n",
              "        text-align: right;\n",
              "    }\n",
              "</style>\n",
              "<table border=\"1\" class=\"dataframe\">\n",
              "  <thead>\n",
              "    <tr style=\"text-align: right;\">\n",
              "      <th></th>\n",
              "      <th>review_text</th>\n",
              "      <th>labels</th>\n",
              "    </tr>\n",
              "  </thead>\n",
              "  <tbody>\n",
              "    <tr>\n",
              "      <th>0</th>\n",
              "      <td>possibl spoilersth whole movi be great until a...</td>\n",
              "      <td>1</td>\n",
              "    </tr>\n",
              "    <tr>\n",
              "      <th>1</th>\n",
              "      <td>let me start by say thi that have be one of th...</td>\n",
              "      <td>0</td>\n",
              "    </tr>\n",
              "    <tr>\n",
              "      <th>2</th>\n",
              "      <td>just don know be energ by all the hype for thi...</td>\n",
              "      <td>0</td>\n",
              "    </tr>\n",
              "    <tr>\n",
              "      <th>3</th>\n",
              "      <td>dare to say thi be the worst movi ve ever see ...</td>\n",
              "      <td>1</td>\n",
              "    </tr>\n",
              "    <tr>\n",
              "      <th>4</th>\n",
              "      <td>the th wave be american scienc fiction thrille...</td>\n",
              "      <td>0</td>\n",
              "    </tr>\n",
              "    <tr>\n",
              "      <th>...</th>\n",
              "      <td>...</td>\n",
              "      <td>...</td>\n",
              "    </tr>\n",
              "    <tr>\n",
              "      <th>8995</th>\n",
              "      <td>those that have not yet see room have not see ...</td>\n",
              "      <td>1</td>\n",
              "    </tr>\n",
              "    <tr>\n",
              "      <th>8996</th>\n",
              "      <td>the film have some great comed actor in it inc...</td>\n",
              "      <td>1</td>\n",
              "    </tr>\n",
              "    <tr>\n",
              "      <th>8997</th>\n",
              "      <td>from someon who have watch both film find thi ...</td>\n",
              "      <td>1</td>\n",
              "    </tr>\n",
              "    <tr>\n",
              "      <th>8998</th>\n",
              "      <td>tri not to be bia when stand in my local video...</td>\n",
              "      <td>1</td>\n",
              "    </tr>\n",
              "    <tr>\n",
              "      <th>8999</th>\n",
              "      <td>ve never be big fan of bond and haven bother w...</td>\n",
              "      <td>0</td>\n",
              "    </tr>\n",
              "  </tbody>\n",
              "</table>\n",
              "<p>9000 rows × 2 columns</p>\n",
              "</div>"
            ],
            "text/plain": [
              "                                            review_text  labels\n",
              "0     possibl spoilersth whole movi be great until a...       1\n",
              "1     let me start by say thi that have be one of th...       0\n",
              "2     just don know be energ by all the hype for thi...       0\n",
              "3     dare to say thi be the worst movi ve ever see ...       1\n",
              "4     the th wave be american scienc fiction thrille...       0\n",
              "...                                                 ...     ...\n",
              "8995  those that have not yet see room have not see ...       1\n",
              "8996  the film have some great comed actor in it inc...       1\n",
              "8997  from someon who have watch both film find thi ...       1\n",
              "8998  tri not to be bia when stand in my local video...       1\n",
              "8999  ve never be big fan of bond and haven bother w...       0\n",
              "\n",
              "[9000 rows x 2 columns]"
            ]
          },
          "metadata": {
            "tags": []
          },
          "execution_count": 215
        }
      ]
    },
    {
      "cell_type": "code",
      "metadata": {
        "colab": {
          "base_uri": "https://localhost:8080/"
        },
        "id": "X7Rzt-rMyoxO",
        "outputId": "8bd4870c-0463-45ff-c078-f00218c9d3b8"
      },
      "source": [
        "vect = CountVectorizer(stop_words=\"english\", binary=True)\n",
        "vect.fit(reviews[reviews['labels']==1]['review_text'])"
      ],
      "execution_count": null,
      "outputs": [
        {
          "output_type": "execute_result",
          "data": {
            "text/plain": [
              "CountVectorizer(analyzer='word', binary=True, decode_error='strict',\n",
              "                dtype=<class 'numpy.int64'>, encoding='utf-8', input='content',\n",
              "                lowercase=True, max_df=1.0, max_features=None, min_df=1,\n",
              "                ngram_range=(1, 1), preprocessor=None, stop_words='english',\n",
              "                strip_accents=None, token_pattern='(?u)\\\\b\\\\w\\\\w+\\\\b',\n",
              "                tokenizer=None, vocabulary=None)"
            ]
          },
          "metadata": {
            "tags": []
          },
          "execution_count": 218
        }
      ]
    },
    {
      "cell_type": "code",
      "metadata": {
        "id": "1JKC3V48z8nv"
      },
      "source": [
        "bag_of_words_spoiler = vect.transform(reviews[reviews['labels']==1]['review_text'])\n",
        "freq_spoiler = bag_of_words_spoiler.sum(axis=0) "
      ],
      "execution_count": null,
      "outputs": []
    },
    {
      "cell_type": "code",
      "metadata": {
        "colab": {
          "base_uri": "https://localhost:8080/"
        },
        "id": "CcEnEIXV1OwM",
        "outputId": "46a6f0d9-a57b-4054-874b-a0ba700c267e"
      },
      "source": [
        "bag_of_words_spoiler"
      ],
      "execution_count": null,
      "outputs": [
        {
          "output_type": "execute_result",
          "data": {
            "text/plain": [
              "<4500x25017 sparse matrix of type '<class 'numpy.int64'>'\n",
              "\twith 540150 stored elements in Compressed Sparse Row format>"
            ]
          },
          "metadata": {
            "tags": []
          },
          "execution_count": 220
        }
      ]
    },
    {
      "cell_type": "code",
      "metadata": {
        "colab": {
          "base_uri": "https://localhost:8080/"
        },
        "id": "4tGhZXW81L9_",
        "outputId": "ff0151b9-b0b6-4872-b8c8-adf6933243cc"
      },
      "source": [
        "freq_spoiler.shape"
      ],
      "execution_count": null,
      "outputs": [
        {
          "output_type": "execute_result",
          "data": {
            "text/plain": [
              "(1, 25017)"
            ]
          },
          "metadata": {
            "tags": []
          },
          "execution_count": 221
        }
      ]
    },
    {
      "cell_type": "code",
      "metadata": {
        "id": "2ValJBtz1k9n"
      },
      "source": [
        "freq_spoiler = np.ravel(freq_spoiler)"
      ],
      "execution_count": null,
      "outputs": []
    },
    {
      "cell_type": "code",
      "metadata": {
        "colab": {
          "base_uri": "https://localhost:8080/"
        },
        "id": "Wa5MhE7D4PGB",
        "outputId": "a2a97f00-6c28-4567-9e68-f19745d3ce35"
      },
      "source": [
        "freq_spoiler.shape"
      ],
      "execution_count": null,
      "outputs": [
        {
          "output_type": "execute_result",
          "data": {
            "text/plain": [
              "(25017,)"
            ]
          },
          "metadata": {
            "tags": []
          },
          "execution_count": 224
        }
      ]
    },
    {
      "cell_type": "code",
      "metadata": {
        "colab": {
          "base_uri": "https://localhost:8080/"
        },
        "id": "7Z2_RljA9V9b",
        "outputId": "725af1b2-fb8d-497a-a1fb-b2c0337e87e9"
      },
      "source": [
        "freq_spoiler"
      ],
      "execution_count": null,
      "outputs": [
        {
          "output_type": "execute_result",
          "data": {
            "text/plain": [
              "array([2, 1, 1, ..., 1, 1, 1], dtype=int64)"
            ]
          },
          "metadata": {
            "tags": []
          },
          "execution_count": 230
        }
      ]
    },
    {
      "cell_type": "code",
      "metadata": {
        "colab": {
          "base_uri": "https://localhost:8080/"
        },
        "id": "lcFgNkRMOZy5",
        "outputId": "2a79e646-8b64-40fb-ff3e-2e4266975192"
      },
      "source": [
        "freq_spoiler.sum()"
      ],
      "execution_count": null,
      "outputs": [
        {
          "output_type": "execute_result",
          "data": {
            "text/plain": [
              "540150"
            ]
          },
          "metadata": {
            "tags": []
          },
          "execution_count": 283
        }
      ]
    },
    {
      "cell_type": "code",
      "metadata": {
        "id": "FUpT5nQaOgNj"
      },
      "source": [
        "freq_spoiler_norm = freq_spoiler/np.linalg.norm(freq_spoiler)"
      ],
      "execution_count": null,
      "outputs": []
    },
    {
      "cell_type": "code",
      "metadata": {
        "colab": {
          "base_uri": "https://localhost:8080/"
        },
        "id": "BXimqkyoOqoa",
        "outputId": "a9766fd5-a1b4-4c12-e900-7c87cf711d74"
      },
      "source": [
        "freq_spoiler_norm.sum()"
      ],
      "execution_count": null,
      "outputs": [
        {
          "output_type": "execute_result",
          "data": {
            "text/plain": [
              "32.41990911184031"
            ]
          },
          "metadata": {
            "tags": []
          },
          "execution_count": 285
        }
      ]
    },
    {
      "cell_type": "code",
      "metadata": {
        "id": "ixMMBaSk4Xa_"
      },
      "source": [
        "bag_of_words_non_spoiler = vect.transform(reviews[reviews['labels']==0]['review_text'])\n",
        "freq_non_spoiler = bag_of_words_non_spoiler.sum(axis=0)"
      ],
      "execution_count": null,
      "outputs": []
    },
    {
      "cell_type": "code",
      "metadata": {
        "colab": {
          "base_uri": "https://localhost:8080/"
        },
        "id": "dP61zGgy8Ztk",
        "outputId": "14d6badb-6448-479a-b7f3-bab6c93f2673"
      },
      "source": [
        "bag_of_words_non_spoiler"
      ],
      "execution_count": null,
      "outputs": [
        {
          "output_type": "execute_result",
          "data": {
            "text/plain": [
              "<4500x25017 sparse matrix of type '<class 'numpy.int64'>'\n",
              "\twith 383643 stored elements in Compressed Sparse Row format>"
            ]
          },
          "metadata": {
            "tags": []
          },
          "execution_count": 226
        }
      ]
    },
    {
      "cell_type": "code",
      "metadata": {
        "colab": {
          "base_uri": "https://localhost:8080/"
        },
        "id": "T-MdNcGI8cGN",
        "outputId": "0c6480f2-019a-445a-bf72-93e2df253dda"
      },
      "source": [
        "freq_non_spoiler.shape"
      ],
      "execution_count": null,
      "outputs": [
        {
          "output_type": "execute_result",
          "data": {
            "text/plain": [
              "(1, 25017)"
            ]
          },
          "metadata": {
            "tags": []
          },
          "execution_count": 227
        }
      ]
    },
    {
      "cell_type": "code",
      "metadata": {
        "colab": {
          "base_uri": "https://localhost:8080/"
        },
        "id": "LAa_qd2d8iJZ",
        "outputId": "31bd97cc-31a8-4098-fc11-4daeff9701c8"
      },
      "source": [
        "freq_non_spoiler = np.ravel(freq_non_spoiler)\n",
        "freq_non_spoiler.shape"
      ],
      "execution_count": null,
      "outputs": [
        {
          "output_type": "execute_result",
          "data": {
            "text/plain": [
              "(25017,)"
            ]
          },
          "metadata": {
            "tags": []
          },
          "execution_count": 228
        }
      ]
    },
    {
      "cell_type": "code",
      "metadata": {
        "colab": {
          "base_uri": "https://localhost:8080/"
        },
        "id": "2AZsT-GgNCmn",
        "outputId": "134c3680-3704-4b01-e453-d80c82aef8f7"
      },
      "source": [
        "freq_non_spoiler.sum()"
      ],
      "execution_count": null,
      "outputs": [
        {
          "output_type": "execute_result",
          "data": {
            "text/plain": [
              "383643"
            ]
          },
          "metadata": {
            "tags": []
          },
          "execution_count": 280
        }
      ]
    },
    {
      "cell_type": "code",
      "metadata": {
        "id": "G3ETuPiJM63E"
      },
      "source": [
        "freq_non_spoiler_norm = freq_non_spoiler/np.linalg.norm(freq_non_spoiler)"
      ],
      "execution_count": null,
      "outputs": []
    },
    {
      "cell_type": "code",
      "metadata": {
        "colab": {
          "base_uri": "https://localhost:8080/"
        },
        "id": "ikfc_9dmOQ37",
        "outputId": "7519a3d2-4491-4e4d-83aa-bf0b91b4a021"
      },
      "source": [
        "freq_non_spoiler_norm.sum()"
      ],
      "execution_count": null,
      "outputs": [
        {
          "output_type": "execute_result",
          "data": {
            "text/plain": [
              "28.673400345670462"
            ]
          },
          "metadata": {
            "tags": []
          },
          "execution_count": 282
        }
      ]
    },
    {
      "cell_type": "code",
      "metadata": {
        "colab": {
          "base_uri": "https://localhost:8080/"
        },
        "id": "ZAZcEnI99Z79",
        "outputId": "286be8b4-348a-4f51-9f3d-cb486bfed86b"
      },
      "source": [
        "freq_non_spoiler"
      ],
      "execution_count": null,
      "outputs": [
        {
          "output_type": "execute_result",
          "data": {
            "text/plain": [
              "array([1, 0, 0, ..., 0, 0, 0], dtype=int64)"
            ]
          },
          "metadata": {
            "tags": []
          },
          "execution_count": 231
        }
      ]
    },
    {
      "cell_type": "code",
      "metadata": {
        "colab": {
          "base_uri": "https://localhost:8080/"
        },
        "id": "CmSnpd4V87D9",
        "outputId": "acc57dbc-4cb6-46e7-fe2d-2181e6a24891"
      },
      "source": [
        "np.abs(freq_spoiler - freq_non_spoiler).max()"
      ],
      "execution_count": null,
      "outputs": [
        {
          "output_type": "execute_result",
          "data": {
            "text/plain": [
              "744"
            ]
          },
          "metadata": {
            "tags": []
          },
          "execution_count": 233
        }
      ]
    },
    {
      "cell_type": "code",
      "metadata": {
        "colab": {
          "base_uri": "https://localhost:8080/",
          "height": 690
        },
        "id": "jW0tZkr59Sld",
        "outputId": "2246dd72-58f4-44b9-d89d-043397261e4c"
      },
      "source": [
        "plt.figure(figsize=(25,12))\n",
        "plt.plot(np.abs(freq_spoiler - freq_non_spoiler))\n",
        "plt.show()"
      ],
      "execution_count": null,
      "outputs": [
        {
          "output_type": "display_data",
          "data": {
            "image/png": "[encoded data removed]",
            "text/plain": [
              "<Figure size 1800x864 with 1 Axes>"
            ]
          },
          "metadata": {
            "tags": [],
            "needs_background": "light"
          }
        }
      ]
    },
    {
      "cell_type": "code",
      "metadata": {
        "colab": {
          "base_uri": "https://localhost:8080/",
          "height": 689
        },
        "id": "UmZif-AcPtej",
        "outputId": "6eecb37c-72fc-4faa-af81-e28c8fc392fd"
      },
      "source": [
        "plt.figure(figsize=(25,12))\n",
        "plt.plot(np.abs(freq_spoiler_norm - freq_non_spoiler_norm))\n",
        "plt.show()"
      ],
      "execution_count": null,
      "outputs": [
        {
          "output_type": "display_data",
          "data": {
            "image/png": "[encoded data removed]",
            "text/plain": [
              "<Figure size 1800x864 with 1 Axes>"
            ]
          },
          "metadata": {
            "tags": [],
            "needs_background": "light"
          }
        }
      ]
    },
    {
      "cell_type": "code",
      "metadata": {
        "colab": {
          "base_uri": "https://localhost:8080/"
        },
        "id": "xgxN5XDA956m",
        "outputId": "f4bd4ad1-0e47-4bce-d317-ce38aa93ce3b"
      },
      "source": [
        "(np.abs(freq_spoiler - freq_non_spoiler) > 100).sum()"
      ],
      "execution_count": null,
      "outputs": [
        {
          "output_type": "execute_result",
          "data": {
            "text/plain": [
              "271"
            ]
          },
          "metadata": {
            "tags": []
          },
          "execution_count": 242
        }
      ]
    },
    {
      "cell_type": "code",
      "metadata": {
        "colab": {
          "base_uri": "https://localhost:8080/"
        },
        "id": "0ARVfMk3ArTZ",
        "outputId": "ea8f5cdb-1edb-4f6d-9614-7b164a20aaa6"
      },
      "source": [
        "np.where(np.abs(freq_spoiler - freq_non_spoiler) > 100)"
      ],
      "execution_count": null,
      "outputs": [
        {
          "output_type": "execute_result",
          "data": {
            "text/plain": [
              "(array([   53,   112,   167,   173,   181,   196,   339,   572,   594,\n",
              "          779,   809,   817,   882,   924,   930,  1169,  1265,  1296,\n",
              "         1399,  1488,  1706,  1832,  1842,  1871,  1878,  1920,  2049,\n",
              "         2090,  2173,  2372,  2576,  2660,  2746,  2813,  2901,  3244,\n",
              "         3264,  3353,  3395,  3579,  3601,  3762,  3944,  4263,  4332,\n",
              "         4511,  4551,  4699,  4727,  4732,  4831,  5069,  5262,  5286,\n",
              "         5313,  5354,  5625,  5732,  5734,  5747,  5828,  5844,  5880,\n",
              "         6061,  6107,  6452,  6532,  6765,  6827,  6876,  6959,  7074,\n",
              "         7162,  7168,  7177,  7186,  7211,  7269,  7286,  7342,  7367,\n",
              "         7381,  7397,  7424,  7439,  7479,  7537,  7602,  7625,  7727,\n",
              "         7742,  7762,  8016,  8055,  8259,  8595,  8756,  8859,  8929,\n",
              "         9242,  9290,  9336,  9374,  9473,  9520,  9563,  9565,  9576,\n",
              "         9723,  9753,  9848,  9872,  9943,  9977, 10121, 10154, 10279,\n",
              "        10280, 10296, 10335, 10348, 10500, 10654, 10728, 10984, 11220,\n",
              "        11681, 11909, 11927, 11951, 12050, 12378, 12450, 12467, 12473,\n",
              "        12584, 12658, 12674, 12689, 12728, 12771, 12780, 12785, 12869,\n",
              "        12887, 12934, 12938, 12968, 13258, 13279, 13334, 13366, 13592,\n",
              "        13622, 13736, 13786, 13843, 13987, 14065, 14118, 14305, 14328,\n",
              "        14472, 14615, 14834, 14861, 14938, 14982, 15015, 15187, 15344,\n",
              "        15424, 15446, 15497, 15509, 15540, 15590, 15606, 16291, 16361,\n",
              "        16630, 16643, 16668, 16715, 16766, 16895, 16948, 17076, 17142,\n",
              "        17499, 17769, 17779, 17786, 17787, 17797, 18020, 18250, 18259,\n",
              "        18271, 18381, 18583, 18740, 19048, 19061, 19066, 19117, 19276,\n",
              "        19362, 19447, 19453, 19487, 19535, 19770, 19778, 19932, 19948,\n",
              "        19961, 20015, 20458, 20460, 20468, 20533, 20610, 20710, 20866,\n",
              "        20886, 20909, 20920, 21089, 21096, 21233, 21440, 21452, 21480,\n",
              "        21700, 21844, 21898, 22054, 22109, 22114, 22177, 22253, 22335,\n",
              "        22620, 22783, 22924, 23093, 23519, 23703, 23789, 23811, 24018,\n",
              "        24036, 24072, 24074, 24097, 24123, 24137, 24175, 24329, 24420,\n",
              "        24582, 24640, 24651, 24664, 24667, 24678, 24707, 24712, 24812,\n",
              "        24866]),)"
            ]
          },
          "metadata": {
            "tags": []
          },
          "execution_count": 246
        }
      ]
    },
    {
      "cell_type": "code",
      "metadata": {
        "id": "8VmnaSbmP9t-"
      },
      "source": [
        "words_good = pd.Series(vect.get_feature_names()).iloc[np.abs(freq_spoiler_norm - freq_non_spoiler_norm) > 0.01]"
      ],
      "execution_count": null,
      "outputs": []
    },
    {
      "cell_type": "code",
      "metadata": {
        "colab": {
          "base_uri": "https://localhost:8080/"
        },
        "id": "w65pu9tXYNfM",
        "outputId": "6ac035d9-0851-4d1d-e216-54dc73455cf0"
      },
      "source": [
        "words_good"
      ],
      "execution_count": null,
      "outputs": [
        {
          "output_type": "execute_result",
          "data": {
            "text/plain": [
              "178        actor\n",
              "1871       befor\n",
              "1878       begin\n",
              "2026        best\n",
              "4263        come\n",
              "5313       death\n",
              "5734         die\n",
              "6876         end\n",
              "6919       enjoy\n",
              "7742        film\n",
              "7762       final\n",
              "8929        good\n",
              "9117       great\n",
              "9563      happen\n",
              "9977          hi\n",
              "11927       kill\n",
              "12050       know\n",
              "12473       leav\n",
              "13334        man\n",
              "14511       movi\n",
              "16319    perform\n",
              "16766      point\n",
              "19048       save\n",
              "19117      scene\n",
              "20710    spoiler\n",
              "20909      start\n",
              "22099        thi\n",
              "22620        tri\n",
              "22783       turn\n",
              "23519        use\n",
              "24329        whi\n",
              "dtype: object"
            ]
          },
          "metadata": {
            "tags": []
          },
          "execution_count": 324
        }
      ]
    },
    {
      "cell_type": "code",
      "metadata": {
        "id": "KFcIOOWy_vwq"
      },
      "source": [
        "words = pd.Series(vect.get_feature_names()).iloc[np.abs(freq_spoiler - freq_non_spoiler) > 100]"
      ],
      "execution_count": null,
      "outputs": []
    },
    {
      "cell_type": "code",
      "metadata": {
        "id": "Nl55ZxeUJ_Za"
      },
      "source": [
        "vocabulary = {key : value for value, key in enumerate(words)}"
      ],
      "execution_count": null,
      "outputs": []
    },
    {
      "cell_type": "code",
      "metadata": {
        "id": "FQAwzIYhTUj4"
      },
      "source": [
        "vocabulary_good = {key : value for value, key in enumerate(words_good)}"
      ],
      "execution_count": null,
      "outputs": []
    },
    {
      "cell_type": "code",
      "metadata": {
        "colab": {
          "base_uri": "https://localhost:8080/"
        },
        "id": "DrmUnU0NYVNp",
        "outputId": "aed7fa9d-c354-48bf-eed6-e28d94a9924d"
      },
      "source": [
        "vocabulary_good['turn'], vocabulary_good['end']"
      ],
      "execution_count": null,
      "outputs": [
        {
          "output_type": "execute_result",
          "data": {
            "text/plain": [
              "(28, 7)"
            ]
          },
          "metadata": {
            "tags": []
          },
          "execution_count": 332
        }
      ]
    },
    {
      "cell_type": "code",
      "metadata": {
        "colab": {
          "base_uri": "https://localhost:8080/"
        },
        "id": "2ZRbVBeHKVH0",
        "outputId": "89ab8249-acfb-4a99-8b28-876eaa9edbbd"
      },
      "source": [
        "vect_1 = CountVectorizer(vocabulary=vocabulary_good)\n",
        "vect_1.fit(X_train)"
      ],
      "execution_count": null,
      "outputs": [
        {
          "output_type": "execute_result",
          "data": {
            "text/plain": [
              "CountVectorizer(analyzer='word', binary=False, decode_error='strict',\n",
              "                dtype=<class 'numpy.int64'>, encoding='utf-8', input='content',\n",
              "                lowercase=True, max_df=1.0, max_features=None, min_df=1,\n",
              "                ngram_range=(1, 1), preprocessor=None, stop_words=None,\n",
              "                strip_accents=None, token_pattern='(?u)\\\\b\\\\w\\\\w+\\\\b',\n",
              "                tokenizer=None,\n",
              "                vocabulary={'actor': 0, 'befor': 1, 'begin': 2, 'best': 3,\n",
              "                            'come': 4, 'death': 5, 'die': 6, 'end': 7,\n",
              "                            'enjoy': 8, 'film': 9, 'final': 10, 'good': 11,\n",
              "                            'great': 12, 'happen': 13, 'hi': 14, 'kill': 15,\n",
              "                            'know': 16, 'leav': 17, 'man': 18, 'movi': 19,\n",
              "                            'perform': 20, 'point': 21, 'save': 22, 'scene': 23,\n",
              "                            'spoiler': 24, 'start': 25, 'thi': 26, 'tri': 27,\n",
              "                            'turn': 28, 'use': 29, ...})"
            ]
          },
          "metadata": {
            "tags": []
          },
          "execution_count": 304
        }
      ]
    },
    {
      "cell_type": "code",
      "metadata": {
        "colab": {
          "base_uri": "https://localhost:8080/"
        },
        "id": "wEAkQSGTKyHt",
        "outputId": "dc0476ed-0c51-488f-e3c8-390892743397"
      },
      "source": [
        "bag_of_words = vect_1.transform(X_train)\n",
        "bag_of_words"
      ],
      "execution_count": null,
      "outputs": [
        {
          "output_type": "execute_result",
          "data": {
            "text/plain": [
              "<9000x31 sparse matrix of type '<class 'numpy.int64'>'\n",
              "\twith 74719 stored elements in Compressed Sparse Row format>"
            ]
          },
          "metadata": {
            "tags": []
          },
          "execution_count": 305
        }
      ]
    },
    {
      "cell_type": "code",
      "metadata": {
        "colab": {
          "base_uri": "https://localhost:8080/"
        },
        "id": "HNgfek2fLAAy",
        "outputId": "b9202d82-71f7-46fb-feb5-0f012c69e7fa"
      },
      "source": [
        "bag_of_words_norm = normalize(bag_of_words)\n",
        "bag_of_words_norm"
      ],
      "execution_count": null,
      "outputs": [
        {
          "output_type": "execute_result",
          "data": {
            "text/plain": [
              "<9000x31 sparse matrix of type '<class 'numpy.float64'>'\n",
              "\twith 74719 stored elements in Compressed Sparse Row format>"
            ]
          },
          "metadata": {
            "tags": []
          },
          "execution_count": 306
        }
      ]
    },
    {
      "cell_type": "code",
      "metadata": {
        "id": "usg8hCN0X2wB"
      },
      "source": [
        "bag_of_words_norm_dense = bag_of_words.todense()"
      ],
      "execution_count": null,
      "outputs": []
    },
    {
      "cell_type": "code",
      "metadata": {
        "colab": {
          "base_uri": "https://localhost:8080/"
        },
        "id": "JTNcdWr2YCHu",
        "outputId": "7e8cd65d-994f-486f-beac-769f4b61b7c9"
      },
      "source": [
        "bag_of_words_norm_dense.shape"
      ],
      "execution_count": null,
      "outputs": [
        {
          "output_type": "execute_result",
          "data": {
            "text/plain": [
              "(9000, 31)"
            ]
          },
          "metadata": {
            "tags": []
          },
          "execution_count": 342
        }
      ]
    },
    {
      "cell_type": "code",
      "metadata": {
        "colab": {
          "base_uri": "https://localhost:8080/"
        },
        "id": "YPPss69aYshB",
        "outputId": "4aa1e4b9-e12f-462a-a6ab-0ece9673b622"
      },
      "source": [
        "bag_of_words_norm_dense[:, 24].shape"
      ],
      "execution_count": null,
      "outputs": [
        {
          "output_type": "execute_result",
          "data": {
            "text/plain": [
              "(9000, 1)"
            ]
          },
          "metadata": {
            "tags": []
          },
          "execution_count": 328
        }
      ]
    },
    {
      "cell_type": "code",
      "metadata": {
        "colab": {
          "base_uri": "https://localhost:8080/"
        },
        "id": "UITSSvHxLHlS",
        "outputId": "bfe2eff0-39ab-4dd0-801f-bf0317ac48e6"
      },
      "source": [
        "bag_of_words_test = vect_1.transform(X_test)\n",
        "bag_of_words_test"
      ],
      "execution_count": null,
      "outputs": [
        {
          "output_type": "execute_result",
          "data": {
            "text/plain": [
              "<1000x31 sparse matrix of type '<class 'numpy.int64'>'\n",
              "\twith 8162 stored elements in Compressed Sparse Row format>"
            ]
          },
          "metadata": {
            "tags": []
          },
          "execution_count": 307
        }
      ]
    },
    {
      "cell_type": "code",
      "metadata": {
        "colab": {
          "base_uri": "https://localhost:8080/"
        },
        "id": "xmdyqWUlLdFp",
        "outputId": "5d01eff0-31ea-40f3-f1ea-7e4434285bb6"
      },
      "source": [
        "bag_of_words_test_norm = normalize(bag_of_words_test)\n",
        "bag_of_words_test_norm"
      ],
      "execution_count": null,
      "outputs": [
        {
          "output_type": "execute_result",
          "data": {
            "text/plain": [
              "<1000x31 sparse matrix of type '<class 'numpy.float64'>'\n",
              "\twith 8162 stored elements in Compressed Sparse Row format>"
            ]
          },
          "metadata": {
            "tags": []
          },
          "execution_count": 308
        }
      ]
    },
    {
      "cell_type": "code",
      "metadata": {
        "colab": {
          "base_uri": "https://localhost:8080/",
          "height": 279
        },
        "id": "Qp8bs93OLtqP",
        "outputId": "e1c61627-7e66-4837-d01c-04b2e2395d9a"
      },
      "source": [
        "parameters = {'C': [0.01, 0.03, 0.1, 0.3, 1.0, 3.0, 9.0, 100]}\n",
        "log_reg = LogisticRegression(max_iter=1000)         # Creating an instance of Scikit Learn LogisticRegression class\n",
        "grid_search = tune_parameters(log_reg, bag_of_words_norm, y_train, parameters, verbose=True)"
      ],
      "execution_count": null,
      "outputs": [
        {
          "output_type": "display_data",
          "data": {
            "image/png": "[encoded data removed]",
            "text/plain": [
              "<Figure size 432x288 with 1 Axes>"
            ]
          },
          "metadata": {
            "tags": [],
            "needs_background": "light"
          }
        }
      ]
    },
    {
      "cell_type": "code",
      "metadata": {
        "colab": {
          "base_uri": "https://localhost:8080/"
        },
        "id": "1vPcfh0tMLp3",
        "outputId": "81c47740-a04f-45aa-f45f-c773c674c100"
      },
      "source": [
        "log_reg_best = grid_search.best_estimator_\n",
        "evaluate_model(log_reg_best, bag_of_words_norm, bag_of_words_test_norm, y_train, y_test)"
      ],
      "execution_count": null,
      "outputs": [
        {
          "output_type": "stream",
          "text": [
            "Training accuracy: 0.6496666666666666\n",
            "Testing accuracy: 0.65\n",
            "Precision on test data: 0.676056338028169\n",
            "Recall on test data: 0.576\n",
            "f1 score on test data: 0.6220302375809934\n"
          ],
          "name": "stdout"
        }
      ]
    },
    {
      "cell_type": "code",
      "metadata": {
        "colab": {
          "base_uri": "https://localhost:8080/",
          "height": 313
        },
        "id": "slySmZ1eMUP0",
        "outputId": "b10b69db-b3a4-41e4-c4a0-1ba2f221d6aa"
      },
      "source": [
        "parameters = {'C': [0.01, 0.03, 0.1, 0.3, 1.0, 3.0, 9.0]}\n",
        "svm = LinearSVC(C=10, loss='hinge', max_iter=10000)\n",
        "grid_search = tune_parameters(svm, bag_of_words_norm, y_train, parameters, verbose=True)"
      ],
      "execution_count": null,
      "outputs": [
        {
          "output_type": "stream",
          "text": [
            "/usr/local/lib/python3.6/dist-packages/sklearn/svm/_base.py:947: ConvergenceWarning: Liblinear failed to converge, increase the number of iterations.\n",
            "  \"the number of iterations.\", ConvergenceWarning)\n"
          ],
          "name": "stderr"
        },
        {
          "output_type": "display_data",
          "data": {
            "image/png": "[encoded data removed]",
            "text/plain": [
              "<Figure size 432x288 with 1 Axes>"
            ]
          },
          "metadata": {
            "tags": [],
            "needs_background": "light"
          }
        }
      ]
    },
    {
      "cell_type": "code",
      "metadata": {
        "colab": {
          "base_uri": "https://localhost:8080/"
        },
        "id": "fe22jcaJMY3p",
        "outputId": "469561e1-87c8-4689-a08c-dd57a770f0ae"
      },
      "source": [
        "svm_best = grid_search.best_estimator_\n",
        "evaluate_model(svm_best, bag_of_words_norm, bag_of_words_test_norm, y_train, y_test)"
      ],
      "execution_count": null,
      "outputs": [
        {
          "output_type": "stream",
          "text": [
            "Training accuracy: 0.6465555555555556\n",
            "Testing accuracy: 0.641\n",
            "Precision on test data: 0.6766917293233082\n",
            "Recall on test data: 0.54\n",
            "f1 score on test data: 0.6006674082313681\n"
          ],
          "name": "stdout"
        }
      ]
    },
    {
      "cell_type": "code",
      "metadata": {
        "colab": {
          "base_uri": "https://localhost:8080/"
        },
        "id": "NrlcRMwrREYe",
        "outputId": "a152adfb-2bd6-40e2-deaf-5234d5879709"
      },
      "source": [
        "bag_of_words_norm"
      ],
      "execution_count": null,
      "outputs": [
        {
          "output_type": "execute_result",
          "data": {
            "text/plain": [
              "<9000x271 sparse matrix of type '<class 'numpy.float64'>'\n",
              "\twith 318757 stored elements in Compressed Sparse Row format>"
            ]
          },
          "metadata": {
            "tags": []
          },
          "execution_count": 293
        }
      ]
    },
    {
      "cell_type": "code",
      "metadata": {
        "id": "zOREv5ewXAzI"
      },
      "source": [
        ""
      ],
      "execution_count": null,
      "outputs": []
    },
    {
      "cell_type": "code",
      "metadata": {
        "id": "bClWCmedT2-X"
      },
      "source": [
        "import matplotlib.pyplot as plt\n",
        "from sklearn.manifold import TSNE"
      ],
      "execution_count": null,
      "outputs": []
    },
    {
      "cell_type": "code",
      "metadata": {
        "colab": {
          "base_uri": "https://localhost:8080/"
        },
        "id": "O-ti4GRvQsVK",
        "outputId": "5c136758-dbf5-49a4-cfe6-51241faaacde"
      },
      "source": [
        "svm = SVC(kernel=\"rbf\", gamma=1, C=1)\n",
        "svm.fit(bag_of_words_norm, y_train)"
      ],
      "execution_count": null,
      "outputs": [
        {
          "output_type": "execute_result",
          "data": {
            "text/plain": [
              "SVC(C=1, break_ties=False, cache_size=200, class_weight=None, coef0=0.0,\n",
              "    decision_function_shape='ovr', degree=3, gamma=1, kernel='rbf', max_iter=-1,\n",
              "    probability=False, random_state=None, shrinking=True, tol=0.001,\n",
              "    verbose=False)"
            ]
          },
          "metadata": {
            "tags": []
          },
          "execution_count": 300
        }
      ]
    },
    {
      "cell_type": "code",
      "metadata": {
        "colab": {
          "base_uri": "https://localhost:8080/"
        },
        "id": "vo4hVNC8RLPK",
        "outputId": "df3557ec-0697-4a27-a107-1d5e18f534d8"
      },
      "source": [
        "evaluate_model(svm, bag_of_words_norm, bag_of_words_test_norm, y_train, y_test)"
      ],
      "execution_count": null,
      "outputs": [
        {
          "output_type": "stream",
          "text": [
            "Training accuracy: 0.8395555555555556\n",
            "Testing accuracy: 0.641\n",
            "Precision on test data: 0.6584269662921348\n",
            "Recall on test data: 0.586\n",
            "f1 score on test data: 0.62010582010582\n"
          ],
          "name": "stdout"
        }
      ]
    },
    {
      "cell_type": "code",
      "metadata": {
        "colab": {
          "base_uri": "https://localhost:8080/"
        },
        "id": "fmVfs4yk_c3F",
        "outputId": "15fcabc2-aa7f-4506-dbcc-35559a5176af"
      },
      "source": [
        "(np.abs(freq_spoiler - freq_non_spoiler) > 200).sum()"
      ],
      "execution_count": null,
      "outputs": [
        {
          "output_type": "execute_result",
          "data": {
            "text/plain": [
              "88"
            ]
          },
          "metadata": {
            "tags": []
          },
          "execution_count": 243
        }
      ]
    },
    {
      "cell_type": "code",
      "metadata": {
        "colab": {
          "base_uri": "https://localhost:8080/"
        },
        "id": "Qz7_sGh8_lTk",
        "outputId": "c6ca07a2-1352-4c3e-8d69-77fe9047f651"
      },
      "source": [
        "(np.abs(freq_spoiler - freq_non_spoiler) > 300).sum()"
      ],
      "execution_count": null,
      "outputs": [
        {
          "output_type": "execute_result",
          "data": {
            "text/plain": [
              "36"
            ]
          },
          "metadata": {
            "tags": []
          },
          "execution_count": 244
        }
      ]
    }
  ]
}